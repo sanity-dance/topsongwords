{
 "nbformat": 4,
 "nbformat_minor": 2,
 "metadata": {
  "language_info": {
   "name": "python",
   "codemirror_mode": {
    "name": "ipython",
    "version": 3
   },
   "version": "3.7.3"
  },
  "orig_nbformat": 2,
  "file_extension": ".py",
  "mimetype": "text/x-python",
  "name": "python",
  "npconvert_exporter": "python",
  "pygments_lexer": "ipython3",
  "version": 3
 },
 "cells": [
  {
   "cell_type": "code",
   "execution_count": 1,
   "metadata": {},
   "outputs": [],
   "source": [
    "from bs4 import BeautifulSoup\n",
    "import requests\n",
    "import pandas as pd\n",
    "import numpy as np\n",
    "import nltk\n",
    "import string\n",
    "import re\n",
    "import time as t\n",
    "from nltk.tokenize import word_tokenize\n",
    "from nltk.corpus import stopwords\n",
    "from nltk.stem import PorterStemmer"
   ]
  },
  {
   "cell_type": "code",
   "execution_count": 2,
   "metadata": {},
   "outputs": [],
   "source": [
    "# The goal of this prototype is to fetch the lyrics of a specific song, in preparation for the full script that will iterate through the yearly data.\n",
    "\n",
    "songdata = pd.read_csv('data/2019top10songs.csv')"
   ]
  },
  {
   "cell_type": "code",
   "execution_count": 3,
   "metadata": {},
   "outputs": [
    {
     "name": "stdout",
     "output_type": "stream",
     "text": "https://www.azlyrics.com/lyrics/mariahcarey/alliwantforchristmasisyou.html\n"
    }
   ],
   "source": [
    "headers = {'User-Agent': 'Mozilla/5.0 (Windows NT 6.1) AppleWebKit/537.36 (KHTML, like Gecko) Chrome/41.0.2228.0 Safari/537.3'}\n",
    "cookies = { 'sessionid': '123..'}\n",
    "i = 0 # Set i to the position in the songdata datafrae you would like to examine.\n",
    "url = 'https://www.azlyrics.com/lyrics/'\n",
    "artist = songdata['Artist'][i] # artist1 and artist2 are the most common ways azlyrics represents artist names. artist1 removes spaces while artist2 replaces                                  them with a dash.\n",
    "artist1 = ''.join(artist.split()).lower().replace('\\'','').replace('!','').replace('.','').replace('+','').replace('ñ','n')\n",
    "artist2 = artist.lower().replace('\\'','').replace(' ','-').replace('!','').replace('.','').replace('+','').replace('ñ','n')\n",
    "artistl = []\n",
    "if ', ' in artist: # Handles cases where there are three listed artists.\n",
    "    artistl.append(artist1[:artist1.rfind(',')])\n",
    "    artistl.append(artist1[artist1.find(',')+1:artist1.rfind('and')])\n",
    "    artistl.append(artist1[artist1.rfind('and')+3:])\n",
    "elif ' and ' in artist: # Handles cases where there are two listed artists.\n",
    "    artistl.append(artist1[:artist1.rfind('and')])\n",
    "    artistl.append(artist2[:artist2.rfind('-and')])\n",
    "elif ' featuring ' in artist: # Handles cases where there is a featured artist.\n",
    "    artistl.append(artist1[:artist1.rfind('featuring')])\n",
    "    artistl.append(artist2[:artist2.rfind('featuring')])\n",
    "elif 'bts' in artist1: # Handles that one k-pop group.\n",
    "    artistl.append('bangtanboys')\n",
    "else: # Handles cases where there is one artist (which is most of them)\n",
    "    artistl.append(artist1)\n",
    "    artistl.append(artist2)\n",
    "    artist1[artist1.find('the')+3:] # Handles a rare case where Wikipedia includes a \"the\" in the artist name and azlyrics does not.\n",
    "# The first three entries of the above list are standard single artist titles. The next three handle cases of collaborations between two artists. The next four after that handle collaborations between three artists. The last entry handles a rare case where Wikipedia includes a \"the\" in the artist name and azlyrics does not.\n",
    "title = ''.join(songdata['Title'][i].split()).lower().replace('\\'','').replace(',','').replace('!','') # azlyrics seems to represent all song titles in the same way.\n",
    "titlel = [title, 'a' + title, 'the' + title] # However, there are very rare cases, such as 'Holly Jolly Christmas', where azlyrics includes an 'a' or a 'the' at the beginning of a song and Wikipedia does not. These cases will only be tested if all of the artist configurations fail.\n",
    "success = False\n",
    "for j in range(len(titlel)):\n",
    "    for k in range(len(artistl)):\n",
    "        if requests.get(url + artistl[k] + '/' + titlel[j] + '.html').status_code == 200:\n",
    "            html = requests.get(url + artistl[k] + '/' + titlel[j] + '.html',cookies=cookies,headers=headers).text\n",
    "            soup = BeautifulSoup(html, 'lxml')\n",
    "            print(url + artistl[k] + '/' + titlel[j] + '.html')\n",
    "            success = True\n",
    "            t.sleep(5)\n",
    "            break\n",
    "        t.sleep(5)\n",
    "    if success: # Escapes the outer loop when URL succeeds without using a second request.\n",
    "        break\n",
    "    if j == len(titlel) - 1:\n",
    "        print('Song ' + songdata['Title'][i] + ' by ' + artist + ' at position ' + str(i) + ' not found!')"
   ]
  },
  {
   "cell_type": "code",
   "execution_count": 4,
   "metadata": {},
   "outputs": [
    {
     "data": {
      "text/plain": "['mariahcarey', 'mariah-carey']"
     },
     "execution_count": 4,
     "metadata": {},
     "output_type": "execute_result"
    }
   ],
   "source": [
    "artistl"
   ]
  },
  {
   "cell_type": "code",
   "execution_count": 5,
   "metadata": {},
   "outputs": [],
   "source": [
    "my_text = soup.find('div',attrs={'class': None}).text.replace('\\n',' ')[3:] # Extract lyrics text from the azlyrics page and replace newlines with spaces. Also, eliminate the \\r tag and space at the beginning.\n",
    "try:\n",
    "    my_text = my_text[:my_text.rindex(\"[\")-1] # Remove miscellaneous notes at the end of lyrics.\n",
    "except ValueError:\n",
    "    my_text = my_text\n",
    "my_text = word_tokenize(my_text)\n",
    "my_text = [i.lower() for i in my_text if not re.fullmatch('[' + string.punctuation + ']+', i)] #Remove tokens that are just punctuation."
   ]
  },
  {
   "cell_type": "code",
   "execution_count": 6,
   "metadata": {},
   "outputs": [
    {
     "name": "stdout",
     "output_type": "stream",
     "text": "['i', 'do', \"n't\", 'want', 'a', 'lot', 'for', 'christma', 'there', 'is', 'just', 'one', 'thing', 'i', 'need', 'i', 'do', \"n't\", 'care', 'about', 'the', 'present', 'underneath', 'the', 'christma', 'tree', 'i', 'just', 'want', 'you', 'for', 'my', 'own', 'more', 'than', 'you', 'could', 'ever', 'know', 'make', 'my', 'wish', 'come', 'true', 'all', 'i', 'want', 'for', 'christma', 'is', 'you', 'yeah', 'i', 'do', \"n't\", 'want', 'a', 'lot', 'for', 'christma', 'there', 'is', 'just', 'one', 'thing', 'i', 'need', 'and', 'i', 'do', \"n't\", 'care', 'about', 'the', 'present', 'underneath', 'the', 'christma', 'tree', 'i', 'do', \"n't\", 'need', 'to', 'hang', 'my', 'stock', 'there', 'upon', 'the', 'fireplac', 'santa', 'clau', 'wo', \"n't\", 'make', 'me', 'happi', 'with', 'a', 'toy', 'on', 'christma', 'day', 'i', 'just', 'want', 'you', 'for', 'my', 'own', 'more', 'than', 'you', 'could', 'ever', 'know', 'make', 'my', 'wish', 'come', 'true', 'all', 'i', 'want', 'for', 'christma', 'is', 'you', 'you', 'babi', 'oh', 'i', 'wo', \"n't\", 'ask', 'for', 'much', 'thi', 'christma', 'i', 'wo', \"n't\", 'even', 'wish', 'for', 'snow', 'and', 'i', \"'m\", 'just', 'gon', 'na', 'keep', 'on', 'wait', 'underneath', 'the', 'mistleto', 'i', 'wo', \"n't\", 'make', 'a', 'list', 'and', 'send', 'it', 'to', 'the', 'north', 'pole', 'for', 'saint', 'nick', 'i', 'wo', \"n't\", 'even', 'stay', 'awak', 'to', 'hear', 'those', 'magic', 'reindeer', 'click', \"'caus\", 'i', 'just', 'want', 'you', 'here', 'tonight', 'hold', 'on', 'to', 'me', 'so', 'tight', 'what', 'more', 'can', 'i', 'do', 'babi', 'all', 'i', 'want', 'for', 'christma', 'is', 'you', 'you', 'babi', 'oh', 'all', 'the', 'light', 'are', 'shine', 'so', 'brightli', 'everywher', 'and', 'the', 'sound', 'of', 'children', \"'s\", 'laughter', 'fill', 'the', 'air', 'and', 'everyon', 'is', 'sing', 'i', 'hear', 'those', 'sleigh', 'bell', 'ring', 'santa', 'wo', \"n't\", 'you', 'bring', 'me', 'the', 'one', 'i', 'realli', 'need', 'wo', \"n't\", 'you', 'pleas', 'bring', 'my', 'babi', 'to', 'me', 'oh', 'i', 'do', \"n't\", 'want', 'a', 'lot', 'for', 'christma', 'thi', 'is', 'all', 'i', \"'m\", 'ask', 'for', 'i', 'just', 'wan', 'na', 'see', 'my', 'babi', 'stand', 'right', 'outsid', 'my', 'door', 'oh', 'i', 'just', 'want', 'you', 'for', 'my', 'own', 'more', 'than', 'you', 'could', 'ever', 'know', 'make', 'my', 'wish', 'come', 'true', 'babi', 'all', 'i', 'want', 'for', 'christma', 'is', 'you', 'you', 'babi', 'all', 'i', 'want', 'for', 'christma', 'is', 'you', 'babi']\n"
    }
   ],
   "source": [
    "port_stem = PorterStemmer() # The following code will stem the words in the lyrics. This means that, for example, \"stop\", \"stopping\", and \"stops\" will only count as one unique word.\n",
    "\n",
    "stem_text = []\n",
    "\n",
    "for i in range(len(my_text)):\n",
    "    stem_text.append(port_stem.stem(my_text[i]))\n",
    "\n",
    "print(stem_text)"
   ]
  },
  {
   "cell_type": "code",
   "execution_count": 7,
   "metadata": {},
   "outputs": [
    {
     "data": {
      "text/plain": "110"
     },
     "execution_count": 7,
     "metadata": {},
     "output_type": "execute_result"
    }
   ],
   "source": [
    "unique_count = len(set(stem_text))\n",
    "unique_count"
   ]
  },
  {
   "cell_type": "code",
   "execution_count": 8,
   "metadata": {},
   "outputs": [
    {
     "data": {
      "text/plain": "329"
     },
     "execution_count": 8,
     "metadata": {},
     "output_type": "execute_result"
    }
   ],
   "source": [
    "len(my_text)"
   ]
  },
  {
   "cell_type": "code",
   "execution_count": null,
   "metadata": {},
   "outputs": [],
   "source": []
  }
 ]
}