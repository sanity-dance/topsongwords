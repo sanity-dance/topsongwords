{
 "nbformat": 4,
 "nbformat_minor": 2,
 "metadata": {
  "language_info": {
   "name": "python",
   "codemirror_mode": {
    "name": "ipython",
    "version": 3
   },
   "version": "3.7.3"
  },
  "orig_nbformat": 2,
  "file_extension": ".py",
  "mimetype": "text/x-python",
  "name": "python",
  "npconvert_exporter": "python",
  "pygments_lexer": "ipython3",
  "version": 3
 },
 "cells": [
  {
   "cell_type": "code",
   "execution_count": 1,
   "metadata": {},
   "outputs": [],
   "source": [
    "from bs4 import BeautifulSoup\n",
    "import requests\n",
    "import pandas as pd\n",
    "import numpy as np\n",
    "import nltk\n",
    "import string\n",
    "import re\n",
    "from nltk.tokenize import word_tokenize\n",
    "from nltk.corpus import stopwords\n",
    "from nltk.stem import PorterStemmer"
   ]
  },
  {
   "cell_type": "code",
   "execution_count": 2,
   "metadata": {},
   "outputs": [],
   "source": [
    "# The goal of this prototype is to fetch the lyrics of a specific song, in preparation for the full script that will iterate through the yearly data.\n",
    "\n",
    "songdata = pd.read_csv('data/2019top10songs.csv')"
   ]
  },
  {
   "cell_type": "code",
   "execution_count": 56,
   "metadata": {},
   "outputs": [
    {
     "name": "stdout",
     "output_type": "stream",
     "text": "Song Heartless by The Weeknd at position 51 not found!\n"
    }
   ],
   "source": [
    "headers = {'User-Agent': 'Mozilla/5.0 (Windows NT 6.1) AppleWebKit/537.36 (KHTML, like Gecko) Chrome/41.0.2228.0 Safari/537.3'}\n",
    "cookies = { 'sessionid': '123..'}\n",
    "i = 51 # Set i to the position in the songdata datafrae you would like to examine.\n",
    "url = 'https://www.azlyrics.com/lyrics/'\n",
    "artist = songdata['Artist'][i] # artist1 and artist2 are the most common ways azlyrics represents artist names. artist1 removes spaces while artist2 replaces                                  them with a dash.\n",
    "artist1 = ''.join(artist.split()).lower().replace('\\'','').replace('!','').replace('.','').replace('+','')\n",
    "artist2 = artist.lower().replace('\\'','').replace('!','').replace('.','').replace('+','')\n",
    "artistl = [artist1, artist2, artist1[:artist1.rfind('and')], artist2[:artist2.rfind('-and')], artist1[:artist1.rfind('featuring')], artist2[:artist2.rfind('featuring')], artist1[:artist1.rfind(',')], artist1[artist1.find(',')+1:artist1.rfind('and')], artist1[artist1.rfind('and')+3:],artist1[artist1.find('the')+3:]]\n",
    "# The first three entries of the above list are standard single artist titles. The next three handle cases of collaborations between two artists. The next four after that handle collaborations between three artists. The last entry handles a rare case where Wikipedia includes a \"the\" in the artist name and azlyrics does not.\n",
    "title = ''.join(songdata['Title'][i].split()).lower().replace('\\'','').replace(',','').replace('!','') # azlyrics seems to represent all song titles in the same way.\n",
    "titlel = [title, 'a' + title, 'the' + title] # However, there are very rare cases, such as 'Holly Jolly Christmas', where azlyrics includes an 'a' or a 'the' at the beginning of a song and Wikipedia does not. These cases will only be tested if all of the artist configurations fail.\n",
    "for j in range(len(titlel)):\n",
    "    for k in range(len(artistl)):\n",
    "        if requests.get(url + artistl[k] + '/' + titlel[j] + '.html').status_code == 200:\n",
    "            html = requests.get(url + artistl[k] + '/' + titlel[j] + '.html',cookies=cookies,headers=headers).text\n",
    "            soup = BeautifulSoup(html, 'lxml')\n",
    "            print(url + artistl[k] + '/' + titlel[j] + '.html')\n",
    "            break\n",
    "    if requests.get(url + artistl[k] + '/' + titlel[j] + '.html').status_code == 200:\n",
    "        break\n",
    "    if 'bts' in artistl:\n",
    "        if requests.get(url + 'bangtanboys' + '/' + titlel[j] + '.html').status_code == 200:\n",
    "            html = requests.get(url + 'bangtanboys' + '/' + titlel[j] + '.html',cookies=cookies,headers=headers).text\n",
    "            soup = BeautifulSoup(html, 'lxml')\n",
    "            print(url + 'bangtanboys' + '/' + titlel[j] + '.html')\n",
    "            break\n",
    "    if j == len(titlel) - 1:\n",
    "        print('Song ' + songdata['Title'][i] + ' by ' + artist + ' at position ' + str(i) + ' not found!')"
   ]
  },
  {
   "cell_type": "code",
   "execution_count": 57,
   "metadata": {},
   "outputs": [
    {
     "data": {
      "text/plain": "['theweeknd',\n 'the weeknd',\n 'theweekn',\n 'the weekn',\n 'theweekn',\n 'the weekn',\n 'theweekn',\n 'theweekn',\n 'eweeknd']"
     },
     "execution_count": 57,
     "metadata": {},
     "output_type": "execute_result"
    }
   ],
   "source": [
    "artistl"
   ]
  },
  {
   "cell_type": "code",
   "execution_count": 51,
   "metadata": {},
   "outputs": [],
   "source": [
    "my_text = soup.find('div',attrs={'class': None}).text.replace('\\n',' ')[3:] # Extract lyrics text from the azlyrics page and replace newlines with spaces. Also, eliminate the \\r tag and space at the beginning.\n",
    "try:\n",
    "    my_text = my_text[:my_text.rindex(\"[\")-1] # Remove miscellaneous notes at the end of lyrics.\n",
    "except ValueError:\n",
    "    my_text = my_text\n",
    "my_text = word_tokenize(my_text)\n",
    "my_text = [i.lower() for i in my_text if not re.fullmatch('[' + string.punctuation + ']+', i)] #Remove tokens that are just punctuation."
   ]
  },
  {
   "cell_type": "code",
   "execution_count": 52,
   "metadata": {},
   "outputs": [
    {
     "name": "stdout",
     "output_type": "stream",
     "text": "['roman', 'modeun', 'ge', 'gunggeumha', 'how', \"'s\", 'your', 'day', 'oh', 'tell', 'me', 'oh', 'yah', 'oh', 'yah', 'oh', 'yah', 'oh', 'yah', 'mwoga', 'neol', 'haengbokhag', 'haneunji', 'oh', 'text', 'me', 'oh', 'yah', 'oh', 'yah', 'oh', 'yah', 'oh', 'yah', 'your', 'everi', 'pictur', 'nae', 'meorim', 'dugo', 'sipeo', 'oh', 'bae', 'come', 'be', 'my', 'teacher', 'ne', 'modeun', 'geol', 'da', 'gareuchyeojwo', 'your', '1', 'your', '2', 'listen', 'my', 'my', 'babi', 'naneun', 'jeo', 'haneureul', 'nopi', 'nalgo', 'isseo', 'geutta', 'niga', 'naeg', 'jwossdeon', 'du', 'nalgaero', 'ije', 'yeogin', 'neomu', 'nopa', 'nan', 'nae', 'nune', 'neol', 'majchugo', 'sipeo', 'yeah', 'you', 'makin', 'me', 'a', 'boy', 'with', 'luv', 'oh', 'my', 'my', 'my', 'oh', 'my', 'my', 'my', 'i', \"'ve\", 'wait', 'all', 'my', 'life', 'ne', 'jeonbureul', 'hamkkehago', 'sipeo', 'oh', 'my', 'my', 'my', 'oh', 'my', 'my', 'my', 'look', 'for', 'someth', 'right', 'ije', 'jogeumeun', 'na', 'algesseo', 'i', 'want', 'someth', 'stronger', 'than', 'a', 'moment', 'than', 'a', 'moment', 'love', 'i', 'have', 'wait', 'longer', 'for', 'a', 'boy', 'with', 'for', 'a', 'boy', 'with', 'luv', 'neol', 'alg', 'doen', 'ihu', 'ya', 'nae', 'salmeun', 'ontong', 'neo', 'ya', 'sasohan', 'ge', 'sasohaji', 'anhg', 'mandeureobeorin', 'neoraneun', 'byeol', 'hanabuteo', 'yeolkkaji', 'modeun', 'ge', 'teukbyeolhaji', 'neoui', 'gwansimsa', 'georeumgeori', 'maltuwa', 'sasohan', 'jageun', 'seupgwandeulkkaji', 'hope', 'world', 'da', 'malhaji', 'neomu', 'jakdeon', 'naega', 'yeongungi', 'doen', 'georago', 'oh', 'nah', 'nan', 'malhaji', 'unmyeong', 'ttawin', 'cheoeumbuteo', 'nae', 'ge', 'anieossdago', 'oh', 'nah', 'segyeui', 'pyeonghwa', 'no', 'way', 'geodaehan', 'jilseo', 'no', 'way', 'geujeo', 'neol', 'jikil', 'geoya', 'nan', 'boy', 'with', 'luv', 'listen', 'my', 'my', 'babi', 'naneun', 'jeo', 'haneureul', 'nopi', 'nalgo', 'isseo', 'geutta', 'niga', 'naeg', 'jwossdeon', 'du', 'nalgaero', 'ije', 'yeogin', 'neomu', 'nopa', 'nan', 'nae', 'nune', 'neol', 'majchugo', 'sipeo', 'yeah', 'you', 'makin', 'me', 'a', 'boy', 'with', 'luv', 'oh', 'my', 'my', 'my', 'oh', 'my', 'my', 'my', 'you', 'got', 'me', 'high', 'so', 'fast', 'ne', 'jeonbureul', 'hamkkehago', 'sipeo', 'oh', 'my', 'my', 'my', 'oh', 'my', 'my', 'my', 'you', 'got', 'me', 'fli', 'so', 'fast', 'ije', 'jogeumeun', 'na', 'algesseo', 'love', 'is', 'noth', 'stronger', 'i', 'want', 'it', 'than', 'a', 'boy', 'with', 'than', 'a', 'boy', 'with', 'luv', 'love', 'is', 'noth', 'stronger', 'than', 'a', 'boy', 'with', 'than', 'a', 'boy', 'with', 'luv', 'tuk', 'kkanohgo', 'malhalg', 'nado', 'moreug', 'himi', 'deureogagido', 'haesseo', 'nopabeorin', 'sky', 'keojyeobeorin', 'hall', 'ttaeron', 'domangchig', 'haedallamyeo', 'gidohaesseo', 'but', 'neoui', 'sangcheoneun', 'naui', 'sangcheo', 'kkaedarasseul', 'ttae', 'na', 'dajimhaessdeongeol', 'niga', 'jun', 'ikaruseuui', 'nalgaero', 'taeyangi', 'anin', 'neoegero', 'let', 'me', 'fli', 'oh', 'my', 'my', 'my', 'oh', 'my', 'my', 'my', 'i', \"'ve\", 'wait', 'all', 'my', 'life', 'ne', 'jeonbureul', 'hamkkehago', 'sipeo', 'oh', 'my', 'my', 'my', 'oh', 'my', 'my', 'my', 'look', 'for', 'someth', 'right', 'ije', 'jogeumeun', 'na', 'algesseo', 'i', 'want', 'someth', 'stronger', 'than', 'a', 'moment', 'than', 'a', 'moment', 'love', 'love', 'is', 'noth', 'stronger', 'than', 'a', 'boy', 'with', 'than', 'a', 'boy', 'with', 'luv', 'korean', 'ëª¨ë\\x93', 'ê²\\x8c', 'ê¶\\x81ê¸\\x88í\\x95´', 'how', \"'s\", 'your', 'day', 'oh', 'tell', 'me', 'oh', 'yah', 'oh', 'yah', 'oh', 'yah', 'oh', 'yah', 'ë\\xad\\x90ê°\\x80', 'ë\\x84\\x90', 'í\\x96\\x89ë³µí\\x95\\x98ê²\\x8c', 'í\\x95\\x98ë\\x8a\\x94ì§\\x80', 'oh', 'text', 'me', 'oh', 'yah', 'oh', 'yah', 'oh', 'yah', 'oh', 'yah', 'your', 'everi', 'pictur', 'ë\\x82´', 'ë¨¸ë¦¬ë§¡ì\\x97\\x90', 'ë\\x91\\x90ê³', 'ì\\x8b¶ì\\x96´', 'oh', 'bae', 'come', 'be', 'my', 'teacher', 'ë\\x84¤', 'ëª¨ë\\x93', 'ê±¸', 'ë\\x8b¤', 'ê°\\x80ë¥´ì³\\x90ì¤\\x98', 'your', '1', 'your', '2', 'listen', 'my', 'my', 'babi', 'ë\\x82\\x98ë\\x8a\\x94', 'ì', '\\x80', 'í\\x95\\x98ë\\x8a\\x98ì\\x9d\\x84', 'ë\\x86\\x92ì\\x9d´', 'ë\\x82', 'ê³', 'ì\\x9e\\x88ì\\x96´', 'ê·¸ë\\x95\\x8c', 'ë\\x8b\\x88ê°\\x80', 'ë\\x82´ê²\\x8c', 'ì¤¬ë\\x8d\\x98', 'ë\\x91\\x90', 'ë\\x82', 'ê°\\x9cë¡\\x9c', 'ì\\x9d´ì', '\\x9c', 'ì\\x97¬ê¸´', 'ë\\x84\\x88ë¬´', 'ë\\x86\\x92ì\\x95\\x84', 'ë\\x82\\x9c', 'ë\\x82´', 'ë\\x88\\x88ì\\x97\\x90', 'ë\\x84\\x90', 'ë§\\x9eì¶\\x94ê³', 'ì\\x8b¶ì\\x96´', 'yeah', 'you', 'makin', 'me', 'a', 'boy', 'with', 'luv', 'oh', 'my', 'my', 'my', 'oh', 'my', 'my', 'my', 'i', \"'ve\", 'wait', 'all', 'my', 'life', 'ë\\x84¤', 'ì', '\\x84ë¶\\x80ë¥¼', 'í\\x95¨ê', '»', '\\x98í\\x95\\x98ê³', 'ì\\x8b¶ì\\x96´', 'oh', 'my', 'my', 'my', 'oh', 'my', 'my', 'my', 'look', 'for', 'someth', 'right', 'ì\\x9d´ì', '\\x9c', 'ì¡°ê¸\\x88ì\\x9d\\x80', 'ë\\x82\\x98', 'ì\\x95\\x8cê²', 'ì\\x96´', 'i', 'want', 'someth', 'stronger', 'i', 'want', 'it', 'than', 'a', 'moment', 'than', 'a', 'moment', 'love', 'i', 'have', 'wait', 'longer', 'for', 'a', 'boy', 'with', 'for', 'a', 'boy', 'with', 'luv', 'ë\\x84\\x90', 'ì\\x95\\x8cê²\\x8c', 'ë\\x90\\x9c', 'ì\\x9d´í\\x9b\\x84', 'ya', 'ë\\x82´', 'ì\\x82¶ì\\x9d\\x80', 'ì\\x98¨í\\x86µ', 'ë\\x84\\x88', 'ya', 'ì\\x82¬ì\\x86\\x8cí\\x95\\x9c', 'ê²\\x8c', 'ì\\x82¬ì\\x86\\x8cí\\x95\\x98ì§\\x80', 'ì\\x95\\x8aê²\\x8c', 'ë§\\x8cë\\x93¤ì\\x96´ë²\\x84ë¦°', 'ë\\x84\\x88ë\\x9d¼ë\\x8a\\x94', 'ë³\\x84', 'í\\x95\\x98ë\\x82\\x98ë¶\\x80í\\x84°', 'ì\\x97´ê¹\\x8cì§\\x80', 'ëª¨ë\\x93', 'ê²\\x8c', 'í\\x8a¹ë³\\x84í\\x95\\x98ì§\\x80', 'ë\\x84\\x88ì\\x9d\\x98', 'ê´\\x80ì\\x8b¬ì\\x82¬', 'ê±¸ì\\x9d\\x8cê±¸ì\\x9d´', 'ë§\\x90í\\x88¬ì\\x99\\x80', 'ì\\x82¬ì\\x86\\x8cí\\x95\\x9c', 'ì\\x9e\\x91ì\\x9d\\x80', 'ì\\x8aµê´\\x80ë\\x93¤ê¹\\x8cì§\\x80', 'ë\\x8b¤', 'ë§\\x90í\\x95\\x98ì§\\x80', 'ë\\x84\\x88ë¬´', 'ì\\x9e\\x91ë\\x8d\\x98', 'ë\\x82´ê°\\x80', 'ì\\x98\\x81ì\\x9b', 'ì\\x9d´', 'ë\\x90\\x9c', 'ê±°ë\\x9d¼ê³', 'oh', 'nah', 'ë\\x82\\x9c', 'ë§\\x90í\\x95\\x98ì§\\x80', 'ì\\x9a´ëª', 'ë\\x94°ì\\x9c\\x88', 'ì²\\x98ì\\x9d\\x8cë¶\\x80í\\x84°', 'ë\\x82´', 'ê²\\x8c', 'ì\\x95\\x84ë\\x8b\\x88ì\\x97\\x88ë\\x8b¤ê³', 'oh', 'nah', 'ì\\x84¸ê³\\x84ì\\x9d\\x98', 'í\\x8f\\x89í\\x99\\x94', 'no', 'way', 'ê±°ë\\x8c\\x80í\\x95\\x9c', 'ì§\\x88ì\\x84\\x9c', 'no', 'way', 'ê·¸ì', '\\x80', 'ë\\x84\\x90', 'ì§\\x80í\\x82¬', 'ê±°ì\\x95¼', 'ë\\x82\\x9c', 'boy', 'with', 'luv', 'listen', 'my', 'my', 'babi', 'ë\\x82\\x98ë\\x8a\\x94', 'ì', '\\x80', 'í\\x95\\x98ë\\x8a\\x98ì\\x9d\\x84', 'ë\\x86\\x92ì\\x9d´', 'ë\\x82', 'ê³', 'ì\\x9e\\x88ì\\x96´', 'ê·¸ë\\x95\\x8c', 'ë\\x8b\\x88ê°\\x80', 'ë\\x82´ê²\\x8c', 'ì¤¬ë\\x8d\\x98', 'ë\\x91\\x90', 'ë\\x82', 'ê°\\x9cë¡\\x9c', 'ì\\x9d´ì', '\\x9c', 'ì\\x97¬ê¸´', 'ë\\x84\\x88ë¬´', 'ë\\x86\\x92ì\\x95\\x84', 'ë\\x82\\x9c', 'ë\\x82´', 'ë\\x88\\x88ì\\x97\\x90', 'ë\\x84\\x90', 'ë§\\x9eì¶\\x94ê³', 'ì\\x8b¶ì\\x96´', 'yeah', 'you', 'makin', 'me', 'a', 'boy', 'with', 'luv', 'oh', 'my', 'my', 'my', 'oh', 'my', 'my', 'my', 'you', 'got', 'me', 'high', 'so', 'fast', 'ë\\x84¤', 'ì', '\\x84ë¶\\x80ë¥¼', 'í\\x95¨ê', '»', '\\x98í\\x95\\x98ê³', 'ì\\x8b¶ì\\x96´', 'oh', 'my', 'my', 'my', 'oh', 'my', 'my', 'my', 'you', 'got', 'me', 'fli', 'so', 'fast', 'ì\\x9d´ì', '\\x9c', 'ì¡°ê¸\\x88ì\\x9d\\x80', 'ë\\x82\\x98', 'ì\\x95\\x8cê²', 'ì\\x96´', 'love', 'is', 'noth', 'stronger', 'i', 'want', 'it', 'than', 'a', 'boy', 'with', 'than', 'a', 'boy', 'with', 'luv', 'love', 'is', 'noth', 'stronger', 'than', 'a', 'boy', 'with', 'than', 'a', 'boy', 'with', 'luv', 'í\\x88\\xad', 'ê¹\\x8cë\\x86\\x93ê³', 'ë§\\x90í\\x95', 'ê²\\x8c', 'ë\\x82\\x98ë\\x8f\\x84', 'ëª¨ë¥´ê²\\x8c', 'í\\x9e\\x98ì\\x9d´', 'ë\\x93¤ì\\x96´ê°\\x80ê¸°ë\\x8f\\x84', 'í\\x96\\x88ì\\x96´', 'ë\\x86\\x92ì\\x95\\x84ë²\\x84ë¦°', 'sky', 'ì', '»', '¤ì', '¸ë²\\x84ë¦°', 'hall', 'ë\\x95\\x8cë¡', 'ë\\x8f\\x84ë§\\x9dì¹\\x98ê²\\x8c', 'í\\x95´ë\\x8b¬ë\\x9d¼ë©°', 'ê¸°ë\\x8f\\x84í\\x96\\x88ì\\x96´', 'but', 'ë\\x84\\x88ì\\x9d\\x98', 'ì\\x83\\x81ì²\\x98ë\\x8a\\x94', 'ë\\x82\\x98ì\\x9d\\x98', 'ì\\x83\\x81ì²\\x98', 'ê¹¨ë\\x8b¬ì\\x95\\x98ì\\x9d\\x84', 'ë\\x95\\x8c', 'ë\\x82\\x98', 'ë\\x8b¤ì§\\x90í\\x96\\x88ë\\x8d\\x98ê±¸', 'ë\\x8b\\x88ê°\\x80', 'ì¤\\x80', 'ì\\x9d´ì¹´ë£¨ì\\x8a¤ì\\x9d\\x98', 'ë\\x82', 'ê°\\x9cë¡\\x9c', 'í\\x83\\x9cì\\x96\\x91ì\\x9d´', 'ì\\x95\\x84ë\\x8b\\x8c', 'ë\\x84\\x88ì\\x97\\x90ê²\\x8cë¡\\x9c', 'let', 'me', 'fli', 'oh', 'my', 'my', 'my', 'oh', 'my', 'my', 'my', 'i', \"'ve\", 'wait', 'all', 'my', 'life', 'ë\\x84¤', 'ì', '\\x84ë¶\\x80ë¥¼', 'í\\x95¨ê', '»', '\\x98í\\x95\\x98ê³', 'ì\\x8b¶ì\\x96´', 'oh', 'my', 'my', 'my', 'oh', 'my', 'my', 'my', 'look', 'for', 'someth', 'right', 'ì\\x9d´ì', '\\x9c', 'ì¡°ê¸\\x88ì\\x9d\\x80', 'ë\\x82\\x98', 'ì\\x95\\x8cê²', 'ì\\x96´', 'i', 'want', 'someth', 'stronger', 'i', 'want', 'it', 'than', 'a', 'moment', 'than', 'a', 'moment', 'love', 'love', 'is', 'noth', 'stronger', 'than', 'a', 'boy', 'with', 'than', 'a', 'boy', 'with', 'luv']\n"
    }
   ],
   "source": [
    "port_stem = PorterStemmer() # The following code will stem the words in the lyrics. This means that, for example, \"stop\", \"stopping\", and \"stops\" will only count as one unique word.\n",
    "\n",
    "stem_text = []\n",
    "\n",
    "for i in range(len(my_text)):\n",
    "    stem_text.append(port_stem.stem(my_text[i]))\n",
    "\n",
    "print(stem_text)"
   ]
  },
  {
   "cell_type": "code",
   "execution_count": 53,
   "metadata": {},
   "outputs": [
    {
     "data": {
      "text/plain": "273"
     },
     "execution_count": 53,
     "metadata": {},
     "output_type": "execute_result"
    }
   ],
   "source": [
    "unique_count = len(set(stem_text))\n",
    "unique_count"
   ]
  },
  {
   "cell_type": "code",
   "execution_count": 54,
   "metadata": {},
   "outputs": [
    {
     "data": {
      "text/plain": "848"
     },
     "execution_count": 54,
     "metadata": {},
     "output_type": "execute_result"
    }
   ],
   "source": [
    "len(my_text)"
   ]
  },
  {
   "cell_type": "code",
   "execution_count": null,
   "metadata": {},
   "outputs": [],
   "source": []
  }
 ]
}