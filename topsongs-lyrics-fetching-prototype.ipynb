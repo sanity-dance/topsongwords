{
 "nbformat": 4,
 "nbformat_minor": 2,
 "metadata": {
  "language_info": {
   "name": "python",
   "codemirror_mode": {
    "name": "ipython",
    "version": 3
   },
   "version": "3.7.3"
  },
  "orig_nbformat": 2,
  "file_extension": ".py",
  "mimetype": "text/x-python",
  "name": "python",
  "npconvert_exporter": "python",
  "pygments_lexer": "ipython3",
  "version": 3
 },
 "cells": [
  {
   "cell_type": "code",
   "execution_count": 1,
   "metadata": {},
   "outputs": [],
   "source": [
    "from bs4 import BeautifulSoup\n",
    "import requests\n",
    "import pandas as pd\n",
    "import numpy as np\n",
    "import nltk\n",
    "import string\n",
    "import re\n",
    "import time as t\n",
    "from nltk.tokenize import word_tokenize\n",
    "from nltk.corpus import stopwords\n",
    "from nltk.stem import PorterStemmer"
   ]
  },
  {
   "cell_type": "code",
   "execution_count": 2,
   "metadata": {},
   "outputs": [],
   "source": [
    "# The goal of this prototype is to fetch the lyrics of a specific song, in preparation for the full script that will iterate through the yearly data.\n",
    "\n",
    "songdata = pd.read_csv('data/2019top10songs.csv')"
   ]
  },
  {
   "cell_type": "code",
   "execution_count": 3,
   "metadata": {},
   "outputs": [
    {
     "name": "stdout",
     "output_type": "stream",
     "text": "['liluzivert', 'lil-uzi-vert', 'luzivert']\n['futsalshuffle', 'futsalshuffle2020', 'afutsalshuffle2020', 'thefutsalshuffle2020']\n"
    }
   ],
   "source": [
    "headers = {'User-Agent': 'Mozilla/5.0 (Windows NT 6.1) AppleWebKit/537.36 (KHTML, like Gecko) Chrome/41.0.2228.0 Safari/537.3'}\n",
    "cookies = { 'sessionid': '123..'}\n",
    "i = 53 # Set i to the position in the songdata datafrae you would like to examine.\n",
    "url = 'https://www.azlyrics.com/lyrics/'\n",
    "artist = songdata['Artist'][i] # artist1 and artist2 are the most common ways azlyrics represents artist names. artist1 removes spaces while artist2 replaces                                  them with a dash.\n",
    "artist1 = ''.join(artist.split()).lower().replace('\\'','').replace('!','').replace('.','').replace('+','').replace('ñ','n').replace('é','e')\n",
    "artist2 = artist.lower().replace('\\'','').replace(' ','-').replace('!','').replace('.','').replace('+','').replace('ñ','n').replace('é','e')\n",
    "artistl = []\n",
    "if ', ' in artist: # Handles cases where there are three listed artists.\n",
    "    artistl.append(artist1[:artist1.rfind(',')])\n",
    "    artistl.append(artist1[artist1.find(',')+1:artist1.rfind('and')])\n",
    "    artistl.append(artist1[artist1.rfind('and')+3:])\n",
    "elif ' and ' in artist: # Handles cases where there are two listed artists.\n",
    "    artistl.append(artist1[:artist1.rfind('and')])\n",
    "    artistl.append(artist2[:artist2.rfind('-and')])\n",
    "    if ' featuring ' in artist: # Handles a case with multiple featured artists.\n",
    "        artistl.append(artist1[:artist1.rfind('featuring')])\n",
    "        artistl.append(artist2[:artist2.rfind('featuring')])\n",
    "    artistl.append(artist1) # Cases where 'and' is in the artist name, ex. 'Tones and I'\n",
    "elif 'bts' in artist1: # Handles that one k-pop group.\n",
    "    artistl.append('bangtanboys')\n",
    "elif ' featuring ' in artist: # Handles cases where there is a featured artist.\n",
    "    artistl.append(artist1[:artist1.rfind('featuring')])\n",
    "    artistl.append(artist2[:artist2.rfind('featuring')])\n",
    "else: # Handles cases where there is one artist (which is most of them)\n",
    "    artistl.append(artist1)\n",
    "    artistl.append(artist2)\n",
    "    artistl.append(artist1[artist1.find('the')+3:]) # Handles a rare case where Wikipedia includes a \"the\" in the artist name and azlyrics does not.\n",
    "# The first three entries of the above list are standard single artist titles. The next three handle cases of collaborations between two artists. The next four after that handle collaborations between three artists. The last entry handles a rare case where Wikipedia includes a \"the\" in the artist name and azlyrics does not.\n",
    "title = ''.join(songdata['Title'][i].split()).lower().replace('\\'','').replace(',','').replace('!','').replace('ñ','n').replace('é','e') # azlyrics seems to represent all song titles in the same way.\n",
    "titlel = [title, 'a' + title, 'the' + title] # However, there are very rare cases, such as 'Holly Jolly Christmas', where azlyrics includes an 'a' or a 'the' at the beginning of a song and Wikipedia does not. These cases will only be tested if all of the artist configurations fail.\n",
    "if 'futsal' in title:\n",
    "    titlel.insert(0,'futsalshuffle')\n",
    "print(artistl)\n",
    "print(titlel)"
   ]
  },
  {
   "cell_type": "code",
   "execution_count": 4,
   "metadata": {},
   "outputs": [
    {
     "name": "stdout",
     "output_type": "stream",
     "text": "https://www.azlyrics.com/lyrics/liluzivert/futsalshuffle.html\n"
    }
   ],
   "source": [
    "success = False\n",
    "for j in range(len(titlel)):\n",
    "    for k in range(len(artistl)):\n",
    "        if requests.get(url + artistl[k] + '/' + titlel[j] + '.html').status_code == 200:\n",
    "            html = requests.get(url + artistl[k] + '/' + titlel[j] + '.html',cookies=cookies,headers=headers).text\n",
    "            soup = BeautifulSoup(html, 'lxml')\n",
    "            print(url + artistl[k] + '/' + titlel[j] + '.html')\n",
    "            success = True\n",
    "            t.sleep(3)\n",
    "            break\n",
    "        t.sleep(3)\n",
    "    if success: # Escapes the outer loop when URL succeeds without using a second request.\n",
    "        break\n",
    "    if j == len(titlel) - 1:\n",
    "        print('Song ' + songdata['Title'][i] + ' by ' + artist + ' at position ' + str(i) + ' not found!')"
   ]
  },
  {
   "cell_type": "code",
   "execution_count": 5,
   "metadata": {},
   "outputs": [
    {
     "data": {
      "text/plain": "['liluzivert', 'lil-uzi-vert', 'luzivert']"
     },
     "execution_count": 5,
     "metadata": {},
     "output_type": "execute_result"
    }
   ],
   "source": [
    "artistl"
   ]
  },
  {
   "cell_type": "code",
   "execution_count": 6,
   "metadata": {},
   "outputs": [],
   "source": [
    "my_text = soup.find('div',attrs={'class': None}).text.replace('\\n',' ')[3:] # Extract lyrics text from the azlyrics page and replace newlines with spaces. Also, eliminate the \\r tag and space at the beginning.\n",
    "# try:\n",
    "#     my_text = my_text[:my_text.rindex(\"[\")-1] # Remove miscellaneous notes at the end of lyrics.\n",
    "# except ValueError:\n",
    "#     my_text = my_text\n",
    "my_text = word_tokenize(my_text)\n",
    "my_text = [i.lower() for i in my_text if not re.fullmatch('[' + string.punctuation + ']+', i)] #Remove tokens that are just punctuation."
   ]
  },
  {
   "cell_type": "code",
   "execution_count": 7,
   "metadata": {},
   "outputs": [
    {
     "name": "stdout",
     "output_type": "stream",
     "text": "['yo', 'sing', 'thi', 'shit', 'are', \"y'all\", 'fuckin', 'dumb', 'etern', 'atak', 'got', 'ta', 'shoot', 'two', 'at', 'her', 'got', 'ta', 'shoot', 'two', 'at', 'her', 'blue', 'cheddar', 'that', 'girl', 'she', 'got', 'with', 'my', 'clone', 'i', 'told', 'that', 'lil', 'girl', 'she', 'got', 'ta', 'just', 'do', 'better', 'are', 'you', 'seriou', 'i', 'swear', 'my', 'money', 'is', 'seriou', 'okay', 'all', 'my', 'check', 'i', 'just', 'be', 'clear', 'it', 'she', 'suck', 'my', 'dick', 'till', 'she', 'get', 'deliri', 'okay', 'jump', 'on', 'the', 'jet', 'so', 'i', \"'m\", 'clear', 'it', 'okay', 'port', 'but', 'i', \"'m\", 'not', 'talk', 'new', 'okay', 'smoke', 'that', 'boy', 'just', 'like', 'a', 'cigarett', 'if', 'that', 'boy', 'tri', 'to', 'make', 'a', 'fals', 'move', 'uh', 'i', \"'m\", 'on', 'some', 'whole', 'other', 'shit', 'i', 'got', 'a', 'whole', \"'nother\", 'rich', 'i', \"'m\", 'on', 'a', 'new', 'level', 'i', 'wa', 'fuckin', 'on', 'your', 'bitch', 'she', 'wa', 'ridin', 'on', 'my', 'dick', 'she', 'ai', \"n't\", 'need', 'two', 'pedal', 'i', 'swear', 'these', 'nigga', 'they', 'bitch', 'i', 'swear', 'they', 'all', 'gon', 'na', 'snitch', 'when', 'my', 'nigga', 'gon', 'shoot', 'at', \"'em\", 'nigga', 'they', 'mad', 'about', 'thi', 'nigga', 'they', 'mad', 'about', 'that', 'about', 'that', 'but', 'it', \"'s\", 'onli', 'if', 'you', 'let', \"'em\", 'she', 'save', 'my', 'name', 'in', 'her', 'phone', 'onli', 'thing', 'she', 'save', 'me', 'under', 'is', 'prolli', 'the', 'u', 'letter', 'no', 'i', 'do', \"n't\", 'got', 'provolon', 'onli', 'thing', 'in', 'my', 'pocket', 'is', 'prolli', 'um', 'some', 'blue', 'cheddar', 'she', 'tri', 'to', 'leav', 'me', 'alon', 'then', 'she', 'got', 'right', 'with', 'my', 'clone', 'man', 'i', 'hope', 'that', 'she', 'do', 'better', 'i', 'know', 'it', \"'s\", 'blue', 'chees', 'on', 'me', 'but', 'when', 'i', 'got', '50', 'on', 'me', 'i', 'call', 'that', 'shit', 'loos', 'cheddar', 'jeremi', 'scott', \"'s\", 'all', 'on', 'my', 'feet', 'i', 'had', 'a', 'cougar', 'with', 'me', 'so', 'i', 'call', 'that', 'girl', 'coretta', 'i', 'am', 'the', 'richest', 'nigga', 'in', 'my', 'citi', 'i', 'can', 'make', 'it', 'rain', 'like', 'no', 'matter', 'what', \"'s\", 'the', 'weather', 'i', 'know', 'that', 'girl', 'she', 'got', 'swag', 'but', 'when', 'it', 'come', 'to', 'put', 'it', 'togeth', 'she', 'could', 'do', 'better', 'i', 'sent', 'that', 'girl', 'a', 'dm', 'she', 'did', \"n't\", 'answer', 'me', 'so', 'you', 'know', 'that', 'i', 'got', 'ta', 'shoot', 'two', 'at', 'her', 'yeah', 'got', 'ta', 'shoot', 'two', 'at', 'her', 'yeah', 'i', 'got', 'ta', 'shoot', 'two', 'at', 'her', 'go', 'i', 'stay', 'with', 'the', 'blue', 'cheddar', 'whoa', 'that', 'girl', 'she', 'got', 'with', 'my', 'clone', 'i', 'told', 'that', 'lil', 'girl', 'that', 'she', 'got', 'ta', 'just', 'do', 'better', 'are', 'you', 'seriou', 'i', 'swear', 'my', 'money', 'is', 'seriou', 'okay', 'all', 'my', 'check', 'i', 'just', 'be', 'clear', 'it', 'she', 'suck', 'my', 'dick', 'till', 'she', 'get', 'deliri', 'okay', 'jump', 'on', 'the', 'jet', 'so', 'i', \"'m\", 'clear', 'it', 'okay', 'port', 'but', 'i', \"'m\", 'not', 'talk', 'new', 'okay', 'smoke', 'that', 'boy', 'just', 'like', 'a', 'cigarett', 'if', 'that', 'boy', 'tri', 'to', 'make', 'a', 'fals', 'move', 'whoa', 'they', 'tri', 'to', 'cut', 'me', 'down', 'when', 'they', 'say', 'i', \"'m\", 'too', 'low', 'cu', 'turn', 'me', 'up', 'i', 'said', 'turn', 'me', 'up', 'i', 'can', 'not', 'hear', 'my', 'flow', 'whoa', 'i', 'ai', \"n't\", 'never', 'been', 'no', 'fool', 'do', 'what', 'i', 'want', \"i'ma\", 'bend', 'your', 'rule', \"i'ma\", 'take', 'the', 'dub', \"i'ma\", 'win', 'i', 'ai', \"n't\", 'ever', 'been', 'no', 'type', 'that', 'lose', 'born', 'like', 'thi', 'i', 'ai', \"n't\", 'did', 'no', 'studi', 'everyth', 'i', 'got', 'man', 'i', 'got', 'it', 'in', 'a', 'hurri', 'if', 'i', 'love', 'you', 'better', 'say', 'that', 'you', 'love', 'me', 'and', 'if', 'i', 'trust', 'you', 'better', 'say', 'that', 'you', 'trust', 'me', 'talk', \"'bout\", 'the', 'bag', 'the', 'moula', 'the', 'guap', 'i', \"'m\", 'at', 'the', 'bank', 'onli', 'time', 'that', 'i', \"'m\", 'run', 'i', 'said', 'i', \"'m\", 'on', 'the', 'road', 'no', 'i', 'can', 'not', 'stop', 'i', \"'m\", 'run', 'through', 'obstacl', 'i', \"'m\", 'in', 'a', 'hurri', 'whoa', 'stop', 'that', 'told', 'a', 'fuck', 'nigga', 'just', 'drop', 'that', 'if', 'he', 'shoot', 'first', 'we', 'gon', 'pop', 'back', 'margiela', 'on', 'me', 'lil', 'nigga', 'that', \"'s\", 'not', 'that', 'what', 'you', 'got', 'on', 'prada', 'sweatsuit', 'made', 'of', 'nylon', 'see', 'my', 'righteou', 'girl', 'yeah', 'she', 'say', 'right', 'on', 'when', 'i', 'hit', 'that', 'girl', 'right', 'with', 'the', 'light', 'on', 'when', 'i', 'hit', 'that', 'girl', 'oh', 'got', 'ta', 'shoot', 'two', 'at', 'her', 'i', 'got', 'ta', 'shoot', 'two', 'at', 'her', 'whoa', 'i', 'stay', 'with', 'the', 'blue', 'cheddar', 'that', 'girl', 'she', 'got', 'with', 'my', 'clone', 'i', 'told', 'that', 'lil', 'girl', 'that', 'she', 'got', 'ta', 'just', 'do', 'better', 'are', 'you', 'seriou', 'i', 'swear', 'my', 'money', 'is', 'seriou', 'okay', 'all', 'my', 'check', 'i', 'just', 'be', 'clear', 'it', 'she', 'suck', 'my', 'dick', 'till', 'she', 'get', 'deliri', 'okay', 'jump', 'on', 'the', 'jet', 'so', 'i', \"'m\", 'clear', 'it', 'okay', 'port', 'but', 'i', \"'m\", 'not', 'talk', 'new', 'okay', 'smoke', 'that', 'boy', 'just', 'like', 'a', 'cigarett', 'if', 'that', 'boy', 'tri', 'to', 'make', 'a', 'fals', 'move', 'whoa', 'lil', 'uzi', 'vert', 'doot-doola-doot-doo', 'doot-doo', 'thank', 'you', 'lil', 'uzi', 'vert', 'leav', 'suppos', 'to', 'be', 'stand', 'still', 'right', 'now', 'readi', 'set', 'go']\n"
    }
   ],
   "source": [
    "port_stem = PorterStemmer() # The following code will stem the words in the lyrics. This means that, for example, \"stop\", \"stopping\", and \"stops\" will only count as one unique word.\n",
    "\n",
    "stem_text = []\n",
    "\n",
    "for i in range(len(my_text)):\n",
    "    stem_text.append(port_stem.stem(my_text[i]))\n",
    "\n",
    "print(stem_text)"
   ]
  },
  {
   "cell_type": "code",
   "execution_count": 8,
   "metadata": {},
   "outputs": [
    {
     "data": {
      "text/plain": "219"
     },
     "execution_count": 8,
     "metadata": {},
     "output_type": "execute_result"
    }
   ],
   "source": [
    "unique_count = len(set(stem_text))\n",
    "unique_count"
   ]
  },
  {
   "cell_type": "code",
   "execution_count": 9,
   "metadata": {},
   "outputs": [
    {
     "data": {
      "text/plain": "764"
     },
     "execution_count": 9,
     "metadata": {},
     "output_type": "execute_result"
    }
   ],
   "source": [
    "len(my_text)"
   ]
  },
  {
   "cell_type": "code",
   "execution_count": null,
   "metadata": {},
   "outputs": [],
   "source": []
  }
 ]
}