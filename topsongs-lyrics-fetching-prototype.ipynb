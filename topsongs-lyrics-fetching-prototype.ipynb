{
 "nbformat": 4,
 "nbformat_minor": 2,
 "metadata": {
  "language_info": {
   "name": "python",
   "codemirror_mode": {
    "name": "ipython",
    "version": 3
   },
   "version": "3.7.3"
  },
  "orig_nbformat": 2,
  "file_extension": ".py",
  "mimetype": "text/x-python",
  "name": "python",
  "npconvert_exporter": "python",
  "pygments_lexer": "ipython3",
  "version": 3
 },
 "cells": [
  {
   "cell_type": "code",
   "execution_count": 1,
   "metadata": {},
   "outputs": [],
   "source": [
    "from bs4 import BeautifulSoup\n",
    "import requests\n",
    "import pandas as pd\n",
    "import numpy as np\n",
    "import nltk\n",
    "import string\n",
    "import re\n",
    "from nltk.tokenize import word_tokenize\n",
    "from nltk.corpus import stopwords\n",
    "from nltk.stem import PorterStemmer"
   ]
  },
  {
   "cell_type": "code",
   "execution_count": 2,
   "metadata": {},
   "outputs": [],
   "source": [
    "# The goal of this prototype is to fetch the lyrics of a specific song, in preparation for the full script that will iterate through the yearly data.\n",
    "\n",
    "songdata = pd.read_csv('data/2019top10songs.csv')"
   ]
  },
  {
   "cell_type": "code",
   "execution_count": 3,
   "metadata": {},
   "outputs": [
    {
     "name": "stdout",
     "output_type": "stream",
     "text": "<!DOCTYPE html>\n<html lang=\"en\">\n <head>\n  <meta charset=\"utf-8\"/>\n  <meta content=\"IE=edge\" http-equiv=\"X-UA-Compatible\"/>\n  <meta content=\"width=device-width, initial-scale=1\" name=\"viewport\"/>\n  <meta content=\"Panic! At The Disco &quot;High Hopes&quot;: (High, high hopes) Had to have high, high hopes for a living Shooting for the stars when I couldn't...\" name=\"description\"/>\n  <meta content=\"High Hopes lyrics, Panic! At The Disco High Hopes lyrics, Panic! At The Disco lyrics\" name=\"keywords\"/>\n  <meta content=\"noarchive\" name=\"robots\"/>\n  <meta content=\"//www.azlyrics.com/az_logo_tr.png\" property=\"og:image\"/>\n  <title>\n   Panic! At The Disco - High Hopes Lyrics | AZLyrics.com\n  </title>\n  <link href=\"https://maxcdn.bootstrapcdn.com/bootstrap/3.3.4/css/bootstrap.min.css\" rel=\"stylesheet\"/>\n  <link href=\"//www.azlyrics.com/bsaz.css?4\" rel=\"stylesheet\"/>\n  <!-- HTML5 shim and Respond.js for IE8 support of HTML5 elements and media queries -->\n  <!--[if lt IE 9]>\n<script src=\"https://o\n"
    }
   ],
   "source": [
    "headers = {'User-Agent': 'Mozilla/5.0 (Windows NT 6.1) AppleWebKit/537.36 (KHTML, like Gecko) Chrome/41.0.2228.0 Safari/537.3'}\n",
    "cookies = { 'sessionid': '123..'}\n",
    "i = 5 # Set i to the position in the songdata datafrae you would like to examine.\n",
    "url = 'https://www.azlyrics.com/lyrics/'\n",
    "artist = songdata['Artist'][i] # artist1 and artist2 are the most common ways azlyrics represents artist names. artist1 removes spaces while artist2 replaces                                  them with a dash. artist3 and artist4 handle the way that Wikipedia presents collaborations.\n",
    "artist1 = ''.join(artist.split()).lower().replace('\\'','').replace(',','').replace('!','')\n",
    "artist2 = artist.lower().replace('\\'','').replace(',','').replace(' ','-').replace('!','')\n",
    "artist3 = artist1[:artist1.rfind('and')]\n",
    "artist4 = artist2[:artist2.rfind('-and')]\n",
    "title = ''.join(songdata['Title'][i].split()).lower() # azlyrics seems to represent all song titles in the same way.\n",
    "if requests.get(url + artist1 + '/' + title + '.html').status_code == 200:\n",
    "    html = requests.get(url + artist1 + '/' + title + '.html',cookies=cookies,headers=headers).text\n",
    "    soup = BeautifulSoup(html, 'lxml')\n",
    "    print(soup.prettify()[0:1000])\n",
    "elif requests.get(url + artist2 + '/' + title + '.html').status_code == 200:\n",
    "    html = requests.get(url + artist2 + '/' + title + '.html').text\n",
    "    soup = BeautifulSoup(html, 'lxml')\n",
    "    print(soup.prettify()[0:1000])\n",
    "elif requests.get(url + artist3 + '/' + title + '.html').status_code == 200:\n",
    "    html = requests.get(url + artist3 + '/' + title + '.html').text\n",
    "    soup = BeautifulSoup(html, 'lxml')\n",
    "    print(soup.prettify()[0:1000])\n",
    "elif requests.get(url + artist4 + '/' + title + '.html').status_code == 200:\n",
    "    html = requests.get(url + artist4 + '/' + title + '.html').text\n",
    "    soup = BeautifulSoup(html, 'lxml')\n",
    "    print(soup.prettify()[0:1000])\n",
    "else:\n",
    "    print('Song ' + songdata['Title'][i] + ' by ' + artist + ' at position ' + str(i) + ' not found!')"
   ]
  },
  {
   "cell_type": "code",
   "execution_count": 4,
   "metadata": {},
   "outputs": [
    {
     "data": {
      "text/plain": "'panicatthedisco'"
     },
     "execution_count": 4,
     "metadata": {},
     "output_type": "execute_result"
    }
   ],
   "source": [
    "artist1"
   ]
  },
  {
   "cell_type": "code",
   "execution_count": 5,
   "metadata": {},
   "outputs": [],
   "source": [
    "my_text = soup.find('div',attrs={'class': None}).text.replace('\\n',' ')[3:] # Extract lyrics text from the azlyrics page and replace newlines with spaces. Also, eliminate the \\r tag and space at the beginning.\n",
    "try:\n",
    "    my_text = my_text[:my_text.rindex(\"[\")-1] # Remove miscellaneous notes at the end of lyrics.\n",
    "except ValueError:\n",
    "    my_text = my_text\n",
    "my_text = word_tokenize(my_text)\n",
    "my_text = [i.lower() for i in my_text if not re.fullmatch('[' + string.punctuation + ']+', i)] #Remove tokens that are just punctuation."
   ]
  },
  {
   "cell_type": "code",
   "execution_count": 6,
   "metadata": {},
   "outputs": [
    {
     "name": "stdout",
     "output_type": "stream",
     "text": "['high', 'high', 'hope', 'had', 'to', 'have', 'high', 'high', 'hope', 'for', 'a', 'live', 'shoot', 'for', 'the', 'star', 'when', 'i', 'could', \"n't\", 'make', 'a', 'kill', 'did', \"n't\", 'have', 'a', 'dime', 'but', 'i', 'alway', 'had', 'a', 'vision', 'alway', 'had', 'high', 'high', 'hope', 'high', 'high', 'hope', 'had', 'to', 'have', 'high', 'high', 'hope', 'for', 'a', 'live', 'did', \"n't\", 'know', 'how', 'but', 'i', 'alway', 'had', 'a', 'feel', 'i', 'wa', 'gon', 'na', 'be', 'that', 'one', 'in', 'a', 'million', 'alway', 'had', 'high', 'high', 'hope', 'mama', 'said', 'fulfil', 'the', 'propheci', 'be', 'someth', 'greater', 'go', 'make', 'a', 'legaci', 'manifest', 'destini', 'back', 'in', 'the', 'day', 'we', 'want', 'everyth', 'want', 'everyth', 'mama', 'said', 'burn', 'your', 'biographi', 'rewrit', 'your', 'histori', 'light', 'up', 'your', 'wildest', 'dream', 'museum', 'victori', 'everi', 'day', 'we', 'want', 'everyth', 'want', 'everyth', 'mama', 'said', 'do', \"n't\", 'give', 'up', 'it', \"'s\", 'a', 'littl', 'complic', 'all', 'tie', 'up', 'no', 'more', 'love', 'and', 'i', \"'d\", 'hate', 'to', 'see', 'you', 'wait', 'had', 'to', 'have', 'high', 'high', 'hope', 'for', 'a', 'live', 'shoot', 'for', 'the', 'star', 'when', 'i', 'could', \"n't\", 'make', 'a', 'kill', 'did', \"n't\", 'have', 'a', 'dime', 'but', 'i', 'alway', 'had', 'a', 'vision', 'alway', 'had', 'high', 'high', 'hope', 'had', 'to', 'have', 'high', 'high', 'hope', 'for', 'a', 'live', 'did', \"n't\", 'know', 'how', 'but', 'i', 'alway', 'had', 'a', 'feel', 'i', 'wa', 'gon', 'na', 'be', 'that', 'one', 'in', 'a', 'million', 'alway', 'had', 'high', 'high', 'hope', 'high', 'high', 'hope', 'mama', 'said', 'it', \"'s\", 'uphil', 'for', 'odditi', 'stranger', 'crusad', 'ai', \"n't\", 'ever', 'wannab', 'the', 'weird', 'and', 'the', 'novelti', 'do', \"n't\", 'ever', 'chang', 'we', 'want', 'everyth', 'want', 'everyth', 'high', 'high', 'hope', 'stay', 'up', 'on', 'that', 'rise', 'stay', 'up', 'on', 'that', 'rise', 'and', 'never', 'come', 'down', 'oh', 'stay', 'up', 'on', 'that', 'rise', 'stay', 'up', 'on', 'that', 'rise', 'and', 'never', 'come', 'down', 'mama', 'said', 'do', \"n't\", 'give', 'up', 'it', \"'s\", 'a', 'littl', 'complic', 'all', 'tie', 'up', 'no', 'more', 'love', 'and', 'i', \"'d\", 'hate', 'to', 'see', 'you', 'wait', 'they', 'say', 'it', \"'s\", 'all', 'been', 'done', 'but', 'they', 'have', \"n't\", 'seen', 'the', 'best', 'of', 'me-e-e-', 'so', 'i', 'got', 'one', 'more', 'run', 'and', 'it', \"'s\", 'gon', 'na', 'be', 'a', 'sight', 'to', 'see-e-e-', 'had', 'to', 'have', 'high', 'high', 'hope', 'for', 'a', 'live', 'shoot', 'for', 'the', 'star', 'when', 'i', 'could', \"n't\", 'make', 'a', 'kill', 'did', \"n't\", 'have', 'a', 'dime', 'but', 'i', 'alway', 'had', 'a', 'vision', 'alway', 'had', 'high', 'high', 'hope', 'high', 'high', 'hope', 'had', 'to', 'have', 'high', 'high', 'hope', 'for', 'a', 'live', 'did', \"n't\", 'know', 'how', 'but', 'i', 'alway', 'had', 'a', 'feel', 'i', 'wa', 'gon', 'na', 'be', 'that', 'one', 'in', 'a', 'million', 'alway', 'had', 'high', 'high', 'hope', 'high', 'high', 'hope', 'had', 'to', 'have', 'high', 'high', 'hope', 'for', 'a', 'live', 'shoot', 'for', 'the', 'star', 'when', 'i', 'could', \"n't\", 'make', 'a', 'kill', 'did', \"n't\", 'have', 'a', 'dime', 'but', 'i', 'alway', 'had', 'a', 'vision', 'alway', 'had', 'high', 'high', 'hope', 'had', 'to', 'have', 'high', 'high', 'hope', 'for', 'a', 'live', 'did', \"n't\", 'know', 'how', 'but', 'i', 'alway', 'had', 'a', 'feel', 'i', 'wa', 'gon', 'na', 'be', 'that', 'one', 'in', 'a', 'million', 'alway', 'had', 'high', 'high', 'hope', 'high', 'high', 'hope']\n"
    }
   ],
   "source": [
    "port_stem = PorterStemmer() # The following code will stem the words in the lyrics. This means that, for example, \"stop\", \"stopping\", and \"stops\" will only count as one unique word.\n",
    "\n",
    "stem_text = []\n",
    "\n",
    "for i in range(len(my_text)):\n",
    "    stem_text.append(port_stem.stem(my_text[i]))\n",
    "\n",
    "print(stem_text)"
   ]
  },
  {
   "cell_type": "code",
   "execution_count": 8,
   "metadata": {},
   "outputs": [
    {
     "data": {
      "text/plain": "107"
     },
     "execution_count": 8,
     "metadata": {},
     "output_type": "execute_result"
    }
   ],
   "source": [
    "unique_count = len(set(stem_text))\n",
    "unique_count"
   ]
  },
  {
   "cell_type": "code",
   "execution_count": 11,
   "metadata": {},
   "outputs": [
    {
     "data": {
      "text/plain": "484"
     },
     "execution_count": 11,
     "metadata": {},
     "output_type": "execute_result"
    }
   ],
   "source": [
    "len(my_text)"
   ]
  },
  {
   "cell_type": "code",
   "execution_count": null,
   "metadata": {},
   "outputs": [],
   "source": []
  }
 ]
}