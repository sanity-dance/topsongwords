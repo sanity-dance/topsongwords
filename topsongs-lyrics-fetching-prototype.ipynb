{
 "nbformat": 4,
 "nbformat_minor": 2,
 "metadata": {
  "language_info": {
   "name": "python",
   "codemirror_mode": {
    "name": "ipython",
    "version": 3
   },
   "version": "3.7.3"
  },
  "orig_nbformat": 2,
  "file_extension": ".py",
  "mimetype": "text/x-python",
  "name": "python",
  "npconvert_exporter": "python",
  "pygments_lexer": "ipython3",
  "version": 3
 },
 "cells": [
  {
   "cell_type": "code",
   "execution_count": 1,
   "metadata": {},
   "outputs": [],
   "source": [
    "from bs4 import BeautifulSoup\n",
    "import requests\n",
    "import pandas as pd\n",
    "import numpy as np\n",
    "import nltk\n",
    "import string\n",
    "import re\n",
    "from nltk.tokenize import word_tokenize\n",
    "from nltk.corpus import stopwords\n",
    "from nltk.stem import PorterStemmer"
   ]
  },
  {
   "cell_type": "code",
   "execution_count": 2,
   "metadata": {},
   "outputs": [],
   "source": [
    "# The goal of this prototype is to fetch the lyrics of a specific song, in preparation for the full script that will iterate through the yearly data.\n",
    "\n",
    "songdata = pd.read_csv('data/2019top10songs.csv')"
   ]
  },
  {
   "cell_type": "code",
   "execution_count": 33,
   "metadata": {},
   "outputs": [
    {
     "name": "stdout",
     "output_type": "stream",
     "text": "https://www.azlyrics.com/lyrics/burlives/hollyjollychristmas.html\nhttps://www.azlyrics.com/lyrics/burl-ives/hollyjollychristmas.html\nhttps://www.azlyrics.com/lyrics/burlive/hollyjollychristmas.html\nhttps://www.azlyrics.com/lyrics/burl-ive/hollyjollychristmas.html\nhttps://www.azlyrics.com/lyrics/burlive/hollyjollychristmas.html\nhttps://www.azlyrics.com/lyrics/burl-ive/hollyjollychristmas.html\nhttps://www.azlyrics.com/lyrics/burlive/hollyjollychristmas.html\nhttps://www.azlyrics.com/lyrics//hollyjollychristmas.html\nhttps://www.azlyrics.com/lyrics/rlives/hollyjollychristmas.html\nhttps://www.azlyrics.com/lyrics/burlives/ahollyjollychristmas.html\nhttps://www.azlyrics.com/lyrics/burlives/ahollyjollychristmas.html\n"
    }
   ],
   "source": [
    "headers = {'User-Agent': 'Mozilla/5.0 (Windows NT 6.1) AppleWebKit/537.36 (KHTML, like Gecko) Chrome/41.0.2228.0 Safari/537.3'}\n",
    "cookies = { 'sessionid': '123..'}\n",
    "i = 8 # Set i to the position in the songdata datafrae you would like to examine.\n",
    "url = 'https://www.azlyrics.com/lyrics/'\n",
    "artist = songdata['Artist'][i] # artist1 and artist2 are the most common ways azlyrics represents artist names. artist1 removes spaces while artist2 replaces                                  them with a dash.\n",
    "artist1 = ''.join(artist.split()).lower().replace('\\'','').replace(',','').replace('!','')\n",
    "artist2 = artist.lower().replace('\\'','').replace(',','').replace(' ','-').replace('!','')\n",
    "artistl = [artist1, artist2, artist1[:artist1.rfind('and')], artist2[:artist2.rfind('-and')], artist1[:artist1.rfind('featuring')], artist2[:artist2.rfind('featuring')], artist1[:artist1.rfind(',')], artist1[artist1.find(','):artist1.rfind('and')], artist1[artist1.rfind('and')+3:]]\n",
    "# The first three entries of the above list are standard single artist titles. The next three handle cases of collaborations between two artists. The next four after that handle collaborations between three artists.\n",
    "title = ''.join(songdata['Title'][i].split()).lower().replace('\\'','').replace(',','').replace('!','') # azlyrics seems to represent all song titles in the same way.\n",
    "titlel = [title, 'a' + title, 'the' + title] # However, there are very rare cases, such as 'Holly Jolly Christmas', where azlyrics includes an 'a' or a 'the' at the beginning of a song and Wikipedia does not. These cases will only be tested if all of the artist configurations fail.\n",
    "for j in range(len(titlel)):\n",
    "    for k in range(len(artistl)):\n",
    "        print(url + artistl[k] + '/' + titlel[j] + '.html')\n",
    "        if requests.get(url + artistl[k] + '/' + titlel[j] + '.html').status_code == 200:\n",
    "            html = requests.get(url + artistl[k] + '/' + titlel[j] + '.html',cookies=cookies,headers=headers).text\n",
    "            soup = BeautifulSoup(html, 'lxml')\n",
    "            print(url + artistl[k] + '/' + titlel[j] + '.html')\n",
    "            break\n",
    "    if requests.get(url + artistl[k] + '/' + titlel[j] + '.html').status_code == 200:\n",
    "        break\n",
    "    if j == len(titlel) - 1:\n",
    "        print('Song ' + songdata['Title'][i] + ' by ' + artist + ' at position ' + str(i) + ' not found!')"
   ]
  },
  {
   "cell_type": "code",
   "execution_count": 22,
   "metadata": {},
   "outputs": [
    {
     "data": {
      "text/plain": "'lilnasxfeaturingbillyraycyrus1'"
     },
     "execution_count": 22,
     "metadata": {},
     "output_type": "execute_result"
    }
   ],
   "source": [
    "artist1"
   ]
  },
  {
   "cell_type": "code",
   "execution_count": 34,
   "metadata": {},
   "outputs": [],
   "source": [
    "my_text = soup.find('div',attrs={'class': None}).text.replace('\\n',' ')[3:] # Extract lyrics text from the azlyrics page and replace newlines with spaces. Also, eliminate the \\r tag and space at the beginning.\n",
    "try:\n",
    "    my_text = my_text[:my_text.rindex(\"[\")-1] # Remove miscellaneous notes at the end of lyrics.\n",
    "except ValueError:\n",
    "    my_text = my_text\n",
    "my_text = word_tokenize(my_text)\n",
    "my_text = [i.lower() for i in my_text if not re.fullmatch('[' + string.punctuation + ']+', i)] #Remove tokens that are just punctuation."
   ]
  },
  {
   "cell_type": "code",
   "execution_count": 35,
   "metadata": {},
   "outputs": [
    {
     "name": "stdout",
     "output_type": "stream",
     "text": "['ding-dong-d', 'ding-dong-d', 'ding-dong-d', 'have', 'a', 'holli', 'jolli', 'christma', 'ding-dong-d', 'it', \"'s\", 'the', 'best', 'time', 'of', 'the', 'year', 'i', 'do', \"n't\", 'know', 'if', 'there', \"'ll\", 'be', 'snow', 'but', 'have', 'a', 'cup', 'of', 'cheer', 'ding-dong-d', 'have', 'a', 'holli', 'jolli', 'christma', 'ding-dong-d', 'and', 'when', 'you', 'walk', 'down', 'the', 'street', 'say', 'hello', 'to', 'friend', 'you', 'know', 'and', 'everyon', 'you', 'meet', 'oh', 'ho', 'the', 'mistleto', 'hung', 'where', 'you', 'can', 'see', 'somebodi', 'wait', 'for', 'you', 'kiss', 'her', 'onc', 'for', 'me', 'ding-dong-d', 'have', 'a', 'holli', 'jolli', 'christma', 'ding-dong-d', 'and', 'in', 'case', 'you', 'did', \"n't\", 'hear', 'oh', 'by', 'golli', 'have', 'a', 'holli', 'jolli', 'christma', 'thi', 'year', 'have', 'a', 'holli', 'jolli', 'christma', 'it', \"'s\", 'the', 'best', 'time', 'of', 'the', 'year', 'have', 'a', 'holli', 'jolli', 'christma', 'and', 'when', 'you', 'walk', 'down', 'the', 'street', 'say', 'hello', 'to', 'friend', 'you', 'know', 'and', 'everyon', 'you', 'meet', 'oh', 'ho', 'the', 'mistleto', 'hung', 'where', 'you', 'can', 'see', 'somebodi', 'wait', 'for', 'you', 'kiss', 'her', 'onc', 'for', 'me', 'ding-dong-d', 'have', 'a', 'holli', 'jolli', 'christma', 'ding-dong-d', 'and', 'in', 'case', 'you', 'did', \"n't\", 'here', 'oh', 'by', 'golli', 'have', 'a', 'holli', 'jolli', 'christma', 'thi', 'year', 'ding-dong-ding-dong', 'ding-dong-ding-dong', 'ding-dong-d']\n"
    }
   ],
   "source": [
    "port_stem = PorterStemmer() # The following code will stem the words in the lyrics. This means that, for example, \"stop\", \"stopping\", and \"stops\" will only count as one unique word.\n",
    "\n",
    "stem_text = []\n",
    "\n",
    "for i in range(len(my_text)):\n",
    "    stem_text.append(port_stem.stem(my_text[i]))\n",
    "\n",
    "print(stem_text)"
   ]
  },
  {
   "cell_type": "code",
   "execution_count": 36,
   "metadata": {},
   "outputs": [
    {
     "data": {
      "text/plain": "60"
     },
     "execution_count": 36,
     "metadata": {},
     "output_type": "execute_result"
    }
   ],
   "source": [
    "unique_count = len(set(stem_text))\n",
    "unique_count"
   ]
  },
  {
   "cell_type": "code",
   "execution_count": 37,
   "metadata": {},
   "outputs": [
    {
     "data": {
      "text/plain": "178"
     },
     "execution_count": 37,
     "metadata": {},
     "output_type": "execute_result"
    }
   ],
   "source": [
    "len(my_text)"
   ]
  },
  {
   "cell_type": "code",
   "execution_count": null,
   "metadata": {},
   "outputs": [],
   "source": []
  }
 ]
}