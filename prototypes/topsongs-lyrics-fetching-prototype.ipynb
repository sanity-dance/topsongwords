{
 "nbformat": 4,
 "nbformat_minor": 2,
 "metadata": {
  "language_info": {
   "name": "python",
   "codemirror_mode": {
    "name": "ipython",
    "version": 3
   },
   "version": "3.7.3"
  },
  "orig_nbformat": 2,
  "file_extension": ".py",
  "mimetype": "text/x-python",
  "name": "python",
  "npconvert_exporter": "python",
  "pygments_lexer": "ipython3",
  "version": 3
 },
 "cells": [
  {
   "cell_type": "code",
   "execution_count": 38,
   "metadata": {},
   "outputs": [],
   "source": [
    "from bs4 import BeautifulSoup\n",
    "import requests\n",
    "import pandas as pd\n",
    "import numpy as np\n",
    "import nltk\n",
    "import string\n",
    "import re\n",
    "import time as t\n",
    "from nltk.tokenize import word_tokenize\n",
    "from nltk.corpus import stopwords\n",
    "from nltk.stem import PorterStemmer\n",
    "import lyricsgenius\n",
    "genius = lyricsgenius.Genius(\"bWUqXEIz9jor2w6fi9sLD3KfilReDFPZL7Ox3OCkD_Sz8ICXaAFSTOUkH-tsv1oW\")\n",
    "genius.remove_section_headers = True\n",
    "genius.skip_non_songs = True"
   ]
  },
  {
   "cell_type": "code",
   "execution_count": 48,
   "metadata": {},
   "outputs": [],
   "source": [
    "# The goal of this prototype is to fetch the lyrics of a specific song, in preparation for the full script that will iterate through the yearly data.\n",
    "\n",
    "songdata = pd.read_csv('data/2019top10songs.csv')"
   ]
  },
  {
   "cell_type": "code",
   "execution_count": 49,
   "metadata": {},
   "outputs": [
    {
     "name": "stdout",
     "output_type": "stream",
     "text": "['mariahcarey', 'mariah-carey', 'riahcarey']\n['alliwantforchristmasisyou', 'aalliwantforchristmasisyou', 'thealliwantforchristmasisyou']\n"
    }
   ],
   "source": [
    "headers = {'User-Agent': 'Mozilla/5.0 (Windows NT 6.1) AppleWebKit/537.36 (KHTML, like Gecko) Chrome/41.0.2228.0 Safari/537.3'}\n",
    "cookies = { 'sessionid': '123..'}\n",
    "i = 0 # Set i to the position in the songdata datafrae you would like to examine.\n",
    "url = 'https://www.azlyrics.com/lyrics/'\n",
    "artist = songdata['Artist'][i] # artist1 and artist2 are the most common ways azlyrics represents artist names. artist1 removes spaces while artist2 replaces                                  them with a dash.\n",
    "artist1 = ''.join(artist.split()).lower().replace('\\'','').replace('!','').replace('.','').replace('+','').replace('ñ','n').replace('é','e')\n",
    "artist2 = artist.lower().replace('\\'','').replace(' ','-').replace('!','').replace('.','').replace('+','').replace('ñ','n').replace('é','e')\n",
    "artistl = []\n",
    "if ', ' in artist: # Handles cases where there are three listed artists.\n",
    "    artistl.append(artist1[:artist1.rfind(',')])\n",
    "    artistl.append(artist1[artist1.find(',')+1:artist1.rfind('and')])\n",
    "    artistl.append(artist1[artist1.rfind('and')+3:])\n",
    "elif ' with ' in artist:\n",
    "    artistl.append(artist1[:artist1.rfind('with')])\n",
    "    artistl.append(artist2[:artist2.rfind('-with')])\n",
    "elif ' and ' in artist: # Handles cases where there are two listed artists.\n",
    "    artistl.append(artist1[:artist1.rfind('and')])\n",
    "    artistl.append(artist2[:artist2.rfind('-and')])\n",
    "    if ' featuring ' in artist: # Handles a case with multiple featured artists.\n",
    "        artistl.append(artist1[:artist1.rfind('featuring')])\n",
    "        artistl.append(artist2[:artist2.rfind('featuring')])\n",
    "    artistl.append(artist1) # Cases where 'and' is in the artist name, ex. 'Tones and I'\n",
    "elif 'bts' in artist1: # Handles that one k-pop group.\n",
    "    artistl.append('bangtanboys')\n",
    "elif ' featuring ' in artist: # Handles cases where there is a featured artist.\n",
    "    artistl.append(artist1[:artist1.rfind('featuring')])\n",
    "    artistl.append(artist2[:artist2.rfind('featuring')])\n",
    "else: # Handles cases where there is one artist (which is most of them)\n",
    "    artistl.append(artist1)\n",
    "    artistl.append(artist2)\n",
    "    artistl.append(artist1[artist1.find('the')+3:]) # Handles a rare case where Wikipedia includes a \"the\" in the artist name and azlyrics does not.\n",
    "# The first three entries of the above list are standard single artist titles. The next three handle cases of collaborations between two artists. The next four after that handle collaborations between three artists. The last entry handles a rare case where Wikipedia includes a \"the\" in the artist name and azlyrics does not.\n",
    "title = ''.join(songdata['Title'][i].split()).lower().replace('\\'','').replace(',','').replace('!','').replace('ñ','n').replace('é','e') # azlyrics seems to represent all song titles in the same way.\n",
    "titlel = [title, 'a' + title, 'the' + title] # However, there are very rare cases, such as 'Holly Jolly Christmas', where azlyrics includes an 'a' or a 'the' at the beginning of a song and Wikipedia does not. These cases will only be tested if all of the artist configurations fail.\n",
    "if 'futsal' in title:\n",
    "    titlel.insert(0,'futsalshuffle')\n",
    "print(artistl)\n",
    "print(titlel)"
   ]
  },
  {
   "cell_type": "code",
   "execution_count": 41,
   "metadata": {},
   "outputs": [
    {
     "data": {
      "text/plain": "['Billy Preston']"
     },
     "execution_count": 41,
     "metadata": {},
     "output_type": "execute_result"
    }
   ],
   "source": [
    "geniusl = []\n",
    "if ', ' in artist: # Handles cases where there are three listed artists.\n",
    "    geniusl.append(artist[:artist.rfind(',')])\n",
    "    geniusl.append(artist[artist.find(',')+1:artist1.rfind(' and ')])\n",
    "    geniusl.append(artist[artist.rfind(' and ')+5:])\n",
    "elif ' with ' in artist:\n",
    "    geniusl.append(artist[:artist.rfind(' with')])\n",
    "elif ' and ' in artist: # Handles cases where there are two listed artists.\n",
    "    geniusl.append(artist[:artist.rfind(' and')])\n",
    "    if ' featuring ' in artist: # Handles a case with multiple featured artists.\n",
    "        geniusl.append(artist[:artist.rfind(' featuring ')])\n",
    "    geniusl.append(artist) # Cases where 'and' is in the artist name, ex. 'Tones and I'\n",
    "elif ' featuring ' in artist: # Handles cases where there is a featured artist.\n",
    "    geniusl.append(artist[:artist.rfind(' featuring ')])\n",
    "else: # Handles cases where there is one artist (which is most of them)\n",
    "    if 'the' in artist:\n",
    "        geniusl.append(artist[artist.find('the ')+4:])\n",
    "    if 'The' in artist:\n",
    "        geniusl.append(artist[artist.find('The ')+4:])\n",
    "    geniusl.append(artist)\n",
    "    if 'Show' in artist:\n",
    "        geniusl.append(artist[artist.find('The ')+4:artist.rfind(' Show')]) # Handles some cases from the 50s and 60s.\n",
    "geniusl"
   ]
  },
  {
   "cell_type": "code",
   "execution_count": 50,
   "metadata": {},
   "outputs": [
    {
     "name": "stdout",
     "output_type": "stream",
     "text": "https://www.azlyrics.com/lyrics/mariahcarey/alliwantforchristmasisyou.html\n"
    }
   ],
   "source": [
    "success = False\n",
    "for j in range(len(titlel)):\n",
    "    for k in range(len(artistl)):\n",
    "        if requests.get(url + artistl[k] + '/' + titlel[j] + '.html').status_code == 200:\n",
    "            html = requests.get(url + artistl[k] + '/' + titlel[j] + '.html',cookies=cookies,headers=headers).text\n",
    "            soup = BeautifulSoup(html, 'lxml')\n",
    "            print(url + artistl[k] + '/' + titlel[j] + '.html')\n",
    "            success = True\n",
    "            t.sleep(3)\n",
    "            break\n",
    "        t.sleep(3)\n",
    "    if success: # Escapes the outer loop when URL succeeds without using a second request.\n",
    "        break\n",
    "    if j == len(titlel) - 1:\n",
    "        print('Song ' + songdata['Title'][i] + ' by ' + artist + ' at position ' + str(i) + ' not found!')"
   ]
  },
  {
   "cell_type": "code",
   "execution_count": 42,
   "metadata": {},
   "outputs": [
    {
     "name": "stdout",
     "output_type": "stream",
     "text": "Searching for \"Space Race\" by Billy Preston...\nDone.\nSearching for \"Space Race\" by Billy Preston...\nDone.\n"
    }
   ],
   "source": [
    "success = False\n",
    "for l in range(len(geniusl)):\n",
    "    if genius.search_song(songdata['Title'][i].replace('\\'',''),geniusl[l]) != None:\n",
    "        currentsong = genius.search_song(songdata['Title'][i].replace('\\'',''),geniusl[l])\n",
    "        success = True\n",
    "        t.sleep(3)\n",
    "        break\n",
    "    t.sleep(3)\n",
    "if success == False:\n",
    "    print('Song ' + songdata['Title'][i] + ' by ' + artist + ' at position ' + str(i) + ' not found!')"
   ]
  },
  {
   "cell_type": "code",
   "execution_count": 43,
   "metadata": {},
   "outputs": [
    {
     "data": {
      "text/plain": "['billypreston', 'billy-preston', 'llypreston']"
     },
     "execution_count": 43,
     "metadata": {},
     "output_type": "execute_result"
    }
   ],
   "source": [
    "artistl"
   ]
  },
  {
   "cell_type": "code",
   "execution_count": 51,
   "metadata": {},
   "outputs": [
    {
     "name": "stdout",
     "output_type": "stream",
     "text": "<!DOCTYPE html>\n<html lang=\"en\">\n <head>\n  <meta charset=\"utf-8\"/>\n  <meta content=\"IE=edge\" http-equiv=\"X-UA-Compatible\"/>\n  <meta content=\"width=device-width, initial-scale=1\" name=\"viewport\"/>\n  <meta content=\"Mariah Carey &quot;All I Want For Christmas Is You&quot;: I don't want a lot for Christmas There is just one thing I need I don't care about the presents Unde...\" name=\"description\"/>\n  <meta content=\"All I Want For Christmas Is You lyrics, Mariah Carey All I Want For Christmas Is You lyrics, Mariah Carey lyrics\" name=\"keywords\"/>\n  <meta content=\"noarchive\" name=\"robots\"/>\n  <meta content=\"//www.azlyrics.com/az_logo_tr.png\" property=\"og:image\"/>\n  <title>\n   Mariah Carey - All I Want For Christmas Is You Lyrics | AZLyrics.com\n  </title>\n  <link href=\"https://maxcdn.bootstrapcdn.com/bootstrap/3.3.4/css/bootstrap.min.css\" rel=\"stylesheet\"/>\n  <link href=\"//www.azlyrics.com/bsaz.css?4\" rel=\"stylesheet\"/>\n  <!-- HTML5 shim and Respond.js for IE8 support of HTML5 elements and media queries -->\n  <!--[if lt IE 9]>\n<script src=\"https://oss.maxcdn.com/html5shiv/3.7.2/html5shiv.min.js\"></script>\n<script src=\"https://oss.maxcdn.com/respond/1.4.2/respond.min.js\"></script>\n<![endif]-->\n  <link href=\"//www.azlyrics.com/local/cookieconsent/cookieconsent.min.css\" rel=\"stylesheet\"/>\n  <script src=\"//www.azlyrics.com/local/cookieconsent/cookieconsent.min.js\">\n  </script>\n  <link href=\"//www.azlyrics.com/local/easyautocomplete/easy-autocomplete.min.css\" rel=\"stylesheet\"/>\n  <link href=\"//www.azlyrics.com/local/easyautocomplete/easy-autocomplete.themes.min.css\" rel=\"stylesheet\"/>\n  <script type=\"text/javascript\">\n   ArtistName = \"Mariah Carey\";\nSongName = \"All I Want For Christmas Is You\";\nfunction submitCorrections(){\n\tdocument.getElementById('corlyr').submit();\n\treturn false;\n}\n  </script>\n </head>\n <body class=\"az-song-text\">\n  <nav class=\"navbar navbar-default navbar-static-top noprint\">\n   <div class=\"container\">\n    <!-- Brand and toggle get grouped for better mobile display -->\n    <div class=\"navbar-header\">\n     <button class=\"navbar-toggle collapsed\" data-target=\"#search-collapse\" data-toggle=\"collapse\" type=\"button\">\n      <span class=\"glyphicon glyphicon-search\">\n      </span>\n     </button>\n     <button class=\"navbar-toggle collapsed\" data-target=\"#artists-collapse\" data-toggle=\"collapse\" type=\"button\">\n      <span class=\"glyphicon glyphicon-th-list\">\n      </span>\n     </button>\n     <a class=\"navbar-brand\" href=\"//www.azlyrics.com\">\n      <img alt=\"AZLyrics.com\" class=\"pull-left\" src=\"//www.azlyrics.com/az_logo_tr.png\" style=\"max-height:40px; margin-top:-10px;\"/>\n     </a>\n    </div>\n    <ul class=\"collapse navbar-collapse nav navbar-nav\" id=\"artists-collapse\">\n     <li>\n      <div class=\"btn-group text-center\" role=\"group\">\n       <a class=\"btn btn-menu\" href=\"//www.azlyrics.com/a.html\">\n        A\n       </a>\n       <a class=\"btn btn-menu\" href=\"//www.azlyrics.com/b.html\">\n        B\n       </a>\n       <a class=\"btn btn-menu\" href=\"//www.azlyrics.com/c.html\">\n        C\n       </a>\n       <a class=\"btn btn-menu\" href=\"//www.azlyrics.com/d.html\">\n        D\n       </a>\n       <a class=\"btn btn-menu\" href=\"//www.azlyrics.com/e.html\">\n        E\n       </a>\n       <a class=\"btn btn-menu\" href=\"//www.azlyrics.com/f.html\">\n        F\n       </a>\n       <a class=\"btn btn-menu\" href=\"//www.azlyrics.com/g.html\">\n        G\n       </a>\n       <a class=\"btn btn-menu\" href=\"//www.azlyrics.com/h.html\">\n        H\n       </a>\n       <a class=\"btn btn-menu\" href=\"//www.azlyrics.com/i.html\">\n        I\n       </a>\n       <a class=\"btn btn-menu\" href=\"//www.azlyrics.com/j.html\">\n        J\n       </a>\n       <a class=\"btn btn-menu\" href=\"//www.azlyrics.com/k.html\">\n        K\n       </a>\n       <a class=\"btn btn-menu\" href=\"//www.azlyrics.com/l.html\">\n        L\n       </a>\n       <a class=\"btn btn-menu\" href=\"//www.azlyrics.com/m.html\">\n        M\n       </a>\n       <a class=\"btn btn-menu\" href=\"//www.azlyrics.com/n.html\">\n        N\n       </a>\n       <a class=\"btn btn-menu\" href=\"//www.azlyrics.com/o.html\">\n        O\n       </a>\n       <a class=\"btn btn-menu\" href=\"//www.azlyrics.com/p.html\">\n        P\n       </a>\n       <a class=\"btn btn-menu\" href=\"//www.azlyrics.com/q.html\">\n        Q\n       </a>\n       <a class=\"btn btn-menu\" href=\"//www.azlyrics.com/r.html\">\n        R\n       </a>\n       <a class=\"btn btn-menu\" href=\"//www.azlyrics.com/s.html\">\n        S\n       </a>\n       <a class=\"btn btn-menu\" href=\"//www.azlyrics.com/t.html\">\n        T\n       </a>\n       <a class=\"btn btn-menu\" href=\"//www.azlyrics.com/u.html\">\n        U\n       </a>\n       <a class=\"btn btn-menu\" href=\"//www.azlyrics.com/v.html\">\n        V\n       </a>\n       <a class=\"btn btn-menu\" href=\"//www.azlyrics.com/w.html\">\n        W\n       </a>\n       <a class=\"btn btn-menu\" href=\"//www.azlyrics.com/x.html\">\n        X\n       </a>\n       <a class=\"btn btn-menu\" href=\"//www.azlyrics.com/y.html\">\n        Y\n       </a>\n       <a class=\"btn btn-menu\" href=\"//www.azlyrics.com/z.html\">\n        Z\n       </a>\n       <a class=\"btn btn-menu\" href=\"//www.azlyrics.com/19.html\">\n        #\n       </a>\n      </div>\n     </li>\n    </ul>\n    <div class=\"collapse navbar-collapse\" id=\"search-collapse\">\n     <form action=\"//search.azlyrics.com/search.php\" class=\"navbar-form navbar-right search\" method=\"get\" role=\"search\">\n      <div class=\"input-group\">\n       <input class=\"form-control\" id=\"q\" name=\"q\" placeholder=\"\" type=\"text\"/>\n       <span class=\"input-group-btn\">\n        <button class=\"btn btn-primary\" type=\"submit\">\n         <span class=\"glyphicon glyphicon-search\">\n         </span>\n         Search\n        </button>\n       </span>\n      </div>\n     </form>\n    </div>\n    <!-- /.navbar-collapse -->\n   </div>\n   <!-- /.container -->\n  </nav>\n  <!-- top ban -->\n  <div class=\"lboard-wrap noprint\">\n   <div class=\"container\">\n    <div class=\"row\">\n     <div class=\"col-xs-12 top-ad text-center\">\n      <span id=\"cf_banner_top_nofc\">\n      </span>\n     </div>\n    </div>\n   </div>\n  </div>\n  <!-- main -->\n  <div class=\"container main-page\">\n   <div class=\"row\">\n    <div class=\"col-lg-2 text-center hidden-md hidden-sm hidden-xs noprint\">\n     <div class=\"sky-ad\">\n     </div>\n    </div>\n    <!-- content -->\n    <div class=\"col-xs-12 col-lg-8 text-center\">\n     <div class=\"div-share noprint\">\n      <div class=\"addthis_toolbox addthis_default_style\">\n       <a class=\"btn btn-xs btn-share addthis_button_facebook\" href=\"https://www.facebook.com/sharer.php?u=https%3A%2F%2Fwww.azlyrics.com%2Flyrics%2Fmariahcarey%2Falliwantforchristmasisyou.html&amp;title=Mariah%20Carey%20-%20All%20I%20Want%20For%20Christmas%20Is%20You%20Lyrics%20%7C%20AZLyrics.com&amp;display=page\" target=\"_blank\">\n        <span class=\"playblk\">\n         <img alt=\"Share on Facebook\" class=\"playblk\" height=\"25\" src=\"//www.azlyrics.com/images/share-icons/facebook.svg\" title=\"Share on Facebook\" width=\"25\"/>\n        </span>\n       </a>\n       <a class=\"btn btn-xs btn-share addthis_button_twitter\" href=\"https://twitter.com/intent/tweet?url=https%3A%2F%2Fwww.azlyrics.com%2Flyrics%2Fmariahcarey%2Falliwantforchristmasisyou.html&amp;text=Mariah%20Carey%20-%20All%20I%20Want%20For%20Christmas%20Is%20You%20Lyrics%20%7C%20AZLyrics.com\" target=\"_blank\">\n        <span class=\"playblk\">\n         <img alt=\"Share on Twiiter\" class=\"playblk\" height=\"25\" src=\"//www.azlyrics.com/images/share-icons/twitter.svg\" title=\"Share on Twiiter\" width=\"25\"/>\n        </span>\n       </a>\n       <a class=\"btn btn-xs btn-share addthis_button_email\" href=\"mailto:?subject=Mariah%20Carey%20-%20All%20I%20Want%20For%20Christmas%20Is%20You%20Lyrics%20%7C%20AZLyrics.com&amp;body=https%3A%2F%2Fwww.azlyrics.com%2Flyrics%2Fmariahcarey%2Falliwantforchristmasisyou.html\" target=\"_blank\">\n        <span class=\"playblk\">\n         <img alt=\"Email\" class=\"playblk\" height=\"25\" src=\"//www.azlyrics.com/images/share-icons/email.svg\" title=\"Email\" width=\"25\"/>\n        </span>\n       </a>\n       <a class=\"btn btn-xs btn-share addthis_button_print\" href=\"javascript:void(window.print());\" style=\"margin-right: 0px !important;\">\n        <span class=\"playblk\">\n         <img alt=\"Print\" class=\"playblk\" height=\"25\" src=\"//www.azlyrics.com/images/share-icons/print.svg\" title=\"Print\" width=\"25\"/>\n        </span>\n       </a>\n      </div>\n     </div>\n     <div class=\"div-share\">\n      <h1>\n       \"All I Want For Christmas Is You\" lyrics\n      </h1>\n     </div>\n     <div class=\"lyricsh\">\n      <h2>\n       <b>\n        Mariah Carey Lyrics\n       </b>\n      </h2>\n     </div>\n     <div class=\"ringtone\">\n      <span id=\"cf_text_top\">\n      </span>\n     </div>\n     <b>\n      \"All I Want For Christmas Is You\"\n     </b>\n     <br/>\n     <br/>\n     <div>\n      <!-- Usage of azlyrics.com content by any third-party lyrics provider is prohibited by our licensing agreement. Sorry about that. -->\n      I don't want a lot for Christmas\n      <br/>\n      There is just one thing I need\n      <br/>\n      I don't care about the presents\n      <br/>\n      Underneath the Christmas tree\n      <br/>\n      <br/>\n      I just want you for my own\n      <br/>\n      More than you could ever know\n      <br/>\n      Make my wish come true\n      <br/>\n      All I want for Christmas is you, yeah.\n      <br/>\n      <br/>\n      I don't want a lot for Christmas\n      <br/>\n      There is just one thing I need\n      <br/>\n      And I don't care about the presents\n      <br/>\n      Underneath the Christmas tree\n      <br/>\n      <br/>\n      I don't need to hang my stocking\n      <br/>\n      There upon the fireplace\n      <br/>\n      Santa Claus won't make me happy\n      <br/>\n      With a toy on Christmas Day\n      <br/>\n      <br/>\n      I just want you for my own\n      <br/>\n      More than you could ever know\n      <br/>\n      Make my wish come true\n      <br/>\n      All I want for Christmas is you\n      <br/>\n      You, baby\n      <br/>\n      <br/>\n      Oh, I won't ask for much this Christmas\n      <br/>\n      I won't even\n"
    }
   ],
   "source": [
    "print(soup.prettify()[:10000])"
   ]
  },
  {
   "cell_type": "code",
   "execution_count": 52,
   "metadata": {},
   "outputs": [],
   "source": [
    "my_text = soup.find('div',attrs={'class': None}).text.replace('\\n',' ')[3:] # Extract lyrics text from the azlyrics page and replace newlines with spaces. Also, eliminate the \\r tag and space at the beginning.\n",
    "my_text = word_tokenize(my_text)\n",
    "my_text = [i.lower() for i in my_text if not re.fullmatch('[' + string.punctuation + ']+', i)] #Remove tokens that are just punctuation."
   ]
  },
  {
   "cell_type": "code",
   "execution_count": 45,
   "metadata": {},
   "outputs": [
    {
     "data": {
      "text/plain": "['all',\n 'these',\n 'songs',\n 'are',\n 'about',\n 'or',\n 'heavily',\n 'reference',\n 'historical',\n 'events',\n 'and',\n 'are',\n 'listed',\n 'in',\n 'alphabetical',\n 'order',\n 'by',\n 'song',\n 'title',\n 'ca',\n \"n't\",\n 'find',\n 'your',\n 'song',\n 'add',\n 'to',\n 'this',\n 'list',\n 'and',\n 'link',\n 'it',\n 'a',\n 'aberfan',\n 'by',\n 'dulahan',\n 'about',\n 'the',\n '1966',\n 'coal',\n 'mine',\n 'disaster',\n 'in',\n 'south',\n 'wales',\n 'the',\n 'adams',\n 'administration',\n 'by',\n 'lin-manuel',\n 'miranda',\n 'about',\n 'alexander',\n 'hamilton',\n 'during',\n 'john',\n 'adams',\n 'presidency',\n 'agent',\n 'orange',\n 'by',\n 'kamalata',\n 'connects',\n 'the',\n 'use',\n 'of',\n 'agent',\n 'orange',\n 'to',\n 'earlier',\n 'u.s.',\n 'war',\n 'activities',\n 'a',\n 'great',\n 'day',\n 'for',\n 'freedom',\n 'by',\n 'pink',\n 'floyd',\n 'about',\n 'the',\n 'aftermath',\n 'of',\n 'the',\n 'berlin',\n 'wall',\n 'collapse',\n 'a',\n 'league',\n 'of',\n 'notions',\n 'by',\n 'al',\n 'stewart',\n 'about',\n 'the',\n 'league',\n 'of',\n 'nations',\n 'alexander',\n 'hamilton',\n 'by',\n 'lin-manuel',\n 'miranda',\n 'about',\n 'the',\n 'life',\n 'of',\n 'alexander',\n 'hamilton',\n 'before',\n 'coming',\n 'to',\n 'america',\n 'and',\n 'foreshadowing/referencing',\n 'the',\n 'rest',\n 'of',\n 'his',\n 'life',\n 'alice',\n \"'s\",\n 'restaurant',\n 'by',\n 'arlo',\n 'guthrie',\n 'an',\n '18',\n 'minute',\n 'long',\n 'satirical',\n 'account',\n 'of',\n '60s',\n 'counterculture',\n 'based',\n 'on',\n 'a',\n 'real',\n 'event',\n 'all',\n 'and',\n 'everyone',\n 'by',\n 'pj',\n 'harvey',\n 'about',\n 'the',\n 'the',\n 'battle',\n 'of',\n 'gallipoli',\n 'all',\n 'the',\n 'things',\n 'she',\n 'said',\n 'by',\n 'simple',\n 'minds',\n 'about',\n 'polish',\n 'political',\n 'prisoners',\n 'who',\n 'had',\n 'been',\n 'in',\n 'russia',\n 'since',\n 'the',\n 'end',\n 'of',\n 'wwii',\n 'all',\n 'those',\n 'years',\n 'ago',\n 'by',\n 'george',\n 'harrison',\n 'a',\n 'tribute',\n 'to',\n 'john',\n 'lennon',\n 'which',\n 'references',\n 'his',\n '1980',\n 'assassination',\n 'as',\n 'well',\n 'as',\n 'events',\n 'from',\n 'his',\n 'life',\n 'american',\n 'pie',\n 'by',\n 'don',\n 'mclean',\n 'music',\n 'and',\n 'social',\n 'history',\n 'for',\n 'the',\n 'roughly',\n 'ten',\n 'years',\n 'after',\n 'buddy',\n 'holly',\n \"'s\",\n 'death',\n 'in',\n '1959',\n 'american',\n 'witch',\n 'by',\n 'rob',\n 'zombie',\n 'about',\n 'the',\n 'salem',\n 'witchcraft',\n 'trials',\n 'amerigo',\n 'patti',\n 'smith',\n 'about',\n 'amerigo',\n 'vespucci',\n \"'s\",\n '1497',\n 'voyage',\n 'to',\n 'america',\n 'antarctica',\n 'al',\n 'stewart',\n 'about',\n 'the',\n 'exploits',\n 'of',\n 'robert',\n 'falcon',\n 'scott',\n 'and',\n 'sir',\n 'ernest',\n 'shackleton',\n 'angel',\n 'by',\n 'sarah',\n 'mclachlan',\n 'about',\n 'the',\n 'drug',\n 'overdose',\n 'of',\n 'smashing',\n 'pumpkins',\n 'keyboardist',\n 'jonathan',\n 'melvoin',\n 'anthem',\n 'for',\n 'a',\n 'lost',\n 'cause',\n 'by',\n 'manic',\n 'street',\n 'preachers',\n 'about',\n 'the',\n 'destitution',\n 'caused',\n 'by',\n 'a',\n '1980s',\n 'mining',\n 'strike',\n 'a',\n 'pot',\n 'in',\n 'which',\n 'to',\n 'piss',\n 'titus',\n 'andronicus',\n 'about',\n 'the',\n 'civil',\n 'war',\n 'april',\n '29',\n '1992',\n 'miami',\n 'by',\n 'sublime',\n 'about',\n 'the',\n 'l.a',\n 'riots',\n 'of',\n '1992',\n 'avalon',\n 'of',\n 'the',\n 'heart',\n 'by',\n 'van',\n 'morrison',\n 'about',\n 'the',\n 'arthur',\n 'legend',\n 'b',\n 'backwater',\n 'blues',\n 'by',\n 'leadbelly',\n 'about',\n 'the',\n 'tenessee',\n 'flood',\n 'of',\n '1926',\n 'the',\n 'ballad',\n 'of',\n 'casey',\n 'jones',\n 'by',\n 'wallace',\n 'saunders',\n 'about',\n 'a',\n '1900',\n 'train',\n 'wreck',\n 'in',\n 'mississippi',\n 'and',\n 'the',\n 'engineer',\n \"'s\",\n 'heroic',\n 'death',\n 'the',\n 'ballad',\n 'of',\n 'john',\n 'and',\n 'yoko',\n 'by',\n 'the',\n 'beatles',\n 'about',\n 'john',\n 'and',\n 'yoko',\n \"'s\",\n 'marriage',\n 'the',\n 'ballad',\n 'of',\n 'john',\n 'axon',\n 'by',\n 'ewan',\n 'maccoll',\n 'called',\n 'the',\n 'british',\n 'casey',\n 'jones',\n 'axon',\n \"'s\",\n 'actions',\n 'saved',\n 'many',\n 'lives',\n 'in',\n 'the',\n '1957',\n 'train',\n 'wreck',\n 'ballad',\n 'of',\n 'the',\n 'alamo',\n 'by',\n 'marty',\n 'robbins',\n 'folk',\n 'story',\n 'of',\n 'the',\n 'siege',\n 'of',\n 'the',\n 'alamo',\n 'in',\n '1836',\n 'ballad',\n 'of',\n 'sacco',\n 'and',\n 'vanzetti',\n 'part',\n '1',\n 'by',\n 'joan',\n 'baez',\n 'about',\n 'a',\n 'duo',\n 'sent',\n 'to',\n 'the',\n 'electric',\n 'chair',\n 'ballad',\n 'of',\n 'sacco',\n 'and',\n 'vanzetti',\n 'part',\n '2',\n 'by',\n 'joan',\n 'baez',\n 'about',\n 'a',\n 'duo',\n 'sent',\n 'to',\n 'the',\n 'electric',\n 'chair',\n 'ballad',\n 'of',\n 'sacco',\n 'and',\n 'vanzetti',\n 'part',\n '3',\n 'by',\n 'joan',\n 'baez',\n 'about',\n 'a',\n 'duo',\n 'sent',\n 'to',\n 'the',\n 'electric',\n 'chair',\n 'ballad',\n 'of',\n 'spring',\n 'hill',\n 'by',\n 'peter',\n 'paul',\n 'and',\n 'mary',\n 'about',\n 'the',\n 'spring',\n 'hill',\n 'mining',\n 'disaster',\n 'ballad',\n 'of',\n 'tim',\n 'evans',\n 'by',\n 'ewan',\n 'maccoll',\n 'about',\n 'the',\n '1949',\n 'timothy',\n 'evans',\n 'murder',\n 'trial',\n 'barbarian',\n 'the',\n 'darkness',\n 'about',\n '9th',\n 'century',\n 'viking',\n 'invasion',\n 'the',\n 'battle',\n 'of',\n 'hampton',\n 'roads',\n 'by',\n 'titus',\n 'andronicus',\n 'from',\n 'a',\n 'naval',\n 'technology',\n 'view',\n 'this',\n 'was',\n 'the',\n 'most',\n 'important',\n 'naval',\n 'battle',\n 'of',\n 'the',\n 'u.s.',\n 'civil',\n 'war',\n 'between',\n 'the',\n 'monitor',\n 'and',\n 'the',\n 'css',\n 'virginia',\n 'the',\n 'battle',\n 'of',\n 'new',\n 'orleans',\n 'by',\n 'johnny',\n 'horton',\n 'about',\n 'the',\n '1814',\n 'battle',\n 'of',\n 'new',\n 'orleans',\n 'belfast',\n 'child',\n 'by',\n 'simple',\n 'minds',\n 'about',\n 'the',\n 'enneskillen',\n 'bombing',\n 'belsen',\n 'was',\n 'a',\n 'gas',\n 'by',\n 'the',\n 'sex',\n 'pistols',\n 'about',\n 'the',\n 'nazis',\n 'the',\n 'big',\n 'three',\n 'killed',\n 'my',\n 'baby',\n 'by',\n 'the',\n 'white',\n 'stripes',\n 'the',\n 'struggle',\n 'and',\n 'failure',\n 'of',\n 'preston',\n 'tucker',\n 'to',\n 'launch',\n 'a',\n 'new',\n 'automobile',\n 'company',\n 'birdland',\n 'by',\n 'manhattan',\n 'transfer',\n 'about',\n 'the',\n 'new',\n 'york',\n 'jazz',\n 'club',\n 'birdland',\n 'that',\n 'operated',\n 'from',\n '1949',\n '1965',\n 'charlie',\n 'yardbird',\n 'parker',\n 'reportedly',\n 'named',\n 'it',\n 'blackbeard',\n \"'s\",\n 'ghost',\n 'by',\n 'chase',\n 'rice',\n 'about',\n 'a',\n 'north',\n 'carolina',\n 'ghost',\n 'story',\n 'stating',\n 'you',\n 'can',\n 'see',\n 'blackbeard',\n \"'s\",\n 'ghost',\n 'the',\n 'song',\n 'also',\n 'references',\n 'blackbeard',\n \"'s\",\n 'death',\n 'and',\n 'journey',\n 'in',\n 'the',\n 'state',\n 'black',\n 'day',\n 'in',\n 'july',\n 'by',\n 'gordon',\n 'lightfoot',\n 'about',\n '1967',\n 'detroit',\n 'riot',\n 'black',\n 'friday',\n 'by',\n 'steely',\n 'dan',\n 'about',\n 'the',\n 'original',\n 'black',\n 'friday',\n '24',\n 'september',\n '1869',\n 'blue',\n 'sky',\n 'mine',\n 'by',\n 'midnight',\n 'oil',\n 'about',\n 'workers',\n 'at',\n 'wittenoom',\n 'asbestos',\n 'mines',\n 'blow',\n 'us',\n 'all',\n 'away',\n 'by',\n 'lin-manuel',\n 'miranda',\n 'about',\n 'philip',\n 'hamilton',\n \"'s\",\n 'dual',\n 'with',\n 'george',\n 'eacker',\n 'boston',\n 'tea',\n 'party',\n 'by',\n 'the',\n 'sensational',\n 'alex',\n 'harvey',\n 'band',\n 'about',\n 'the',\n 'boston',\n 'tea',\n 'party',\n 'the',\n 'boy',\n 'in',\n 'the',\n 'bubble',\n 'by',\n 'paul',\n 'simon',\n 'about',\n 'the',\n 'change',\n 'that',\n 'began',\n 'in',\n 'the',\n '1980s',\n 'from',\n 'conventional',\n 'wars',\n 'to',\n 'terrorism',\n 'braes',\n 'o',\n 'killiecrankie',\n 'by',\n 'the',\n 'corries',\n 'about',\n 'the',\n 'battle',\n 'of',\n 'killiecrankie',\n 'in',\n '1689',\n 'brian',\n 'wilson',\n 'by',\n 'barenakedladies',\n 'about',\n 'brian',\n 'wilson',\n \"'s\",\n 'struggles',\n 'with',\n 'mental',\n 'health',\n 'brighter',\n 'than',\n 'a',\n 'thousand',\n 'suns',\n 'by',\n 'iron',\n 'maiden',\n 'about',\n 'the',\n 'manhattan',\n 'project',\n 'the',\n 'british',\n 'are',\n 'coming',\n 'by',\n 'weezer',\n 'using',\n 'the',\n 'american',\n 'colonies',\n 'relationship',\n 'with',\n 'the',\n 'king',\n 'of',\n 'england',\n 'as',\n 'a',\n 'metaphor',\n 'for',\n 'the',\n 'relationship',\n 'between',\n 'a',\n 'father',\n 'and',\n 'son',\n 'burial',\n 'of',\n 'wild',\n 'bill',\n 'by',\n 'captain',\n 'jack',\n 'crawford',\n 'bill',\n 'hickok',\n 'was',\n 'killed',\n '2',\n 'august',\n '1876',\n 'by',\n 'a',\n 'shot',\n 'to',\n 'the',\n 'back',\n 'of',\n 'the',\n 'head',\n 'by',\n 'jack',\n 'mccall',\n 'while',\n 'playing',\n 'poker',\n 'in',\n 'a',\n 'deadwood',\n 'south',\n 'dakota',\n 'saloon',\n 'burke',\n 'and',\n 'hare',\n 'by',\n 'the',\n 'scaffold',\n 'about',\n 'the',\n 'burke',\n 'and',\n 'hare',\n 'murders',\n 'burn',\n 'by',\n 'lin-manuel',\n 'miranda',\n 'an',\n 'imagined',\n 'response',\n 'by',\n 'elisa',\n 'hamilton',\n 'to',\n 'the',\n 'reynolds',\n 'pamphlet',\n 'burn',\n 'on',\n 'by',\n 'randy',\n 'newman',\n 'about',\n 'the',\n '1969',\n 'cuyahoga',\n 'river',\n 'fire',\n 'in',\n 'cleveland',\n 'ohio',\n 'bye',\n 'bye',\n 'badman',\n 'by',\n 'the',\n 'stone',\n 'roses',\n 'about',\n 'the',\n '1968',\n 'paris',\n 'riots',\n 'c',\n 'cabinet',\n 'battle',\n '1',\n 'by',\n 'lin-manuel',\n 'miranda',\n 'about',\n 'the',\n 'creation',\n 'of',\n 'the',\n 'u.s.',\n 'banking',\n 'system',\n 'cabinet',\n 'battle',\n '2',\n 'by',\n 'lin-manuel',\n 'miranda',\n 'about',\n 'america',\n \"'s\",\n 'decision',\n 'not',\n 'to',\n 'get',\n 'involved',\n 'in',\n 'the',\n 'french',\n 'revolution',\n 'calypso',\n 'by',\n 'john',\n 'denver',\n 'about',\n 'cousteau',\n \"'s\",\n 'ship',\n 'the',\n 'calypso',\n 'canadian',\n 'railroad',\n 'trilogy',\n 'gordon',\n 'lightfoot',\n 'about',\n 'the',\n 'canadian',\n 'pacific',\n 'railway',\n 'canvey',\n 'island',\n 'british',\n 'sea',\n 'power',\n 'about',\n 'the',\n '1953',\n 'flood',\n 'of',\n 'canvey',\n 'island',\n 'can',\n 'you',\n 'run',\n 'by',\n 'the',\n 'steeldrivers',\n 'about',\n 'a',\n 'slave',\n 'beginning',\n 'a',\n 'journey',\n 'on',\n 'the',\n 'underground',\n 'railroad',\n 'during',\n 'the',\n 'american',\n 'civil',\n 'war',\n 'carry',\n 'me',\n 'back',\n 'to',\n 'virginia',\n 'by',\n 'old',\n 'crow',\n 'medicine',\n 'show',\n 'about',\n 'a',\n 'confederate',\n 'soldier',\n 'fighting',\n 'for',\n 'the',\n 'state',\n 'of',\n 'virginia',\n 'casey',\n 'jones',\n 'by',\n 'the',\n 'grateful',\n 'dead',\n 'railroad',\n 'engineer',\n 'casey',\n 'jones',\n 'rides',\n ...]"
     },
     "execution_count": 45,
     "metadata": {},
     "output_type": "execute_result"
    }
   ],
   "source": [
    "my_text = currentsong.lyrics\n",
    "my_text = word_tokenize(my_text)\n",
    "my_text = [i.lower() for i in my_text if not re.fullmatch('[' + string.punctuation + ']+', i)] #Remove tokens that are just punctuation.\n",
    "my_text"
   ]
  },
  {
   "cell_type": "code",
   "execution_count": 53,
   "metadata": {},
   "outputs": [
    {
     "name": "stdout",
     "output_type": "stream",
     "text": "['i', 'do', \"n't\", 'want', 'a', 'lot', 'for', 'christma', 'there', 'is', 'just', 'one', 'thing', 'i', 'need', 'i', 'do', \"n't\", 'care', 'about', 'the', 'present', 'underneath', 'the', 'christma', 'tree', 'i', 'just', 'want', 'you', 'for', 'my', 'own', 'more', 'than', 'you', 'could', 'ever', 'know', 'make', 'my', 'wish', 'come', 'true', 'all', 'i', 'want', 'for', 'christma', 'is', 'you', 'yeah', 'i', 'do', \"n't\", 'want', 'a', 'lot', 'for', 'christma', 'there', 'is', 'just', 'one', 'thing', 'i', 'need', 'and', 'i', 'do', \"n't\", 'care', 'about', 'the', 'present', 'underneath', 'the', 'christma', 'tree', 'i', 'do', \"n't\", 'need', 'to', 'hang', 'my', 'stock', 'there', 'upon', 'the', 'fireplac', 'santa', 'clau', 'wo', \"n't\", 'make', 'me', 'happi', 'with', 'a', 'toy', 'on', 'christma', 'day', 'i', 'just', 'want', 'you', 'for', 'my', 'own', 'more', 'than', 'you', 'could', 'ever', 'know', 'make', 'my', 'wish', 'come', 'true', 'all', 'i', 'want', 'for', 'christma', 'is', 'you', 'you', 'babi', 'oh', 'i', 'wo', \"n't\", 'ask', 'for', 'much', 'thi', 'christma', 'i', 'wo', \"n't\", 'even', 'wish', 'for', 'snow', 'and', 'i', \"'m\", 'just', 'gon', 'na', 'keep', 'on', 'wait', 'underneath', 'the', 'mistleto', 'i', 'wo', \"n't\", 'make', 'a', 'list', 'and', 'send', 'it', 'to', 'the', 'north', 'pole', 'for', 'saint', 'nick', 'i', 'wo', \"n't\", 'even', 'stay', 'awak', 'to', 'hear', 'those', 'magic', 'reindeer', 'click', \"'caus\", 'i', 'just', 'want', 'you', 'here', 'tonight', 'hold', 'on', 'to', 'me', 'so', 'tight', 'what', 'more', 'can', 'i', 'do', 'babi', 'all', 'i', 'want', 'for', 'christma', 'is', 'you', 'you', 'babi', 'oh', 'all', 'the', 'light', 'are', 'shine', 'so', 'brightli', 'everywher', 'and', 'the', 'sound', 'of', 'children', \"'s\", 'laughter', 'fill', 'the', 'air', 'and', 'everyon', 'is', 'sing', 'i', 'hear', 'those', 'sleigh', 'bell', 'ring', 'santa', 'wo', \"n't\", 'you', 'bring', 'me', 'the', 'one', 'i', 'realli', 'need', 'wo', \"n't\", 'you', 'pleas', 'bring', 'my', 'babi', 'to', 'me', 'oh', 'i', 'do', \"n't\", 'want', 'a', 'lot', 'for', 'christma', 'thi', 'is', 'all', 'i', \"'m\", 'ask', 'for', 'i', 'just', 'wan', 'na', 'see', 'my', 'babi', 'stand', 'right', 'outsid', 'my', 'door', 'oh', 'i', 'just', 'want', 'you', 'for', 'my', 'own', 'more', 'than', 'you', 'could', 'ever', 'know', 'make', 'my', 'wish', 'come', 'true', 'babi', 'all', 'i', 'want', 'for', 'christma', 'is', 'you', 'you', 'babi', 'all', 'i', 'want', 'for', 'christma', 'is', 'you', 'babi', 'repeat', 'with', 'ad-lib', 'until', 'fade']\n"
    }
   ],
   "source": [
    "port_stem = PorterStemmer() # The following code will stem the words in the lyrics. This means that, for example, \"stop\", \"stopping\", and \"stops\" will only count as one unique word.\n",
    "\n",
    "stem_text = []\n",
    "\n",
    "for i in range(len(my_text)):\n",
    "    stem_text.append(port_stem.stem(my_text[i]))\n",
    "\n",
    "print(stem_text)"
   ]
  },
  {
   "cell_type": "code",
   "execution_count": 54,
   "metadata": {},
   "outputs": [
    {
     "data": {
      "text/plain": "114"
     },
     "execution_count": 54,
     "metadata": {},
     "output_type": "execute_result"
    }
   ],
   "source": [
    "unique_count = len(set(stem_text))\n",
    "unique_count"
   ]
  },
  {
   "cell_type": "code",
   "execution_count": 55,
   "metadata": {},
   "outputs": [
    {
     "data": {
      "text/plain": "334"
     },
     "execution_count": 55,
     "metadata": {},
     "output_type": "execute_result"
    }
   ],
   "source": [
    "len(my_text)"
   ]
  },
  {
   "cell_type": "code",
   "execution_count": null,
   "metadata": {},
   "outputs": [],
   "source": []
  }
 ]
}