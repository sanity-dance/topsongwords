{
 "nbformat": 4,
 "nbformat_minor": 2,
 "metadata": {
  "language_info": {
   "name": "python",
   "codemirror_mode": {
    "name": "ipython",
    "version": 3
   },
   "version": "3.7.3-final"
  },
  "orig_nbformat": 2,
  "file_extension": ".py",
  "mimetype": "text/x-python",
  "name": "python",
  "npconvert_exporter": "python",
  "pygments_lexer": "ipython3",
  "version": 3,
  "kernelspec": {
   "name": "python37364bitbasecondabf8fb41153a84f57a80aba5a735c6d6d",
   "display_name": "Python 3.7.3 64-bit ('base': conda)"
  }
 },
 "cells": [
  {
   "cell_type": "code",
   "execution_count": null,
   "metadata": {},
   "outputs": [],
   "source": [
    "from bs4 import BeautifulSoup\n",
    "import requests\n",
    "import pandas as pd\n",
    "import numpy as np\n",
    "import nltk\n",
    "import string\n",
    "import re\n",
    "import time as t\n",
    "from nltk.tokenize import word_tokenize\n",
    "from nltk.corpus import stopwords\n",
    "from nltk.stem import PorterStemmer\n",
    "import lyricsgenius\n",
    "genius = lyricsgenius.Genius(\"bWUqXEIz9jor2w6fi9sLD3KfilReDFPZL7Ox3OCkD_Sz8ICXaAFSTOUkH-tsv1oW\")\n",
    "genius.remove_section_headers = True\n",
    "genius.skip_non_songs = True"
   ]
  },
  {
   "cell_type": "code",
   "execution_count": null,
   "metadata": {},
   "outputs": [],
   "source": [
    "# The goal of this prototype is to fetch the lyrics of a specific song, in preparation for the full script that will iterate through the yearly data.\n",
    "\n",
    "songdata = pd.read_csv('data/top10songs.csv')"
   ]
  },
  {
   "cell_type": "code",
   "execution_count": null,
   "metadata": {},
   "outputs": [],
   "source": [
    "headers = {'User-Agent': 'Mozilla/5.0 (Windows NT 6.1) AppleWebKit/537.36 (KHTML, like Gecko) Chrome/41.0.2228.0 Safari/537.3'}\n",
    "cookies = { 'sessionid': '123..'}\n",
    "i = 4 # Set i to the position in the songdata datafrae you would like to examine.\n",
    "url = 'https://www.azlyrics.com/lyrics/'\n",
    "artist = songdata['Artist'][i] # artist1 and artist2 are the most common ways azlyrics represents artist names. artist1 removes spaces while artist2 replaces                                  them with a dash.\n",
    "artist1 = ''.join(artist.split()).lower().replace('\\'','').replace('!','').replace('.','').replace('+','').replace('ñ','n').replace('é','e')\n",
    "artist2 = artist.lower().replace('\\'','').replace(' ','-').replace('!','').replace('.','').replace('+','').replace('ñ','n').replace('é','e')\n",
    "artistl = []\n",
    "if ', ' in artist: # Handles cases where there are three listed artists.\n",
    "    artistl.append(artist1[:artist1.rfind(',')])\n",
    "    artistl.append(artist1[artist1.find(',')+1:artist1.rfind('and')])\n",
    "    artistl.append(artist1[artist1.rfind('and')+3:])\n",
    "elif ' with ' in artist:\n",
    "    artistl.append(artist1[:artist1.rfind('with')])\n",
    "    artistl.append(artist2[:artist2.rfind('-with')])\n",
    "elif ' and ' in artist: # Handles cases where there are two listed artists.\n",
    "    artistl.append(artist1[:artist1.rfind('and')])\n",
    "    artistl.append(artist2[:artist2.rfind('-and')])\n",
    "    if ' featuring ' in artist: # Handles a case with multiple featured artists.\n",
    "        artistl.append(artist1[:artist1.rfind('featuring')])\n",
    "        artistl.append(artist2[:artist2.rfind('featuring')])\n",
    "    artistl.append(artist1) # Cases where 'and' is in the artist name, ex. 'Tones and I'\n",
    "elif 'bts' in artist1: # Handles that one k-pop group.\n",
    "    artistl.append('bangtanboys')\n",
    "elif ' featuring ' in artist: # Handles cases where there is a featured artist.\n",
    "    artistl.append(artist1[:artist1.rfind('featuring')])\n",
    "    artistl.append(artist2[:artist2.rfind('featuring')])\n",
    "else: # Handles cases where there is one artist (which is most of them)\n",
    "    artistl.append(artist1)\n",
    "    artistl.append(artist2)\n",
    "    artistl.append(artist1[artist1.find('the')+3:]) # Handles a rare case where Wikipedia includes a \"the\" in the artist name and azlyrics does not.\n",
    "# The first three entries of the above list are standard single artist titles. The next three handle cases of collaborations between two artists. The next four after that handle collaborations between three artists. The last entry handles a rare case where Wikipedia includes a \"the\" in the artist name and azlyrics does not.\n",
    "title = ''.join(songdata['Title'][i].split()).lower().replace('\\'','').replace(',','').replace('!','').replace('ñ','n').replace('é','e') # azlyrics seems to represent all song titles in the same way.\n",
    "titlel = [title, 'a' + title, 'the' + title] # However, there are very rare cases, such as 'Holly Jolly Christmas', where azlyrics includes an 'a' or a 'the' at the beginning of a song and Wikipedia does not. These cases will only be tested if all of the artist configurations fail.\n",
    "if 'futsal' in title:\n",
    "    titlel.insert(0,'futsalshuffle')\n",
    "print(artistl)\n",
    "print(titlel)"
   ]
  },
  {
   "cell_type": "code",
   "execution_count": null,
   "metadata": {},
   "outputs": [],
   "source": [
    "geniusl = []\n",
    "if ', ' in artist: # Handles cases where there are three listed artists.\n",
    "    geniusl.append(artist[:artist.rfind(',')])\n",
    "    geniusl.append(artist[artist.find(',')+1:artist1.rfind(' and ')])\n",
    "    geniusl.append(artist[artist.rfind(' and ')+5:])\n",
    "elif ' with ' in artist:\n",
    "    geniusl.append(artist[:artist.rfind(' with')])\n",
    "elif ' and ' in artist: # Handles cases where there are two listed artists.\n",
    "    geniusl.append(artist[:artist.rfind(' and')])\n",
    "    if ' featuring ' in artist: # Handles a case with multiple featured artists.\n",
    "        geniusl.append(artist[:artist.rfind(' featuring ')])\n",
    "    geniusl.append(artist) # Cases where 'and' is in the artist name, ex. 'Tones and I'\n",
    "elif ' featuring ' in artist: # Handles cases where there is a featured artist.\n",
    "    geniusl.append(artist[:artist.rfind(' featuring ')])\n",
    "else: # Handles cases where there is one artist (which is most of them)\n",
    "    if 'the' in artist:\n",
    "        geniusl.append(artist[artist.find('the ')+4:])\n",
    "    if 'The' in artist:\n",
    "        geniusl.append(artist[artist.find('The ')+4:])\n",
    "    geniusl.append(artist)\n",
    "    if 'Show' in artist:\n",
    "        geniusl.append(artist[artist.find('The ')+4:artist.rfind(' Show')]) # Handles some cases from the 50s and 60s.\n",
    "geniusl"
   ]
  },
  {
   "cell_type": "code",
   "execution_count": null,
   "metadata": {},
   "outputs": [],
   "source": [
    "success = False\n",
    "for j in range(len(titlel)):\n",
    "    for k in range(len(artistl)):\n",
    "        if requests.get(url + artistl[k] + '/' + titlel[j] + '.html').status_code == 200:\n",
    "            html = requests.get(url + artistl[k] + '/' + titlel[j] + '.html',cookies=cookies,headers=headers).text\n",
    "            soup = BeautifulSoup(html, 'lxml')\n",
    "            print(url + artistl[k] + '/' + titlel[j] + '.html')\n",
    "            success = True\n",
    "            t.sleep(3)\n",
    "            break\n",
    "        t.sleep(3)\n",
    "    if success: # Escapes the outer loop when URL succeeds without using a second request.\n",
    "        break\n",
    "    if j == len(titlel) - 1:\n",
    "        print('Song ' + songdata['Title'][i] + ' by ' + artist + ' at position ' + str(i) + ' not found!')"
   ]
  },
  {
   "cell_type": "code",
   "execution_count": null,
   "metadata": {},
   "outputs": [],
   "source": [
    "success = False\n",
    "for l in range(len(geniusl)):\n",
    "    if genius.search_song(songdata['Title'][i].replace('\\'',''),geniusl[l]) != None:\n",
    "        currentsong = genius.search_song(songdata['Title'][i].replace('\\'',''),geniusl[l])\n",
    "        success = True\n",
    "        t.sleep(3)\n",
    "        break\n",
    "    t.sleep(3)\n",
    "if success == False:\n",
    "    print('Song ' + songdata['Title'][i] + ' by ' + artist + ' at position ' + str(i) + ' not found!')"
   ]
  },
  {
   "cell_type": "code",
   "execution_count": null,
   "metadata": {},
   "outputs": [],
   "source": [
    "artistl"
   ]
  },
  {
   "cell_type": "code",
   "execution_count": null,
   "metadata": {},
   "outputs": [],
   "source": [
    "print(soup.prettify()[:10000])"
   ]
  },
  {
   "cell_type": "code",
   "execution_count": null,
   "metadata": {},
   "outputs": [],
   "source": [
    "my_text = soup.find('div',attrs={'class': None}).text.replace('\\n',' ').replace(',','')[3:] # Extract lyrics text from the azlyrics page and replace newlines with spaces. Also, eliminate the \\r tag and space at the beginning.\n",
    "token_text = word_tokenize(my_text)\n",
    "token_text = [i.lower() for i in token_text if not re.fullmatch('[' + string.punctuation + ']+', i)] #Remove tokens that are just punctuation. This method preserves contractions like \"n't\".\n",
    "token_text"
   ]
  },
  {
   "cell_type": "code",
   "execution_count": null,
   "metadata": {},
   "outputs": [],
   "source": [
    "my_text = currentsong.lyrics\n",
    "token_text = word_tokenize(my_text)\n",
    "token_text = [i.lower() for i in token_text if not re.fullmatch('[' + string.punctuation + ']+', i)] #Remove tokens that are just punctuation. This method preserves contractions like \"n't\"."
   ]
  },
  {
   "cell_type": "code",
   "execution_count": null,
   "metadata": {},
   "outputs": [],
   "source": [
    "port_stem = PorterStemmer() # The following code will stem the words in the lyrics. This means that, for example, \"stop\", \"stopping\", and \"stops\" will only count as one unique word.\n",
    "\n",
    "stem_text = []\n",
    "\n",
    "for i in range(len(token_text)):\n",
    "    stem_text.append(port_stem.stem(my_text[i]))\n",
    "\n",
    "print(stem_text)"
   ]
  },
  {
   "cell_type": "code",
   "execution_count": null,
   "metadata": {},
   "outputs": [],
   "source": [
    "unique_count = len(set(stem_text))\n",
    "unique_count"
   ]
  },
  {
   "cell_type": "code",
   "execution_count": null,
   "metadata": {},
   "outputs": [],
   "source": [
    "len(my_text)"
   ]
  },
  {
   "cell_type": "code",
   "execution_count": null,
   "metadata": {},
   "outputs": [],
   "source": []
  }
 ]
}