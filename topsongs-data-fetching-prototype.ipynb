{
 "nbformat": 4,
 "nbformat_minor": 2,
 "metadata": {
  "language_info": {
   "name": "python",
   "codemirror_mode": {
    "name": "ipython",
    "version": 3
   },
   "version": "3.7.3"
  },
  "orig_nbformat": 2,
  "file_extension": ".py",
  "mimetype": "text/x-python",
  "name": "python",
  "npconvert_exporter": "python",
  "pygments_lexer": "ipython3",
  "version": 3
 },
 "cells": [
  {
   "cell_type": "code",
   "execution_count": 2,
   "metadata": {},
   "outputs": [],
   "source": [
    "from bs4 import BeautifulSoup\n",
    "import requests\n",
    "import pandas as pd\n",
    "import numpy as np\n",
    "import datetime\n"
   ]
  },
  {
   "cell_type": "code",
   "execution_count": 8,
   "metadata": {},
   "outputs": [
    {
     "name": "stdout",
     "output_type": "stream",
     "text": "<!DOCTYPE html>\n<html class=\"client-nojs\" dir=\"ltr\" lang=\"en\">\n <head>\n  <meta charset=\"utf-8\"/>\n  <title>\n   List of Billboard Hot 100 top-ten singles in 2019 - Wikipedia\n  </title>\n  <script>\n   document.documentElement.className=\"client-js\";RLCONF={\"wgBreakFrames\":!1,\"wgSeparatorTransformTable\":[\"\",\"\"],\"wgDigitTransformTable\":[\"\",\"\"],\"wgDefaultDateFormat\":\"dmy\",\"wgMonthNames\":[\"\",\"January\",\"February\",\"March\",\"April\",\"May\",\"June\",\"July\",\"August\",\"September\",\"October\",\"November\",\"December\"],\"wgMonthNamesShort\":[\"\",\"Jan\",\"Feb\",\"Mar\",\"Apr\",\"May\",\"Jun\",\"Jul\",\"Aug\",\"Sep\",\"Oct\",\"Nov\",\"Dec\"],\"wgRequestId\":\"XgESlwpAMFUAAAvZyyMAAACC\",\"wgCSPNonce\":!1,\"wgCanonicalNamespace\":\"\",\"wgCanonicalSpecialPageName\":!1,\"wgNamespaceNumber\":0,\"wgPageName\":\"List_of_Billboard_Hot_100_top-ten_singles_in_2019\",\"wgTitle\":\"List of Billboard Hot 100 top-ten singles in 2019\",\"wgCurRevisionId\":932136634,\"wgRevisionId\":932136634,\"wgArticleId\":59536348,\"wgIsArticle\":!0,\"wgIsRedirect\":!1,\"wgAction\":\"view\",\"wgUserName\":\n"
    }
   ],
   "source": [
    "headers = {'User-Agent': 'Mozilla/5.0 (Windows NT 6.1) AppleWebKit/537.36 (KHTML, like Gecko) Chrome/41.0.2228.0 Safari/537.3'}\n",
    "html = requests.get('https://en.wikipedia.org/wiki/List_of_Billboard_Hot_100_top-ten_singles_in_2019',cookies={ 'sessionid': '123..'},headers=headers).text\n",
    "soup = BeautifulSoup(html, 'lxml')\n",
    "print(soup.prettify()[0:1000])"
   ]
  },
  {
   "cell_type": "code",
   "execution_count": 14,
   "metadata": {},
   "outputs": [
    {
     "data": {
      "text/plain": "bs4.element.Tag"
     },
     "execution_count": 14,
     "metadata": {},
     "output_type": "execute_result"
    }
   ],
   "source": [
    "my_table = soup.find('table',{'class':'wikitable sortable'})\n",
    "type(my_table)"
   ]
  },
  {
   "cell_type": "code",
   "execution_count": 15,
   "metadata": {},
   "outputs": [],
   "source": [
    "Titles = []\n",
    "tableheaderincluded = True\n",
    "\n",
    "# The following code mines the first table found on the Wikipedia page and extracts only table elements that do not correspond to a month and date. We don't care about the exact month and day that the song achieved Top 10 glory or their peek date. Furthermore, the way Wikipedia's tables are formatted, there are occasionally multiple songs that were all entered on the same day, and that date is listed only once, which creates problems for our script later down the road.\n",
    "\n",
    "try:\n",
    "    tds = my_table.findAll('td')\n",
    "except AttributeError:\n",
    "    my_table = soup.find('table',{'class':'wikitable'})\n",
    "    tableheaderincluded = False\n",
    "    tds = my_table.findAll('td')\n",
    "\n",
    "for td in tds:\n",
    "    try:\n",
    "        d = datetime.datetime.strptime(td.get_text()[:-1], \"%B %d\") # Check if the current string is a Month Day format.\n",
    "    except ValueError:\n",
    "        try:\n",
    "            d = datetime.datetime.strptime(td.get_text()[:td.get_text().rfind('(')-1], \"%B %d\") # Catch a rare case where a song from the previous year charted again.\n",
    "        except ValueError:\n",
    "            if td.get_text()[0] != '[': # Drop annotations column.\n",
    "                Titles.append(td.get_text()[:-1]) # Drop the newline character present at the end of every single entry.\n",
    "\n"
   ]
  },
  {
   "cell_type": "code",
   "execution_count": 16,
   "metadata": {},
   "outputs": [
    {
     "name": "stdout",
     "output_type": "stream",
     "text": "['\"All I Want For Christmas Is You\"[U]', 'Mariah Carey', '1', '9*', '\"Shallow\"[C]', 'Lady Gaga and Bradley Cooper', '1', '7', '\"Happier\"(#6)', 'Marshmello and Bastille', '2', '27', '\"Sunflower\"(#2)[J][Q] ◁', 'Post Malone and Swae Lee', '1', '33', '\"Without Me\"(#3)', 'Halsey', '1', '29', '\"High Hopes\"', 'Panic! at the Disco', '4', '15', '\"Jingle Bell Rock\"[W]', 'Bobby Helms', '8', '2*', '\"Rockin\\' Around the Christmas Tree\"[U]', 'Brenda Lee', '2', '4*', '\"Holly Jolly Christmas\"[V]', 'Burl Ives', '6', '3*', '\"Eastside\"[B]', 'Benny Blanco, Halsey and Khalid', '9', '2', '\"Wow\"(#5)', 'Post Malone', '2', '24', '\"7 Rings\"(#7) ◁', 'Ariana Grande', '1', '16', '\"Middle Child\"[C][H]', 'J. Cole', '4', '10', '\"Break Up with Your Girlfriend, I\\'m Bored\" ◁', 'Ariana Grande', '2', '2', '\"Please Me\"[D] ◁', 'Cardi B and Bruno Mars', '3', '8', '\"Thotiana\"[F]', 'Blueface', '8', '2', '\"Sucker\"(#10) ◁', 'Jonas Brothers', '1', '22', '\"Old Town Road\"(#1)[R]', 'Lil Nas X featuring Billy Ray Cyrus1', '1', '26', '\"Bad Guy\"(#4)[G] ◁', 'Billie Eilish', '1', '30', '\"Better\"', 'Khalid', '8', '1', '\"Dancing with a Stranger\"[I]', 'Sam Smith and Normani', '7', '8', '\"Boy with Luv\" ◁', 'BTS featuring Halsey', '8', '1', '\"Talk\"(#8)[I]', 'Khalid', '3', '19', '\"Me!\"', 'Taylor Swift featuring Brendon Urie', '2', '4', '\"If I Can\\'t Have You\"[L][N] ◁', 'Shawn Mendes', '2', '4', '\"Homicide\" ◁', 'Logic featuring Eminem', '5', '1', '\"I Don\\'t Care\" ◁', 'Ed Sheeran and Justin Bieber', '2', '17', '\"Sweet but Psycho\"', 'Ava Max', '10', '3', '\"Suge\"', 'DaBaby', '7', '7', '\"No Guidance\"[K][M] ◁', 'Chris Brown featuring Drake', '5', '23', '\"You Need to Calm Down\"[O] ◁', 'Taylor Swift', '2', '2', '\"Money in the Grave\" ◁', 'Drake featuring Rick Ross', '7', '2', '\"Señorita\" ◁', 'Shawn Mendes and Camila Cabello', '1', '23', '\"Truth Hurts\"', 'Lizzo', '1', '22', '\"Goodbyes\"[P] ◁', 'Post Malone featuring Young Thug', '3', '12', '\"Ransom\"', 'Lil Tecca', '4', '13', '\"Boyfriend\" ◁', 'Ariana Grande and Social House', '8', '1', '\"Lover\"', 'Taylor Swift', '10', '1', '\"Circles\" ◁', 'Post Malone', '1', '16*', '\"Take What You Want\" ◁', 'Post Malone featuring Ozzy Osbourne and Travis Scott', '8', '1', '\"Someone You Loved\"', 'Lewis Capaldi', '1', '15*', '\"Panini\"', 'Lil Nas X', '5', '9', '\"Highest in the Room\" ◁', 'Travis Scott', '1', '3', '\"10,000 Hours\"[S][T] ◁', 'Dan + Shay and Justin Bieber', '4', '7', '\"Bandit\"', 'Juice Wrld and YoungBoy Never Broke Again', '10', '1', '\"Lose You to Love Me\"', 'Selena Gomez', '1', '6', '\"Good as Hell\"', 'Lizzo', '3', '8*', '\"Follow God\" ◁', 'Kanye West', '7', '1', '\"Memories\"', 'Maroon 5', '4', '7*', '\"Everything I Wanted\"', 'Billie Eilish', '8', '1', '\"Roxanne\"', 'Arizona Zervas', '4', '4*', '\"Heartless\"', 'The Weeknd', '1', '1', '\"Dance Monkey\"', 'Tones and I', '9', '1', '\"Futsal Shuffle 2020\" ◁', 'Lil Uzi Vert', '5', '1*']\n"
    }
   ],
   "source": [
    "print(Titles)"
   ]
  },
  {
   "cell_type": "code",
   "execution_count": 17,
   "metadata": {},
   "outputs": [],
   "source": [
    "nptitles = np.asarray(Titles).copy()"
   ]
  },
  {
   "cell_type": "code",
   "execution_count": 18,
   "metadata": {},
   "outputs": [
    {
     "data": {
      "text/plain": "216"
     },
     "execution_count": 18,
     "metadata": {},
     "output_type": "execute_result"
    }
   ],
   "source": [
    "len(nptitles)"
   ]
  },
  {
   "cell_type": "code",
   "execution_count": 19,
   "metadata": {},
   "outputs": [],
   "source": [
    "numsongs = int(np.prod(nptitles.shape)/4) # Find out how many songs are in this list.\n",
    "reshaped = nptitles.reshape(numsongs,4) # Reshape the array based on the number of songs and the number of columns."
   ]
  },
  {
   "cell_type": "code",
   "execution_count": 36,
   "metadata": {},
   "outputs": [],
   "source": [
    "songdata = pd.DataFrame(reshaped)\n",
    "songdata.columns = ['Title','Artist','Peak','Number of weeks in top ten']\n",
    "songdata['Year'] = [2019] * numsongs\n",
    "songdata['Title'] = [i[1:i.rfind('\\\"')] for i in songdata['Title']] # Drops quotation marks and annotations in Title.\n",
    "cleanweeks = []\n",
    "for i in songdata['Number of weeks in top ten']: # This code searches the number of weeks in top ten column for asterisks and eliminates them. This is only a \n",
    "    try:                                         # problem in the current year.\n",
    "        cleanweeks.append(int(i[:i.rindex('*')]))\n",
    "    except ValueError:\n",
    "        cleanweeks.append(int(i))\n",
    "\n",
    "songdata['Number of weeks in top ten'] = cleanweeks\n",
    "del songdata['Peak'] # This will not be relevant to our analysis."
   ]
  },
  {
   "cell_type": "code",
   "execution_count": 38,
   "metadata": {},
   "outputs": [
    {
     "data": {
      "text/html": "<div>\n<style scoped>\n    .dataframe tbody tr th:only-of-type {\n        vertical-align: middle;\n    }\n\n    .dataframe tbody tr th {\n        vertical-align: top;\n    }\n\n    .dataframe thead th {\n        text-align: right;\n    }\n</style>\n<table border=\"1\" class=\"dataframe\">\n  <thead>\n    <tr style=\"text-align: right;\">\n      <th></th>\n      <th>Title</th>\n      <th>Artist</th>\n      <th>Number of weeks in top ten</th>\n      <th>Year</th>\n    </tr>\n  </thead>\n  <tbody>\n    <tr>\n      <th>0</th>\n      <td>Poor Little Fool</td>\n      <td>Ricky Nelson</td>\n      <td>6</td>\n      <td>2019</td>\n    </tr>\n    <tr>\n      <th>1</th>\n      <td>Patricia</td>\n      <td>Pérez Prado</td>\n      <td>6</td>\n      <td>2019</td>\n    </tr>\n    <tr>\n      <th>2</th>\n      <td>Splish Splash</td>\n      <td>Bobby Darin</td>\n      <td>3</td>\n      <td>2019</td>\n    </tr>\n    <tr>\n      <th>3</th>\n      <td>Hard Headed Woman</td>\n      <td>Elvis Presley</td>\n      <td>2</td>\n      <td>2019</td>\n    </tr>\n    <tr>\n      <th>4</th>\n      <td>When</td>\n      <td>Kalin Twins</td>\n      <td>5</td>\n      <td>2019</td>\n    </tr>\n    <tr>\n      <th>5</th>\n      <td>Rebel 'Rouser</td>\n      <td>Duane Eddy</td>\n      <td>3</td>\n      <td>2019</td>\n    </tr>\n    <tr>\n      <th>6</th>\n      <td>Yakety Yak</td>\n      <td>The Coasters</td>\n      <td>1</td>\n      <td>2019</td>\n    </tr>\n    <tr>\n      <th>7</th>\n      <td>My True Love</td>\n      <td>Jack Scott</td>\n      <td>6</td>\n      <td>2019</td>\n    </tr>\n    <tr>\n      <th>8</th>\n      <td>Willie and the Hand Jive</td>\n      <td>The Johnny Otis Show</td>\n      <td>2</td>\n      <td>2019</td>\n    </tr>\n    <tr>\n      <th>9</th>\n      <td>Fever</td>\n      <td>Peggy Lee</td>\n      <td>3</td>\n      <td>2019</td>\n    </tr>\n    <tr>\n      <th>10</th>\n      <td>Nel Blu Dipinto Di Blu (Volare)</td>\n      <td>Domenico Modugno</td>\n      <td>10</td>\n      <td>2019</td>\n    </tr>\n    <tr>\n      <th>11</th>\n      <td>Just a Dream</td>\n      <td>Jimmy Clanton</td>\n      <td>8</td>\n      <td>2019</td>\n    </tr>\n    <tr>\n      <th>12</th>\n      <td>Little Star</td>\n      <td>The Elegants</td>\n      <td>9</td>\n      <td>2019</td>\n    </tr>\n    <tr>\n      <th>13</th>\n      <td>Bird Dog</td>\n      <td>The Everly Brothers</td>\n      <td>11</td>\n      <td>2019</td>\n    </tr>\n    <tr>\n      <th>14</th>\n      <td>Born Too Late</td>\n      <td>The Poni-Tails</td>\n      <td>3</td>\n      <td>2019</td>\n    </tr>\n    <tr>\n      <th>15</th>\n      <td>Ginger Bread</td>\n      <td>Frankie Avalon</td>\n      <td>2</td>\n      <td>2019</td>\n    </tr>\n    <tr>\n      <th>16</th>\n      <td>Are You Really Mine?</td>\n      <td>Jimmie Rodgers</td>\n      <td>1</td>\n      <td>2019</td>\n    </tr>\n    <tr>\n      <th>17</th>\n      <td>Rockin' Robin</td>\n      <td>Bobby Day</td>\n      <td>10</td>\n      <td>2019</td>\n    </tr>\n    <tr>\n      <th>18</th>\n      <td>Western Movies</td>\n      <td>The Olympics</td>\n      <td>2</td>\n      <td>2019</td>\n    </tr>\n    <tr>\n      <th>19</th>\n      <td>It's All in the Game</td>\n      <td>Tommy Edwards</td>\n      <td>12</td>\n      <td>2019</td>\n    </tr>\n    <tr>\n      <th>20</th>\n      <td>Tears on My Pillow</td>\n      <td>Little Anthony and the Imperials</td>\n      <td>8</td>\n      <td>2019</td>\n    </tr>\n    <tr>\n      <th>21</th>\n      <td>Susie Darlin'</td>\n      <td>Robin Luke</td>\n      <td>7</td>\n      <td>2019</td>\n    </tr>\n    <tr>\n      <th>22</th>\n      <td>Devoted to You</td>\n      <td>The Everly Brothers</td>\n      <td>1</td>\n      <td>2019</td>\n    </tr>\n    <tr>\n      <th>23</th>\n      <td>Summertime Blues</td>\n      <td>Eddie Cochran</td>\n      <td>2</td>\n      <td>2019</td>\n    </tr>\n    <tr>\n      <th>24</th>\n      <td>Near You</td>\n      <td>Roger Williams</td>\n      <td>3</td>\n      <td>2019</td>\n    </tr>\n    <tr>\n      <th>25</th>\n      <td>Tea for Two Cha Cha</td>\n      <td>Tommy Dorsey</td>\n      <td>6</td>\n      <td>2019</td>\n    </tr>\n    <tr>\n      <th>26</th>\n      <td>The End</td>\n      <td>Earl Grant</td>\n      <td>3</td>\n      <td>2019</td>\n    </tr>\n    <tr>\n      <th>27</th>\n      <td>Topsy, Part 2</td>\n      <td>Cozy Cole</td>\n      <td>8</td>\n      <td>2019</td>\n    </tr>\n    <tr>\n      <th>28</th>\n      <td>It's Only Make Believe</td>\n      <td>Conway Twitty</td>\n      <td>10</td>\n      <td>2019</td>\n    </tr>\n    <tr>\n      <th>29</th>\n      <td>Tom Dooley</td>\n      <td>The Kingston Trio</td>\n      <td>12</td>\n      <td>2019</td>\n    </tr>\n    <tr>\n      <th>30</th>\n      <td>Chantilly Lace</td>\n      <td>The Big Bopper</td>\n      <td>5</td>\n      <td>2019</td>\n    </tr>\n    <tr>\n      <th>31</th>\n      <td>To Know Him Is to Love Him</td>\n      <td>The Teddy Bears</td>\n      <td>11</td>\n      <td>2019</td>\n    </tr>\n    <tr>\n      <th>32</th>\n      <td>I Got a Feeling</td>\n      <td>Ricky Nelson</td>\n      <td>2</td>\n      <td>2019</td>\n    </tr>\n    <tr>\n      <th>33</th>\n      <td>Beep Beep</td>\n      <td>The Playmates</td>\n      <td>7</td>\n      <td>2019</td>\n    </tr>\n    <tr>\n      <th>34</th>\n      <td>Lonesome Town</td>\n      <td>Ricky Nelson</td>\n      <td>8</td>\n      <td>2019</td>\n    </tr>\n    <tr>\n      <th>35</th>\n      <td>Queen of the Hop</td>\n      <td>Bobby Darin</td>\n      <td>3</td>\n      <td>2019</td>\n    </tr>\n    <tr>\n      <th>36</th>\n      <td>One Night</td>\n      <td>Elvis Presley</td>\n      <td>8</td>\n      <td>2019</td>\n    </tr>\n    <tr>\n      <th>37</th>\n      <td>I Got Stung</td>\n      <td>Elvis Presley</td>\n      <td>4</td>\n      <td>2019</td>\n    </tr>\n    <tr>\n      <th>38</th>\n      <td>Problems</td>\n      <td>The Everly Brothers</td>\n      <td>7</td>\n      <td>2019</td>\n    </tr>\n    <tr>\n      <th>39</th>\n      <td>The Chipmunk Song (Christmas Don't Be Late)</td>\n      <td>The Chipmunks with David Seville</td>\n      <td>6</td>\n      <td>2019</td>\n    </tr>\n  </tbody>\n</table>\n</div>",
      "text/plain": "                                          Title  \\\n0                              Poor Little Fool   \n1                                      Patricia   \n2                                 Splish Splash   \n3                             Hard Headed Woman   \n4                                          When   \n5                                 Rebel 'Rouser   \n6                                    Yakety Yak   \n7                                  My True Love   \n8                      Willie and the Hand Jive   \n9                                         Fever   \n10              Nel Blu Dipinto Di Blu (Volare)   \n11                                 Just a Dream   \n12                                  Little Star   \n13                                     Bird Dog   \n14                                Born Too Late   \n15                                 Ginger Bread   \n16                         Are You Really Mine?   \n17                                Rockin' Robin   \n18                               Western Movies   \n19                         It's All in the Game   \n20                           Tears on My Pillow   \n21                                Susie Darlin'   \n22                               Devoted to You   \n23                             Summertime Blues   \n24                                     Near You   \n25                          Tea for Two Cha Cha   \n26                                      The End   \n27                                Topsy, Part 2   \n28                       It's Only Make Believe   \n29                                   Tom Dooley   \n30                               Chantilly Lace   \n31                   To Know Him Is to Love Him   \n32                              I Got a Feeling   \n33                                    Beep Beep   \n34                                Lonesome Town   \n35                             Queen of the Hop   \n36                                    One Night   \n37                                  I Got Stung   \n38                                     Problems   \n39  The Chipmunk Song (Christmas Don't Be Late)   \n\n                              Artist  Number of weeks in top ten  Year  \n0                       Ricky Nelson                           6  2019  \n1                        Pérez Prado                           6  2019  \n2                        Bobby Darin                           3  2019  \n3                      Elvis Presley                           2  2019  \n4                        Kalin Twins                           5  2019  \n5                         Duane Eddy                           3  2019  \n6                       The Coasters                           1  2019  \n7                         Jack Scott                           6  2019  \n8               The Johnny Otis Show                           2  2019  \n9                          Peggy Lee                           3  2019  \n10                  Domenico Modugno                          10  2019  \n11                     Jimmy Clanton                           8  2019  \n12                      The Elegants                           9  2019  \n13               The Everly Brothers                          11  2019  \n14                    The Poni-Tails                           3  2019  \n15                    Frankie Avalon                           2  2019  \n16                    Jimmie Rodgers                           1  2019  \n17                         Bobby Day                          10  2019  \n18                      The Olympics                           2  2019  \n19                     Tommy Edwards                          12  2019  \n20  Little Anthony and the Imperials                           8  2019  \n21                        Robin Luke                           7  2019  \n22               The Everly Brothers                           1  2019  \n23                     Eddie Cochran                           2  2019  \n24                    Roger Williams                           3  2019  \n25                      Tommy Dorsey                           6  2019  \n26                        Earl Grant                           3  2019  \n27                         Cozy Cole                           8  2019  \n28                     Conway Twitty                          10  2019  \n29                 The Kingston Trio                          12  2019  \n30                    The Big Bopper                           5  2019  \n31                   The Teddy Bears                          11  2019  \n32                      Ricky Nelson                           2  2019  \n33                     The Playmates                           7  2019  \n34                      Ricky Nelson                           8  2019  \n35                       Bobby Darin                           3  2019  \n36                     Elvis Presley                           8  2019  \n37                     Elvis Presley                           4  2019  \n38               The Everly Brothers                           7  2019  \n39  The Chipmunks with David Seville                           6  2019  "
     },
     "execution_count": 38,
     "metadata": {},
     "output_type": "execute_result"
    }
   ],
   "source": [
    "songdata"
   ]
  },
  {
   "cell_type": "code",
   "execution_count": 37,
   "metadata": {},
   "outputs": [],
   "source": [
    "songdata.to_csv(path_or_buf='data/1958top10songs.csv',index=False) # Export our sample data table."
   ]
  },
  {
   "cell_type": "code",
   "execution_count": null,
   "metadata": {},
   "outputs": [],
   "source": []
  }
 ]
}