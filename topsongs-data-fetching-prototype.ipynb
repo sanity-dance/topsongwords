{
 "nbformat": 4,
 "nbformat_minor": 2,
 "metadata": {
  "language_info": {
   "name": "python",
   "codemirror_mode": {
    "name": "ipython",
    "version": 3
   },
   "version": "3.7.3"
  },
  "orig_nbformat": 2,
  "file_extension": ".py",
  "mimetype": "text/x-python",
  "name": "python",
  "npconvert_exporter": "python",
  "pygments_lexer": "ipython3",
  "version": 3
 },
 "cells": [
  {
   "cell_type": "code",
   "execution_count": 2,
   "metadata": {},
   "outputs": [],
   "source": [
    "from bs4 import BeautifulSoup\n",
    "import requests\n",
    "import pandas as pd\n",
    "import numpy as np\n",
    "import datetime\n"
   ]
  },
  {
   "cell_type": "code",
   "execution_count": 2,
   "metadata": {},
   "outputs": [
    {
     "name": "stdout",
     "output_type": "stream",
     "text": "<!DOCTYPE html>\n<html class=\"client-nojs\" dir=\"ltr\" lang=\"en\">\n <head>\n  <meta charset=\"utf-8\"/>\n  <title>\n   List of Billboard Hot 100 top-ten singles in 1961 - Wikipedia\n  </title>\n  <script>\n   document.documentElement.className=\"client-js\";RLCONF={\"wgBreakFrames\":!1,\"wgSeparatorTransformTable\":[\"\",\"\"],\"wgDigitTransformTable\":[\"\",\"\"],\"wgDefaultDateFormat\":\"dmy\",\"wgMonthNames\":[\"\",\"January\",\"February\",\"March\",\"April\",\"May\",\"June\",\"July\",\"August\",\"September\",\"October\",\"November\",\"December\"],\"wgMonthNamesShort\":[\"\",\"Jan\",\"Feb\",\"Mar\",\"Apr\",\"May\",\"Jun\",\"Jul\",\"Aug\",\"Sep\",\"Oct\",\"Nov\",\"Dec\"],\"wgRequestId\":\"XgWMcgpAADoAAHkTRyYAAAEU\",\"wgCSPNonce\":!1,\"wgCanonicalNamespace\":\"\",\"wgCanonicalSpecialPageName\":!1,\"wgNamespaceNumber\":0,\"wgPageName\":\"List_of_Billboard_Hot_100_top-ten_singles_in_1961\",\"wgTitle\":\"List of Billboard Hot 100 top-ten singles in 1961\",\"wgCurRevisionId\":923651416,\"wgRevisionId\":923651416,\"wgArticleId\":41788798,\"wgIsArticle\":!0,\"wgIsRedirect\":!1,\"wgAction\":\"view\",\"wgUserName\":\n"
    }
   ],
   "source": [
    "headers = {'User-Agent': 'Mozilla/5.0 (Windows NT 6.1) AppleWebKit/537.36 (KHTML, like Gecko) Chrome/41.0.2228.0 Safari/537.3'}\n",
    "html = requests.get('https://en.wikipedia.org/wiki/List_of_Billboard_Hot_100_top-ten_singles_in_1961',cookies={ 'sessionid': '123..'},headers=headers).text\n",
    "soup = BeautifulSoup(html, 'lxml')\n",
    "print(soup.prettify()[0:1000])"
   ]
  },
  {
   "cell_type": "code",
   "execution_count": 3,
   "metadata": {},
   "outputs": [
    {
     "data": {
      "text/plain": "NoneType"
     },
     "execution_count": 3,
     "metadata": {},
     "output_type": "execute_result"
    }
   ],
   "source": [
    "my_table = soup.find('table',{'class':'wikitable sortable'})\n",
    "type(my_table)"
   ]
  },
  {
   "cell_type": "code",
   "execution_count": 5,
   "metadata": {},
   "outputs": [],
   "source": [
    "Titles = []\n",
    "tableheaderincluded = True\n",
    "\n",
    "# The following code mines the first table found on the Wikipedia page and extracts only table elements that do not correspond to a month and date. We don't care about the exact month and day that the song achieved Top 10 glory or their peek date. Furthermore, the way Wikipedia's tables are formatted, there are occasionally multiple songs that were all entered on the same day, and that date is listed only once, which creates problems for our script later down the road.\n",
    "\n",
    "try:\n",
    "    tds = my_table.findAll('td')\n",
    "except AttributeError:\n",
    "    my_table = soup.find('table',{'class':'wikitable'})\n",
    "    tableheaderincluded = False\n",
    "    tds = my_table.findAll('td')\n",
    "\n",
    "for td in tds:\n",
    "    try:\n",
    "        d = datetime.datetime.strptime(td.get_text()[:-1], \"%B %d\") # Check if the current string is a Month Day format.\n",
    "    except ValueError:\n",
    "        try:\n",
    "            d = datetime.datetime.strptime(td.get_text()[:td.get_text().rfind('(')-1], \"%B %d\") # Catch a rare case where a song from the previous year charted again.\n",
    "        except ValueError:\n",
    "            try:\n",
    "                d = datetime.datetime.strptime(td.get_text()[:td.get_text().rfind('[')-1], \"%B %d\") # Catch a rare case where a song's top ten entry date has an annotation.\n",
    "            except ValueError:\n",
    "                if td.get_text()[0] != '[': # Drop annotations column.\n",
    "                    Titles.append(td.get_text()[:-1]) # Drop the newline character present at the end of every single entry.\n",
    "\n"
   ]
  },
  {
   "cell_type": "code",
   "execution_count": 6,
   "metadata": {},
   "outputs": [
    {
     "name": "stdout",
     "output_type": "stream",
     "text": "['\"Wonderland by Night\"', 'Bert Kaempfert', '1', '10', '\"Exodus\"', 'Ferrante & Teicher', '2', '11', '\"Corrina, Corinna\"', 'Ray Peterson', '9', '5', '\"Angel Baby\"', 'Rosie and the Originals', '5', '7', '\"Will You Love Me Tomorrow\"', 'The Shirelles', '1', '7', '\"Rubber Ball\"', 'Bobby Vee', '6', '5', '\"Calcutta\"', 'Lawrence Welk', '1', '9', '\"Shop Around\"', 'The Miracles', '2', '6', '\"Calendar Girl\"', 'Neil Sedaka', '4', '5', '\"Emotions\"', 'Brenda Lee', '7', '4', '\"My Empty Arms\"', 'Jackie Wilson', '9', '1', '\"Pony Time\"', 'Chubby Checker', '1', '8', '\"There\\'s a Moon Out Tonight\"', 'The Capris', '3', '4', '\"Dedicated to the One I Love\"', 'The Shirelles', '3', '9', '\"Wheels\"', 'The String-a-Longs', '3', '6', '\"Surrender\"', 'Elvis Presley', '1', '8', '\"Don\\'t Worry\"', 'Marty Robbins', '3', '7', '\"Where the Boys Are\"', 'Connie Francis', '4', '5', '\"Ebony Eyes\"', 'The Everly Brothers', '8', '4', '\"Baby Sittin\\' Boogie\"', 'Buzz Clifford', '6', '3', '\"Spanish Harlem\"', 'Ben E. King', '10', '1', '\"Apache\"', 'Jørgen Ingmann and his Guitar', '2', '5', '\"Walk Right Back\"', 'The Everly Brothers', '7', '4', '\"Blue Moon\"', 'The Marcels', '1', '8', '\"Gee Whiz (Look at His Eyes)\"', 'Carla Thomas', '10', '1', '\"On the Rebound\"', 'Floyd Cramer', '4', '6', '\"Runaway\"', 'Del Shannon', '1', '9', '\"(I Don\\'t Know Why) But I Do\"', 'Clarence \"Frogman\" Henry', '4', '5', '\"Mother-in-Law\"', 'Ernie K-Doe', '1', '8', '\"Asia Minor\"', 'Kokomo', '8', '1', '\"A Hundred Pounds of Clay\"', 'Gene McDaniels', '3', '8', '\"I\\'ve Told Every Little Star\"', 'Linda Scott', '3', '5', '\"You Can Depend on Me\"', 'Brenda Lee', '6', '4', '\"Take Good Care of Her\"', 'Adam Wade', '7', '4', '\"One Mint Julep\"', 'Ray Charles', '8', '3', '\"Portrait of My Love\"', 'Steve Lawrence', '9', '1', '\"Daddy\\'s Home\"', 'Shep and the Limelites', '2', '4', '\"Travelin\\' Man\"', 'Ricky Nelson', '1', '8', '\"Mama Said\"', 'The Shirelles', '4', '4', '\"Running Scared\"', 'Roy Orbison', '1', '4', '\"Breakin\\' in a Brand New Broken Heart\"', 'Connie Francis', '7', '3', '\"Hello Mary Lou\"', 'Ricky Nelson', '9', '1', '\"I Feel So Bad\"', 'Elvis Presley', '5', '3', '\"Tragedy\"', 'The Fleetwoods', '10', '1', '\"Stand by Me\"', 'Ben E. King', '4', '4', '\"Moody River\"', 'Pat Boone', '1', '6', '\"Raindrops\"', 'Dee Clark', '2', '8', '\"The Writing on the Wall\"', 'Adam Wade', '5', '5', '\"Every Beat of My Heart\"', 'The Pips', '6', '6', '\"Quarter to Three\"', 'Gary U.S. Bonds', '1', '8', '\"The Boll Weevil Song\"', 'Brook Benton', '2', '8', '\"Tossin\\' and Turnin\\'\"', 'Bobby Lewis', '1', '12', '\"Those Oldies but Goodies (Remind Me of You)\"', 'Little Caesar & the Romans', '9', '3', '\"Yellow Bird\"', 'Arthur Lyman', '4', '5', '\"Hats Off to Larry\"', 'Del Shannon', '5', '5', '\"Dance on Little Girl\"', 'Paul Anka', '10', '1', '\"San Antonio Rose\"', 'Floyd Cramer', '8', '1', '\"I Like It Like That\"', 'Chris Kenner', '2', '7', '\"Dum Dum\"', 'Brenda Lee', '4', '6', '\"Together\"', 'Connie Francis', '6', '4', '\"Let\\'s Twist Again\"', 'Chubby Checker', '8', '5', '\"Last Night\"', 'The Mar-Keys', '3', '5', '\"Pretty Little Angel Eyes\"', 'Curtis Lee', '7', '4', '\"Wooden Heart (Muss i denn)\"', 'Joe Dowell', '1', '7', '\"Michael\"', 'The Highwaymen', '1', '9', '\"School Is Out\"', 'Gary U.S. Bonds', '5', '4', '\"You Don\\'t Know What You\\'ve Got (Until You Lose It)\"', 'Ral Donner', '4', '4', '\"Don\\'t Bet Money Honey\"', 'Linda Scott', '9', '2', '\"Hurt\"', 'Timi Yuro', '4', '3', '\"Take Good Care of My Baby\"', 'Bobby Vee', '1', '7', '\"My True Story\"', 'The Jive Five', '3', '4', '\"As If I Didn\\'t Know\"', 'Adam Wade', '10', '2', '\"Does Your Chewing Gum Lose Its Flavor (on the Bedpost Overnight)\"', 'Lonnie Donegan', '5', '4', '\"Who Put the Bomp (in the Bomp, Bomp, Bomp)\"', 'Barry Mann', '7', '2', '\"Little Sister\"', 'Elvis Presley', '5', '4', '\"(Marie\\'s the Name) His Latest Flame\"', 'Elvis Presley', '4', '2', '\"Crying\"', 'Roy Orbison', '2', '5', '\"Without You\"', 'Johnny Tillotson', '7', '2', '\"One Track Mind\"', 'Bobby Lewis', '9', '1', '\"When We Get Married\"', 'The Dreamlovers', '10', '1', '\"The Mountain\\'s High\"', 'Dick and Dee Dee', '2', '3', '\"Hit the Road Jack\"', 'Ray Charles', '1', '8', '\"Mexico\"', 'Bob Moore', '7', '3', '\"You Must Have Been a Beautiful Baby\"', 'Bobby Darin', '5', '3', '\"Bristol Stomp\"', 'The Dovells', '2', '9', '\"Runaround Sue\"', 'Dion', '1', '9', '\"Let\\'s Get Together\"', 'Hayley Mills', '8', '3', '\"Sad Movies (Make Me Cry)\"', 'Sue Thompson', '5', '5', '\"Big Bad John\"', 'Jimmy Dean', '1', '10', '\"Ya Ya\"', 'Lee Dorsey', '7', '3', '\"This Time\"', 'Troy Shondell', '6', '6', '\"I Love How You Love Me\"', 'The Paris Sisters', '5', '3', '\"The Fly\"', 'Chubby Checker', '7', '5', '\"Fool #1\"', 'Brenda Lee', '3', '5', '\"Tower of Strength\"', 'Gene McDaniels', '5', '5', '\"Please Mr. Postman\"', 'The Marvelettes', '1', '7', '\"Goodbye Cruel World\"', 'James Darren', '3', '7', '\"Heartaches\"', 'The Marcels', '7', '1', '\"Crazy\"', 'Patsy Cline', '9', '2', '\"Walk on By\"', 'Leroy Van Dyke', '5', '8', '\"I Understand (Just How You Feel)\"', 'The G-Clefs', '9', '1', '\"The Lion Sleeps Tonight\"', 'The Tokens', '1', '8', '\"Run to Him\"', 'Bobby Vee', '2', '6', '\"Tonight\"', 'Ferrante & Teicher', '8', '1', '\"Let There Be Drums\"', 'Sandy Nelson', '7', '3']\n"
    }
   ],
   "source": [
    "print(Titles)"
   ]
  },
  {
   "cell_type": "code",
   "execution_count": 7,
   "metadata": {},
   "outputs": [],
   "source": [
    "nptitles = np.asarray(Titles).copy()"
   ]
  },
  {
   "cell_type": "code",
   "execution_count": 8,
   "metadata": {},
   "outputs": [
    {
     "data": {
      "text/plain": "420"
     },
     "execution_count": 8,
     "metadata": {},
     "output_type": "execute_result"
    }
   ],
   "source": [
    "len(nptitles)"
   ]
  },
  {
   "cell_type": "code",
   "execution_count": 9,
   "metadata": {},
   "outputs": [],
   "source": [
    "numsongs = int(np.prod(nptitles.shape)/4) # Find out how many songs are in this list.\n",
    "reshaped = nptitles.reshape(numsongs,4) # Reshape the array based on the number of songs and the number of columns."
   ]
  },
  {
   "cell_type": "code",
   "execution_count": 36,
   "metadata": {},
   "outputs": [],
   "source": [
    "songdata = pd.DataFrame(reshaped)\n",
    "songdata.columns = ['Title','Artist','Peak','Number of weeks in top ten']\n",
    "songdata['Year'] = [2019] * numsongs\n",
    "songdata['Title'] = [i[1:i.rfind('\\\"')] for i in songdata['Title']] # Drops quotation marks and annotations in Title.\n",
    "cleanweeks = []\n",
    "for i in songdata['Number of weeks in top ten']: # This code searches the number of weeks in top ten column for asterisks and eliminates them. This is only a \n",
    "    try:                                         # problem in the current year.\n",
    "        cleanweeks.append(int(i[:i.rindex('*')]))\n",
    "    except ValueError:\n",
    "        cleanweeks.append(int(i))\n",
    "\n",
    "songdata['Number of weeks in top ten'] = cleanweeks\n",
    "del songdata['Peak'] # This will not be relevant to our analysis."
   ]
  },
  {
   "cell_type": "code",
   "execution_count": 38,
   "metadata": {},
   "outputs": [
    {
     "data": {
      "text/html": "<div>\n<style scoped>\n    .dataframe tbody tr th:only-of-type {\n        vertical-align: middle;\n    }\n\n    .dataframe tbody tr th {\n        vertical-align: top;\n    }\n\n    .dataframe thead th {\n        text-align: right;\n    }\n</style>\n<table border=\"1\" class=\"dataframe\">\n  <thead>\n    <tr style=\"text-align: right;\">\n      <th></th>\n      <th>Title</th>\n      <th>Artist</th>\n      <th>Number of weeks in top ten</th>\n      <th>Year</th>\n    </tr>\n  </thead>\n  <tbody>\n    <tr>\n      <th>0</th>\n      <td>Poor Little Fool</td>\n      <td>Ricky Nelson</td>\n      <td>6</td>\n      <td>2019</td>\n    </tr>\n    <tr>\n      <th>1</th>\n      <td>Patricia</td>\n      <td>Pérez Prado</td>\n      <td>6</td>\n      <td>2019</td>\n    </tr>\n    <tr>\n      <th>2</th>\n      <td>Splish Splash</td>\n      <td>Bobby Darin</td>\n      <td>3</td>\n      <td>2019</td>\n    </tr>\n    <tr>\n      <th>3</th>\n      <td>Hard Headed Woman</td>\n      <td>Elvis Presley</td>\n      <td>2</td>\n      <td>2019</td>\n    </tr>\n    <tr>\n      <th>4</th>\n      <td>When</td>\n      <td>Kalin Twins</td>\n      <td>5</td>\n      <td>2019</td>\n    </tr>\n    <tr>\n      <th>5</th>\n      <td>Rebel 'Rouser</td>\n      <td>Duane Eddy</td>\n      <td>3</td>\n      <td>2019</td>\n    </tr>\n    <tr>\n      <th>6</th>\n      <td>Yakety Yak</td>\n      <td>The Coasters</td>\n      <td>1</td>\n      <td>2019</td>\n    </tr>\n    <tr>\n      <th>7</th>\n      <td>My True Love</td>\n      <td>Jack Scott</td>\n      <td>6</td>\n      <td>2019</td>\n    </tr>\n    <tr>\n      <th>8</th>\n      <td>Willie and the Hand Jive</td>\n      <td>The Johnny Otis Show</td>\n      <td>2</td>\n      <td>2019</td>\n    </tr>\n    <tr>\n      <th>9</th>\n      <td>Fever</td>\n      <td>Peggy Lee</td>\n      <td>3</td>\n      <td>2019</td>\n    </tr>\n    <tr>\n      <th>10</th>\n      <td>Nel Blu Dipinto Di Blu (Volare)</td>\n      <td>Domenico Modugno</td>\n      <td>10</td>\n      <td>2019</td>\n    </tr>\n    <tr>\n      <th>11</th>\n      <td>Just a Dream</td>\n      <td>Jimmy Clanton</td>\n      <td>8</td>\n      <td>2019</td>\n    </tr>\n    <tr>\n      <th>12</th>\n      <td>Little Star</td>\n      <td>The Elegants</td>\n      <td>9</td>\n      <td>2019</td>\n    </tr>\n    <tr>\n      <th>13</th>\n      <td>Bird Dog</td>\n      <td>The Everly Brothers</td>\n      <td>11</td>\n      <td>2019</td>\n    </tr>\n    <tr>\n      <th>14</th>\n      <td>Born Too Late</td>\n      <td>The Poni-Tails</td>\n      <td>3</td>\n      <td>2019</td>\n    </tr>\n    <tr>\n      <th>15</th>\n      <td>Ginger Bread</td>\n      <td>Frankie Avalon</td>\n      <td>2</td>\n      <td>2019</td>\n    </tr>\n    <tr>\n      <th>16</th>\n      <td>Are You Really Mine?</td>\n      <td>Jimmie Rodgers</td>\n      <td>1</td>\n      <td>2019</td>\n    </tr>\n    <tr>\n      <th>17</th>\n      <td>Rockin' Robin</td>\n      <td>Bobby Day</td>\n      <td>10</td>\n      <td>2019</td>\n    </tr>\n    <tr>\n      <th>18</th>\n      <td>Western Movies</td>\n      <td>The Olympics</td>\n      <td>2</td>\n      <td>2019</td>\n    </tr>\n    <tr>\n      <th>19</th>\n      <td>It's All in the Game</td>\n      <td>Tommy Edwards</td>\n      <td>12</td>\n      <td>2019</td>\n    </tr>\n    <tr>\n      <th>20</th>\n      <td>Tears on My Pillow</td>\n      <td>Little Anthony and the Imperials</td>\n      <td>8</td>\n      <td>2019</td>\n    </tr>\n    <tr>\n      <th>21</th>\n      <td>Susie Darlin'</td>\n      <td>Robin Luke</td>\n      <td>7</td>\n      <td>2019</td>\n    </tr>\n    <tr>\n      <th>22</th>\n      <td>Devoted to You</td>\n      <td>The Everly Brothers</td>\n      <td>1</td>\n      <td>2019</td>\n    </tr>\n    <tr>\n      <th>23</th>\n      <td>Summertime Blues</td>\n      <td>Eddie Cochran</td>\n      <td>2</td>\n      <td>2019</td>\n    </tr>\n    <tr>\n      <th>24</th>\n      <td>Near You</td>\n      <td>Roger Williams</td>\n      <td>3</td>\n      <td>2019</td>\n    </tr>\n    <tr>\n      <th>25</th>\n      <td>Tea for Two Cha Cha</td>\n      <td>Tommy Dorsey</td>\n      <td>6</td>\n      <td>2019</td>\n    </tr>\n    <tr>\n      <th>26</th>\n      <td>The End</td>\n      <td>Earl Grant</td>\n      <td>3</td>\n      <td>2019</td>\n    </tr>\n    <tr>\n      <th>27</th>\n      <td>Topsy, Part 2</td>\n      <td>Cozy Cole</td>\n      <td>8</td>\n      <td>2019</td>\n    </tr>\n    <tr>\n      <th>28</th>\n      <td>It's Only Make Believe</td>\n      <td>Conway Twitty</td>\n      <td>10</td>\n      <td>2019</td>\n    </tr>\n    <tr>\n      <th>29</th>\n      <td>Tom Dooley</td>\n      <td>The Kingston Trio</td>\n      <td>12</td>\n      <td>2019</td>\n    </tr>\n    <tr>\n      <th>30</th>\n      <td>Chantilly Lace</td>\n      <td>The Big Bopper</td>\n      <td>5</td>\n      <td>2019</td>\n    </tr>\n    <tr>\n      <th>31</th>\n      <td>To Know Him Is to Love Him</td>\n      <td>The Teddy Bears</td>\n      <td>11</td>\n      <td>2019</td>\n    </tr>\n    <tr>\n      <th>32</th>\n      <td>I Got a Feeling</td>\n      <td>Ricky Nelson</td>\n      <td>2</td>\n      <td>2019</td>\n    </tr>\n    <tr>\n      <th>33</th>\n      <td>Beep Beep</td>\n      <td>The Playmates</td>\n      <td>7</td>\n      <td>2019</td>\n    </tr>\n    <tr>\n      <th>34</th>\n      <td>Lonesome Town</td>\n      <td>Ricky Nelson</td>\n      <td>8</td>\n      <td>2019</td>\n    </tr>\n    <tr>\n      <th>35</th>\n      <td>Queen of the Hop</td>\n      <td>Bobby Darin</td>\n      <td>3</td>\n      <td>2019</td>\n    </tr>\n    <tr>\n      <th>36</th>\n      <td>One Night</td>\n      <td>Elvis Presley</td>\n      <td>8</td>\n      <td>2019</td>\n    </tr>\n    <tr>\n      <th>37</th>\n      <td>I Got Stung</td>\n      <td>Elvis Presley</td>\n      <td>4</td>\n      <td>2019</td>\n    </tr>\n    <tr>\n      <th>38</th>\n      <td>Problems</td>\n      <td>The Everly Brothers</td>\n      <td>7</td>\n      <td>2019</td>\n    </tr>\n    <tr>\n      <th>39</th>\n      <td>The Chipmunk Song (Christmas Don't Be Late)</td>\n      <td>The Chipmunks with David Seville</td>\n      <td>6</td>\n      <td>2019</td>\n    </tr>\n  </tbody>\n</table>\n</div>",
      "text/plain": "                                          Title  \\\n0                              Poor Little Fool   \n1                                      Patricia   \n2                                 Splish Splash   \n3                             Hard Headed Woman   \n4                                          When   \n5                                 Rebel 'Rouser   \n6                                    Yakety Yak   \n7                                  My True Love   \n8                      Willie and the Hand Jive   \n9                                         Fever   \n10              Nel Blu Dipinto Di Blu (Volare)   \n11                                 Just a Dream   \n12                                  Little Star   \n13                                     Bird Dog   \n14                                Born Too Late   \n15                                 Ginger Bread   \n16                         Are You Really Mine?   \n17                                Rockin' Robin   \n18                               Western Movies   \n19                         It's All in the Game   \n20                           Tears on My Pillow   \n21                                Susie Darlin'   \n22                               Devoted to You   \n23                             Summertime Blues   \n24                                     Near You   \n25                          Tea for Two Cha Cha   \n26                                      The End   \n27                                Topsy, Part 2   \n28                       It's Only Make Believe   \n29                                   Tom Dooley   \n30                               Chantilly Lace   \n31                   To Know Him Is to Love Him   \n32                              I Got a Feeling   \n33                                    Beep Beep   \n34                                Lonesome Town   \n35                             Queen of the Hop   \n36                                    One Night   \n37                                  I Got Stung   \n38                                     Problems   \n39  The Chipmunk Song (Christmas Don't Be Late)   \n\n                              Artist  Number of weeks in top ten  Year  \n0                       Ricky Nelson                           6  2019  \n1                        Pérez Prado                           6  2019  \n2                        Bobby Darin                           3  2019  \n3                      Elvis Presley                           2  2019  \n4                        Kalin Twins                           5  2019  \n5                         Duane Eddy                           3  2019  \n6                       The Coasters                           1  2019  \n7                         Jack Scott                           6  2019  \n8               The Johnny Otis Show                           2  2019  \n9                          Peggy Lee                           3  2019  \n10                  Domenico Modugno                          10  2019  \n11                     Jimmy Clanton                           8  2019  \n12                      The Elegants                           9  2019  \n13               The Everly Brothers                          11  2019  \n14                    The Poni-Tails                           3  2019  \n15                    Frankie Avalon                           2  2019  \n16                    Jimmie Rodgers                           1  2019  \n17                         Bobby Day                          10  2019  \n18                      The Olympics                           2  2019  \n19                     Tommy Edwards                          12  2019  \n20  Little Anthony and the Imperials                           8  2019  \n21                        Robin Luke                           7  2019  \n22               The Everly Brothers                           1  2019  \n23                     Eddie Cochran                           2  2019  \n24                    Roger Williams                           3  2019  \n25                      Tommy Dorsey                           6  2019  \n26                        Earl Grant                           3  2019  \n27                         Cozy Cole                           8  2019  \n28                     Conway Twitty                          10  2019  \n29                 The Kingston Trio                          12  2019  \n30                    The Big Bopper                           5  2019  \n31                   The Teddy Bears                          11  2019  \n32                      Ricky Nelson                           2  2019  \n33                     The Playmates                           7  2019  \n34                      Ricky Nelson                           8  2019  \n35                       Bobby Darin                           3  2019  \n36                     Elvis Presley                           8  2019  \n37                     Elvis Presley                           4  2019  \n38               The Everly Brothers                           7  2019  \n39  The Chipmunks with David Seville                           6  2019  "
     },
     "execution_count": 38,
     "metadata": {},
     "output_type": "execute_result"
    }
   ],
   "source": [
    "songdata"
   ]
  },
  {
   "cell_type": "code",
   "execution_count": 37,
   "metadata": {},
   "outputs": [],
   "source": [
    "songdata.to_csv(path_or_buf='data/1958top10songs.csv',index=False) # Export our sample data table."
   ]
  },
  {
   "cell_type": "code",
   "execution_count": null,
   "metadata": {},
   "outputs": [],
   "source": []
  }
 ]
}