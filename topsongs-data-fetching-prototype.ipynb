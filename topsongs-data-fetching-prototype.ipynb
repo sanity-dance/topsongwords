{
 "nbformat": 4,
 "nbformat_minor": 2,
 "metadata": {
  "language_info": {
   "name": "python",
   "codemirror_mode": {
    "name": "ipython",
    "version": 3
   },
   "version": "3.7.3"
  },
  "orig_nbformat": 2,
  "file_extension": ".py",
  "mimetype": "text/x-python",
  "name": "python",
  "npconvert_exporter": "python",
  "pygments_lexer": "ipython3",
  "version": 3
 },
 "cells": [
  {
   "cell_type": "code",
   "execution_count": 2,
   "metadata": {},
   "outputs": [],
   "source": [
    "from bs4 import BeautifulSoup\n",
    "import requests\n",
    "import pandas as pd\n",
    "import numpy as np\n",
    "import datetime\n",
    "now = datetime.datetime.now()"
   ]
  },
  {
   "cell_type": "code",
   "execution_count": 3,
   "metadata": {},
   "outputs": [
    {
     "name": "stdout",
     "output_type": "stream",
     "text": "<!DOCTYPE html>\n<html class=\"client-nojs\" dir=\"ltr\" lang=\"en\">\n <head>\n  <meta charset=\"utf-8\"/>\n  <title>\n   List of Billboard Hot 100 top-ten singles in 2016 - Wikipedia\n  </title>\n  <script>\n   document.documentElement.className=\"client-js\";RLCONF={\"wgBreakFrames\":!1,\"wgSeparatorTransformTable\":[\"\",\"\"],\"wgDigitTransformTable\":[\"\",\"\"],\"wgDefaultDateFormat\":\"dmy\",\"wgMonthNames\":[\"\",\"January\",\"February\",\"March\",\"April\",\"May\",\"June\",\"July\",\"August\",\"September\",\"October\",\"November\",\"December\"],\"wgMonthNamesShort\":[\"\",\"Jan\",\"Feb\",\"Mar\",\"Apr\",\"May\",\"Jun\",\"Jul\",\"Aug\",\"Sep\",\"Oct\",\"Nov\",\"Dec\"],\"wgRequestId\":\"XgWipwpAICsAAEA7SP8AAAAK\",\"wgCSPNonce\":!1,\"wgCanonicalNamespace\":\"\",\"wgCanonicalSpecialPageName\":!1,\"wgNamespaceNumber\":0,\"wgPageName\":\"List_of_Billboard_Hot_100_top-ten_singles_in_2016\",\"wgTitle\":\"List of Billboard Hot 100 top-ten singles in 2016\",\"wgCurRevisionId\":909740527,\"wgRevisionId\":909740527,\"wgArticleId\":48877391,\"wgIsArticle\":!0,\"wgIsRedirect\":!1,\"wgAction\":\"view\",\"wgUserName\":\n"
    }
   ],
   "source": [
    "headers = {'User-Agent': 'Mozilla/5.0 (Windows NT 6.1) AppleWebKit/537.36 (KHTML, like Gecko) Chrome/41.0.2228.0 Safari/537.3'}\n",
    "year = 2016 # Year we're currently testing.\n",
    "html = requests.get('https://en.wikipedia.org/wiki/List_of_Billboard_Hot_100_top-ten_singles_in_' + str(year),cookies={ 'sessionid': '123..'},headers=headers).text\n",
    "soup = BeautifulSoup(html, 'lxml')\n",
    "print(soup.prettify()[0:1000])"
   ]
  },
  {
   "cell_type": "code",
   "execution_count": 4,
   "metadata": {},
   "outputs": [
    {
     "data": {
      "text/plain": "bs4.element.Tag"
     },
     "execution_count": 4,
     "metadata": {},
     "output_type": "execute_result"
    }
   ],
   "source": [
    "my_table = soup.find('table',{'class':'wikitable sortable'})\n",
    "type(my_table)"
   ]
  },
  {
   "cell_type": "code",
   "execution_count": 11,
   "metadata": {},
   "outputs": [],
   "source": [
    "swiftcount = 0 # Keeps track of where repeat information from cells with rowspans greater than 1 should be inserted.\n",
    "drakecontingency = 0 # Used to keep track of how many times repeat information should be inserted.\n",
    "swiftcount2 = 0 # Used in the rare case that two rowspan situations overlap.\n",
    "drakecontingency2 = 0\n",
    "\n",
    "# The following code mines the first table found on the Wikipedia page and extracts all table elements other than the annotations column."
   ]
  },
  {
   "cell_type": "code",
   "execution_count": 13,
   "metadata": {},
   "outputs": [
    {
     "name": "stdout",
     "output_type": "stream",
     "text": "December 5 appended!\nFebruary 13 appended!\nFebruary 13 appended!\nFebruary 20 appended!\nFebruary 20 appended!\nMarch 19 appended!\nMay 14 appended!\nMay 14 appended!\nMay 21 appended!\nMay 28 appended!\nJuly 2 appended!\nOctober 29 appended!\n"
    }
   ],
   "source": [
    "Titles = []\n",
    "try:\n",
    "    tds = my_table.findAll('td')\n",
    "except AttributeError:\n",
    "    my_table = soup.find('table',{'class':'wikitable'})\n",
    "    tds = my_table.findAll('td')\n",
    "\n",
    "for td in tds:\n",
    "        try:\n",
    "            if td.attrs['rowspan']:\n",
    "                if drakecontingency == 0 and int(td.attrs['rowspan']) > 1:\n",
    "                    taylorswift = td.get_text()[:-1]\n",
    "                    swiftcount = 8\n",
    "                    drakecontingency = int(td.attrs['rowspan']) - 1\n",
    "                elif int(td.attrs['rowspan']) > 1:\n",
    "                    taylorswift2 = td.get_text()[:-1]\n",
    "                    swiftcount2 = 7\n",
    "                    drakecontingency2 = int(td.attrs['rowspan']) - 1\n",
    "        except KeyError:\n",
    "            pass\n",
    "        if td.get_text()[0] != '[' and td.get_text()[0] and td.get_text()[0].strip(): # Drop annotations column.\n",
    "            if swiftcount > 0:\n",
    "                swiftcount = swiftcount-1\n",
    "            if swiftcount == 1:\n",
    "                drakecontingency = drakecontingency-1\n",
    "                print(taylorswift + ' appended!')\n",
    "                Titles.append(taylorswift)\n",
    "                if drakecontingency == 0:\n",
    "                    taylorswift = ''\n",
    "                    swiftcount = 0\n",
    "                else:\n",
    "                    if drakecontingency2 == 0: # If there's an extra element being inserted before the next time this runs, insert it one sooner next time.\n",
    "                        swiftcount = 6\n",
    "                    else:\n",
    "                        swiftcount = 5\n",
    "            if swiftcount2 > 0:\n",
    "                swiftcount2 = swiftcount2-1\n",
    "            if swiftcount2 == 1:\n",
    "                drakecontingency2 = drakecontingency2-1\n",
    "                print(taylorswift2 + ' appended!')\n",
    "                Titles.append(taylorswift2)\n",
    "                if drakecontingency2 == 0:\n",
    "                    taylorswift2 = ''\n",
    "                    swiftcount2 = 0\n",
    "                else:\n",
    "                    if drakecontingency == 0:\n",
    "                        swiftcount2 = 6\n",
    "                    else:\n",
    "                        swiftcount2 = 5\n",
    "            Titles.append(td.get_text()[:-1]) # Drop the newline character present at the end of every single entry."
   ]
  },
  {
   "cell_type": "code",
   "execution_count": 18,
   "metadata": {},
   "outputs": [
    {
     "name": "stdout",
     "output_type": "stream",
     "text": "['November 14', '\"Sorry\" (#2) ◁', 'Justin Bieber', '1', 'January 23', '21', 'December 5', '\"Love Yourself\"[E] (#1) ◁', 'Justin Bieber', '1', 'February 13', '24', 'December 5', '\"Here\"', 'Alessia Cara', '5', 'February 6', '11', 'December 19', '\"Same Old Love\"', 'Selena Gomez', '5', 'January 30', '9', 'January 16', '\"Stressed Out\" (#5)', 'Twenty One Pilots', '2', 'February 27', '14', 'February 6', '\"Roses\"', 'The Chainsmokers featuring Rozes', '6', 'February 13', '6', 'February 13', '\"My House\"', 'Flo Rida', '4', 'March 19', '11', 'February 13', '\"Hands to Myself\"', 'Selena Gomez', '7', 'February 13', '1', 'February 13', '\"Work\" (#4) ◁', 'Rihanna featuring Drake', '1', 'March 5', '18', 'February 20', '\"Pillowtalk\" ◁', 'Zayn', '1', 'February 20', '16', 'February 20', '\"Summer Sixteen\" ◁', 'Drake', '6', 'February 20', '1', 'February 20', '\"Me, Myself & I\"', 'G-Eazy and Bebe Rexha', '7', 'March 12', '12', 'March 5', '\"Cake by the Ocean\"[C]', 'DNCE', '9', 'March 12', '7', 'March 19', '\"Piece by Piece\" ◁', 'Kelly Clarkson', '8', 'March 19', '1', 'March 19', '\"7 Years\"', 'Lukas Graham', '2', 'April 9', '15', 'March 26', '\"I Took a Pill in Ibiza\"[B]', 'Mike Posner', '4', 'May 21', '14', 'April 2', '\"Dangerous Woman\"[F] ◁', 'Ariana Grande', '8', 'June 11', '2', 'April 9', '\"No\"', 'Meghan Trainor', '3', 'April 16', '5', 'April 16', '\"Work from Home\"', 'Fifth Harmony featuring Ty Dolla Sign', '4', 'June 11', '15', 'April 23', '\"Panda\" (#6)', 'Desiigner', '1', 'May 7', '17', 'May 7', '\"One Dance\" (#3)', 'Drake featuring Wizkid and Kyla', '1', 'May 21', '20', 'May 14', '\"Purple Rain\"[D][α]', 'Prince and The Revolution', '4', 'May 14', '1', 'May 14', '\"When Doves Cry\"[D][α]', 'Prince', '8', 'May 14', '1', 'May 14', '\"Formation\" ◁', 'Beyoncé', '10', 'May 14', '1', 'May 21', '\"Don\\'t Let Me Down\" (#8)', 'The Chainsmokers featuring Daya', '3', 'July 16', '23', 'May 21', '\"This Is What You Came For\"[G] ◁', 'Calvin Harris featuring Rihanna', '3', 'August 6', '19', 'May 28', '\"Can\\'t Stop the Feeling!\" (#9) ◁', 'Justin Timberlake', '1', 'May 28', '15', 'May 28', '\"Needed Me\"[I]', 'Rihanna', '7', 'July 2', '16', 'June 18', '\"Just like Fire\"', 'Pink', '10', 'June 18', '2', 'July 2', '\"Cheap Thrills\"', 'Sia featuring Sean Paul', '1', 'August 6', '18', 'July 2', '\"Don\\'t Mind\"', 'Kent Jones', '8', 'July 16', '6', 'July 9', '\"Ride\"', 'Twenty One Pilots', '5', 'September 10', '13', 'July 30', '\"Send My Love (To Your New Lover)\"[H][J]', 'Adele', '8', 'September 24', '8', 'August 13', '\"Cold Water\" ◁', 'Major Lazer featuring Justin Bieber and MØ', '2', 'August 13', '14', 'August 20', '\"Closer\" (#10) ◁', 'The Chainsmokers featuring Halsey', '1', 'September 3', '32', 'August 27', '\"Heathens\"', 'Twenty One Pilots', '2', 'September 24', '18', 'September 10', '\"Treat You Better\"[K]', 'Shawn Mendes', '6', 'October 8', '8', 'September 24', '\"We Don\\'t Talk Anymore\"[L]', 'Charlie Puth featuring Selena Gomez', '9', 'October 8', '2', 'October 1', '\"Let Me Love You\"', 'DJ Snake featuring Justin Bieber', '4', 'October 8', '17', 'October 8', '\"Broccoli\"', 'DRAM featuring Lil Yachty', '5', 'November 5', '12', 'October 22', '\"I Hate U, I Love U\"[M]', \"Gnash featuring Olivia O'Brien\", '10', 'October 22', '2', 'October 29', '\"24K Magic\" ◁', 'Bruno Mars', '4', 'December 10', '15', 'October 29', '\"Side to Side\"', 'Ariana Grande featuring Nicki Minaj', '4', 'December 3', '14', 'November 12', '\"Juju on that Beat (TZ Anthem)\"', 'Zay Hilfigerrr & Zayion McCall', '5', 'December 10', '10', 'November 19', '\"Black Beatles\"', 'Rae Sremmurd featuring Gucci Mane', '1', 'November 26', '14', 'December 31', '\"Deja Vu\" ◁', 'J. Cole', '7', 'December 31', '1']\n"
    }
   ],
   "source": [
    "print(Titles)"
   ]
  },
  {
   "cell_type": "code",
   "execution_count": 19,
   "metadata": {},
   "outputs": [],
   "source": [
    "nptitles = np.asarray(Titles).copy()"
   ]
  },
  {
   "cell_type": "code",
   "execution_count": 20,
   "metadata": {},
   "outputs": [
    {
     "data": {
      "text/plain": "276"
     },
     "execution_count": 20,
     "metadata": {},
     "output_type": "execute_result"
    }
   ],
   "source": [
    "len(nptitles)"
   ]
  },
  {
   "cell_type": "code",
   "execution_count": 21,
   "metadata": {},
   "outputs": [],
   "source": [
    "numsongs = int(np.prod(nptitles.shape)/6) # Find out how many songs are in this list.\n",
    "reshaped = nptitles.reshape(numsongs,6) # Reshape the array based on the number of songs and the number of columns."
   ]
  },
  {
   "cell_type": "code",
   "execution_count": 22,
   "metadata": {},
   "outputs": [],
   "source": [
    "songdata = pd.DataFrame(reshaped)\n",
    "songdata.columns = ['Top ten entry date','Title','Artist','Peak','Peak date','Number of weeks in top ten']\n",
    "songdata['Year'] = str(year)\n",
    "songdata['Title'] = [i[1:i.rfind('\\\"')] for i in songdata['Title']] # Drops quotation marks and annotations in Title.\n",
    "for j in songdata['Top ten entry date']:\n",
    "    if '[' in j:\n",
    "        j = j[:j.rfind('[')-1]\n",
    "\n",
    "if year == now.year:\n",
    "    cleanweeks = []\n",
    "    for j in songdata['Number of weeks in top ten']: # This code searches the number of weeks in top ten column for asterisks and eliminates them. This is only a \n",
    "        try:                                         # problem in the current year.\n",
    "            cleanweeks.append(int(j[:j.rindex('*')]))\n",
    "        except ValueError:\n",
    "            cleanweeks.append(int(j))\n",
    "\n",
    "    songdata['Number of weeks in top ten'] = cleanweeks"
   ]
  },
  {
   "cell_type": "code",
   "execution_count": 23,
   "metadata": {},
   "outputs": [
    {
     "data": {
      "text/html": "<div>\n<style scoped>\n    .dataframe tbody tr th:only-of-type {\n        vertical-align: middle;\n    }\n\n    .dataframe tbody tr th {\n        vertical-align: top;\n    }\n\n    .dataframe thead th {\n        text-align: right;\n    }\n</style>\n<table border=\"1\" class=\"dataframe\">\n  <thead>\n    <tr style=\"text-align: right;\">\n      <th></th>\n      <th>Top ten entry date</th>\n      <th>Title</th>\n      <th>Artist</th>\n      <th>Peak</th>\n      <th>Peak date</th>\n      <th>Number of weeks in top ten</th>\n      <th>Year</th>\n    </tr>\n  </thead>\n  <tbody>\n    <tr>\n      <th>0</th>\n      <td>November 14</td>\n      <td>Sorry</td>\n      <td>Justin Bieber</td>\n      <td>1</td>\n      <td>January 23</td>\n      <td>21</td>\n      <td>2016</td>\n    </tr>\n    <tr>\n      <th>1</th>\n      <td>December 5</td>\n      <td>Love Yourself</td>\n      <td>Justin Bieber</td>\n      <td>1</td>\n      <td>February 13</td>\n      <td>24</td>\n      <td>2016</td>\n    </tr>\n    <tr>\n      <th>2</th>\n      <td>December 5</td>\n      <td>Here</td>\n      <td>Alessia Cara</td>\n      <td>5</td>\n      <td>February 6</td>\n      <td>11</td>\n      <td>2016</td>\n    </tr>\n    <tr>\n      <th>3</th>\n      <td>December 19</td>\n      <td>Same Old Love</td>\n      <td>Selena Gomez</td>\n      <td>5</td>\n      <td>January 30</td>\n      <td>9</td>\n      <td>2016</td>\n    </tr>\n    <tr>\n      <th>4</th>\n      <td>January 16</td>\n      <td>Stressed Out</td>\n      <td>Twenty One Pilots</td>\n      <td>2</td>\n      <td>February 27</td>\n      <td>14</td>\n      <td>2016</td>\n    </tr>\n    <tr>\n      <th>5</th>\n      <td>February 6</td>\n      <td>Roses</td>\n      <td>The Chainsmokers featuring Rozes</td>\n      <td>6</td>\n      <td>February 13</td>\n      <td>6</td>\n      <td>2016</td>\n    </tr>\n    <tr>\n      <th>6</th>\n      <td>February 13</td>\n      <td>My House</td>\n      <td>Flo Rida</td>\n      <td>4</td>\n      <td>March 19</td>\n      <td>11</td>\n      <td>2016</td>\n    </tr>\n    <tr>\n      <th>7</th>\n      <td>February 13</td>\n      <td>Hands to Myself</td>\n      <td>Selena Gomez</td>\n      <td>7</td>\n      <td>February 13</td>\n      <td>1</td>\n      <td>2016</td>\n    </tr>\n    <tr>\n      <th>8</th>\n      <td>February 13</td>\n      <td>Work</td>\n      <td>Rihanna featuring Drake</td>\n      <td>1</td>\n      <td>March 5</td>\n      <td>18</td>\n      <td>2016</td>\n    </tr>\n    <tr>\n      <th>9</th>\n      <td>February 20</td>\n      <td>Pillowtalk</td>\n      <td>Zayn</td>\n      <td>1</td>\n      <td>February 20</td>\n      <td>16</td>\n      <td>2016</td>\n    </tr>\n    <tr>\n      <th>10</th>\n      <td>February 20</td>\n      <td>Summer Sixteen</td>\n      <td>Drake</td>\n      <td>6</td>\n      <td>February 20</td>\n      <td>1</td>\n      <td>2016</td>\n    </tr>\n    <tr>\n      <th>11</th>\n      <td>February 20</td>\n      <td>Me, Myself &amp; I</td>\n      <td>G-Eazy and Bebe Rexha</td>\n      <td>7</td>\n      <td>March 12</td>\n      <td>12</td>\n      <td>2016</td>\n    </tr>\n    <tr>\n      <th>12</th>\n      <td>March 5</td>\n      <td>Cake by the Ocean</td>\n      <td>DNCE</td>\n      <td>9</td>\n      <td>March 12</td>\n      <td>7</td>\n      <td>2016</td>\n    </tr>\n    <tr>\n      <th>13</th>\n      <td>March 19</td>\n      <td>Piece by Piece</td>\n      <td>Kelly Clarkson</td>\n      <td>8</td>\n      <td>March 19</td>\n      <td>1</td>\n      <td>2016</td>\n    </tr>\n    <tr>\n      <th>14</th>\n      <td>March 19</td>\n      <td>7 Years</td>\n      <td>Lukas Graham</td>\n      <td>2</td>\n      <td>April 9</td>\n      <td>15</td>\n      <td>2016</td>\n    </tr>\n    <tr>\n      <th>15</th>\n      <td>March 26</td>\n      <td>I Took a Pill in Ibiza</td>\n      <td>Mike Posner</td>\n      <td>4</td>\n      <td>May 21</td>\n      <td>14</td>\n      <td>2016</td>\n    </tr>\n    <tr>\n      <th>16</th>\n      <td>April 2</td>\n      <td>Dangerous Woman</td>\n      <td>Ariana Grande</td>\n      <td>8</td>\n      <td>June 11</td>\n      <td>2</td>\n      <td>2016</td>\n    </tr>\n    <tr>\n      <th>17</th>\n      <td>April 9</td>\n      <td>No</td>\n      <td>Meghan Trainor</td>\n      <td>3</td>\n      <td>April 16</td>\n      <td>5</td>\n      <td>2016</td>\n    </tr>\n    <tr>\n      <th>18</th>\n      <td>April 16</td>\n      <td>Work from Home</td>\n      <td>Fifth Harmony featuring Ty Dolla Sign</td>\n      <td>4</td>\n      <td>June 11</td>\n      <td>15</td>\n      <td>2016</td>\n    </tr>\n    <tr>\n      <th>19</th>\n      <td>April 23</td>\n      <td>Panda</td>\n      <td>Desiigner</td>\n      <td>1</td>\n      <td>May 7</td>\n      <td>17</td>\n      <td>2016</td>\n    </tr>\n    <tr>\n      <th>20</th>\n      <td>May 7</td>\n      <td>One Dance</td>\n      <td>Drake featuring Wizkid and Kyla</td>\n      <td>1</td>\n      <td>May 21</td>\n      <td>20</td>\n      <td>2016</td>\n    </tr>\n    <tr>\n      <th>21</th>\n      <td>May 14</td>\n      <td>Purple Rain</td>\n      <td>Prince and The Revolution</td>\n      <td>4</td>\n      <td>May 14</td>\n      <td>1</td>\n      <td>2016</td>\n    </tr>\n    <tr>\n      <th>22</th>\n      <td>May 14</td>\n      <td>When Doves Cry</td>\n      <td>Prince</td>\n      <td>8</td>\n      <td>May 14</td>\n      <td>1</td>\n      <td>2016</td>\n    </tr>\n    <tr>\n      <th>23</th>\n      <td>May 14</td>\n      <td>Formation</td>\n      <td>Beyoncé</td>\n      <td>10</td>\n      <td>May 14</td>\n      <td>1</td>\n      <td>2016</td>\n    </tr>\n    <tr>\n      <th>24</th>\n      <td>May 21</td>\n      <td>Don't Let Me Down</td>\n      <td>The Chainsmokers featuring Daya</td>\n      <td>3</td>\n      <td>July 16</td>\n      <td>23</td>\n      <td>2016</td>\n    </tr>\n    <tr>\n      <th>25</th>\n      <td>May 21</td>\n      <td>This Is What You Came For</td>\n      <td>Calvin Harris featuring Rihanna</td>\n      <td>3</td>\n      <td>August 6</td>\n      <td>19</td>\n      <td>2016</td>\n    </tr>\n    <tr>\n      <th>26</th>\n      <td>May 28</td>\n      <td>Can't Stop the Feeling!</td>\n      <td>Justin Timberlake</td>\n      <td>1</td>\n      <td>May 28</td>\n      <td>15</td>\n      <td>2016</td>\n    </tr>\n    <tr>\n      <th>27</th>\n      <td>May 28</td>\n      <td>Needed Me</td>\n      <td>Rihanna</td>\n      <td>7</td>\n      <td>July 2</td>\n      <td>16</td>\n      <td>2016</td>\n    </tr>\n    <tr>\n      <th>28</th>\n      <td>June 18</td>\n      <td>Just like Fire</td>\n      <td>Pink</td>\n      <td>10</td>\n      <td>June 18</td>\n      <td>2</td>\n      <td>2016</td>\n    </tr>\n    <tr>\n      <th>29</th>\n      <td>July 2</td>\n      <td>Cheap Thrills</td>\n      <td>Sia featuring Sean Paul</td>\n      <td>1</td>\n      <td>August 6</td>\n      <td>18</td>\n      <td>2016</td>\n    </tr>\n    <tr>\n      <th>30</th>\n      <td>July 2</td>\n      <td>Don't Mind</td>\n      <td>Kent Jones</td>\n      <td>8</td>\n      <td>July 16</td>\n      <td>6</td>\n      <td>2016</td>\n    </tr>\n    <tr>\n      <th>31</th>\n      <td>July 9</td>\n      <td>Ride</td>\n      <td>Twenty One Pilots</td>\n      <td>5</td>\n      <td>September 10</td>\n      <td>13</td>\n      <td>2016</td>\n    </tr>\n    <tr>\n      <th>32</th>\n      <td>July 30</td>\n      <td>Send My Love (To Your New Lover)</td>\n      <td>Adele</td>\n      <td>8</td>\n      <td>September 24</td>\n      <td>8</td>\n      <td>2016</td>\n    </tr>\n    <tr>\n      <th>33</th>\n      <td>August 13</td>\n      <td>Cold Water</td>\n      <td>Major Lazer featuring Justin Bieber and MØ</td>\n      <td>2</td>\n      <td>August 13</td>\n      <td>14</td>\n      <td>2016</td>\n    </tr>\n    <tr>\n      <th>34</th>\n      <td>August 20</td>\n      <td>Closer</td>\n      <td>The Chainsmokers featuring Halsey</td>\n      <td>1</td>\n      <td>September 3</td>\n      <td>32</td>\n      <td>2016</td>\n    </tr>\n    <tr>\n      <th>35</th>\n      <td>August 27</td>\n      <td>Heathens</td>\n      <td>Twenty One Pilots</td>\n      <td>2</td>\n      <td>September 24</td>\n      <td>18</td>\n      <td>2016</td>\n    </tr>\n    <tr>\n      <th>36</th>\n      <td>September 10</td>\n      <td>Treat You Better</td>\n      <td>Shawn Mendes</td>\n      <td>6</td>\n      <td>October 8</td>\n      <td>8</td>\n      <td>2016</td>\n    </tr>\n    <tr>\n      <th>37</th>\n      <td>September 24</td>\n      <td>We Don't Talk Anymore</td>\n      <td>Charlie Puth featuring Selena Gomez</td>\n      <td>9</td>\n      <td>October 8</td>\n      <td>2</td>\n      <td>2016</td>\n    </tr>\n    <tr>\n      <th>38</th>\n      <td>October 1</td>\n      <td>Let Me Love You</td>\n      <td>DJ Snake featuring Justin Bieber</td>\n      <td>4</td>\n      <td>October 8</td>\n      <td>17</td>\n      <td>2016</td>\n    </tr>\n    <tr>\n      <th>39</th>\n      <td>October 8</td>\n      <td>Broccoli</td>\n      <td>DRAM featuring Lil Yachty</td>\n      <td>5</td>\n      <td>November 5</td>\n      <td>12</td>\n      <td>2016</td>\n    </tr>\n    <tr>\n      <th>40</th>\n      <td>October 22</td>\n      <td>I Hate U, I Love U</td>\n      <td>Gnash featuring Olivia O'Brien</td>\n      <td>10</td>\n      <td>October 22</td>\n      <td>2</td>\n      <td>2016</td>\n    </tr>\n    <tr>\n      <th>41</th>\n      <td>October 29</td>\n      <td>24K Magic</td>\n      <td>Bruno Mars</td>\n      <td>4</td>\n      <td>December 10</td>\n      <td>15</td>\n      <td>2016</td>\n    </tr>\n    <tr>\n      <th>42</th>\n      <td>October 29</td>\n      <td>Side to Side</td>\n      <td>Ariana Grande featuring Nicki Minaj</td>\n      <td>4</td>\n      <td>December 3</td>\n      <td>14</td>\n      <td>2016</td>\n    </tr>\n    <tr>\n      <th>43</th>\n      <td>November 12</td>\n      <td>Juju on that Beat (TZ Anthem)</td>\n      <td>Zay Hilfigerrr &amp; Zayion McCall</td>\n      <td>5</td>\n      <td>December 10</td>\n      <td>10</td>\n      <td>2016</td>\n    </tr>\n    <tr>\n      <th>44</th>\n      <td>November 19</td>\n      <td>Black Beatles</td>\n      <td>Rae Sremmurd featuring Gucci Mane</td>\n      <td>1</td>\n      <td>November 26</td>\n      <td>14</td>\n      <td>2016</td>\n    </tr>\n    <tr>\n      <th>45</th>\n      <td>December 31</td>\n      <td>Deja Vu</td>\n      <td>J. Cole</td>\n      <td>7</td>\n      <td>December 31</td>\n      <td>1</td>\n      <td>2016</td>\n    </tr>\n  </tbody>\n</table>\n</div>",
      "text/plain": "   Top ten entry date                             Title  \\\n0         November 14                             Sorry   \n1          December 5                     Love Yourself   \n2          December 5                              Here   \n3         December 19                     Same Old Love   \n4          January 16                      Stressed Out   \n5          February 6                             Roses   \n6         February 13                          My House   \n7         February 13                   Hands to Myself   \n8         February 13                              Work   \n9         February 20                        Pillowtalk   \n10        February 20                    Summer Sixteen   \n11        February 20                    Me, Myself & I   \n12            March 5                 Cake by the Ocean   \n13           March 19                    Piece by Piece   \n14           March 19                           7 Years   \n15           March 26            I Took a Pill in Ibiza   \n16            April 2                   Dangerous Woman   \n17            April 9                                No   \n18           April 16                    Work from Home   \n19           April 23                             Panda   \n20              May 7                         One Dance   \n21             May 14                       Purple Rain   \n22             May 14                    When Doves Cry   \n23             May 14                         Formation   \n24             May 21                 Don't Let Me Down   \n25             May 21         This Is What You Came For   \n26             May 28           Can't Stop the Feeling!   \n27             May 28                         Needed Me   \n28            June 18                    Just like Fire   \n29             July 2                     Cheap Thrills   \n30             July 2                        Don't Mind   \n31             July 9                              Ride   \n32            July 30  Send My Love (To Your New Lover)   \n33          August 13                        Cold Water   \n34          August 20                            Closer   \n35          August 27                          Heathens   \n36       September 10                  Treat You Better   \n37       September 24             We Don't Talk Anymore   \n38          October 1                   Let Me Love You   \n39          October 8                          Broccoli   \n40         October 22                I Hate U, I Love U   \n41         October 29                         24K Magic   \n42         October 29                      Side to Side   \n43        November 12     Juju on that Beat (TZ Anthem)   \n44        November 19                     Black Beatles   \n45        December 31                           Deja Vu   \n\n                                        Artist Peak     Peak date  \\\n0                                Justin Bieber    1    January 23   \n1                                Justin Bieber    1   February 13   \n2                                 Alessia Cara    5    February 6   \n3                                 Selena Gomez    5    January 30   \n4                            Twenty One Pilots    2   February 27   \n5             The Chainsmokers featuring Rozes    6   February 13   \n6                                     Flo Rida    4      March 19   \n7                                 Selena Gomez    7   February 13   \n8                      Rihanna featuring Drake    1       March 5   \n9                                         Zayn    1   February 20   \n10                                       Drake    6   February 20   \n11                       G-Eazy and Bebe Rexha    7      March 12   \n12                                        DNCE    9      March 12   \n13                              Kelly Clarkson    8      March 19   \n14                                Lukas Graham    2       April 9   \n15                                 Mike Posner    4        May 21   \n16                               Ariana Grande    8       June 11   \n17                              Meghan Trainor    3      April 16   \n18       Fifth Harmony featuring Ty Dolla Sign    4       June 11   \n19                                   Desiigner    1         May 7   \n20             Drake featuring Wizkid and Kyla    1        May 21   \n21                   Prince and The Revolution    4        May 14   \n22                                      Prince    8        May 14   \n23                                     Beyoncé   10        May 14   \n24             The Chainsmokers featuring Daya    3       July 16   \n25             Calvin Harris featuring Rihanna    3      August 6   \n26                           Justin Timberlake    1        May 28   \n27                                     Rihanna    7        July 2   \n28                                        Pink   10       June 18   \n29                     Sia featuring Sean Paul    1      August 6   \n30                                  Kent Jones    8       July 16   \n31                           Twenty One Pilots    5  September 10   \n32                                       Adele    8  September 24   \n33  Major Lazer featuring Justin Bieber and MØ    2     August 13   \n34           The Chainsmokers featuring Halsey    1   September 3   \n35                           Twenty One Pilots    2  September 24   \n36                                Shawn Mendes    6     October 8   \n37         Charlie Puth featuring Selena Gomez    9     October 8   \n38            DJ Snake featuring Justin Bieber    4     October 8   \n39                   DRAM featuring Lil Yachty    5    November 5   \n40              Gnash featuring Olivia O'Brien   10    October 22   \n41                                  Bruno Mars    4   December 10   \n42         Ariana Grande featuring Nicki Minaj    4    December 3   \n43              Zay Hilfigerrr & Zayion McCall    5   December 10   \n44           Rae Sremmurd featuring Gucci Mane    1   November 26   \n45                                     J. Cole    7   December 31   \n\n   Number of weeks in top ten  Year  \n0                          21  2016  \n1                          24  2016  \n2                          11  2016  \n3                           9  2016  \n4                          14  2016  \n5                           6  2016  \n6                          11  2016  \n7                           1  2016  \n8                          18  2016  \n9                          16  2016  \n10                          1  2016  \n11                         12  2016  \n12                          7  2016  \n13                          1  2016  \n14                         15  2016  \n15                         14  2016  \n16                          2  2016  \n17                          5  2016  \n18                         15  2016  \n19                         17  2016  \n20                         20  2016  \n21                          1  2016  \n22                          1  2016  \n23                          1  2016  \n24                         23  2016  \n25                         19  2016  \n26                         15  2016  \n27                         16  2016  \n28                          2  2016  \n29                         18  2016  \n30                          6  2016  \n31                         13  2016  \n32                          8  2016  \n33                         14  2016  \n34                         32  2016  \n35                         18  2016  \n36                          8  2016  \n37                          2  2016  \n38                         17  2016  \n39                         12  2016  \n40                          2  2016  \n41                         15  2016  \n42                         14  2016  \n43                         10  2016  \n44                         14  2016  \n45                          1  2016  "
     },
     "execution_count": 23,
     "metadata": {},
     "output_type": "execute_result"
    }
   ],
   "source": [
    "songdata"
   ]
  },
  {
   "cell_type": "code",
   "execution_count": 173,
   "metadata": {},
   "outputs": [],
   "source": [
    "songdata.to_csv(path_or_buf='data/' + str(year) + 'top10songs.csv',index=False) # Export our sample data table."
   ]
  },
  {
   "cell_type": "code",
   "execution_count": null,
   "metadata": {},
   "outputs": [],
   "source": []
  }
 ]
}