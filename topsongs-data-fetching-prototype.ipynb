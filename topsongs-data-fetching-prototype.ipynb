{
 "nbformat": 4,
 "nbformat_minor": 2,
 "metadata": {
  "language_info": {
   "name": "python",
   "codemirror_mode": {
    "name": "ipython",
    "version": 3
   },
   "version": "3.7.3"
  },
  "orig_nbformat": 2,
  "file_extension": ".py",
  "mimetype": "text/x-python",
  "name": "python",
  "npconvert_exporter": "python",
  "pygments_lexer": "ipython3",
  "version": 3
 },
 "cells": [
  {
   "cell_type": "code",
   "execution_count": 14,
   "metadata": {},
   "outputs": [],
   "source": [
    "from bs4 import BeautifulSoup\n",
    "import requests\n",
    "import pandas as pd\n",
    "import numpy as np\n",
    "import datetime\n"
   ]
  },
  {
   "cell_type": "code",
   "execution_count": 9,
   "metadata": {},
   "outputs": [
    {
     "name": "stdout",
     "output_type": "stream",
     "text": "<!DOCTYPE html>\n<html class=\"client-nojs\" dir=\"ltr\" lang=\"en\">\n <head>\n  <meta charset=\"utf-8\"/>\n  <title>\n   List of Billboard Hot 100 top-ten singles in 2010 - Wikipedia\n  </title>\n  <script>\n   document.documentElement.className=\"client-js\";RLCONF={\"wgBreakFrames\":!1,\"wgSeparatorTransformTable\":[\"\",\"\"],\"wgDigitTransformTable\":[\"\",\"\"],\"wgDefaultDateFormat\":\"dmy\",\"wgMonthNames\":[\"\",\"January\",\"February\",\"March\",\"April\",\"May\",\"June\",\"July\",\"August\",\"September\",\"October\",\"November\",\"December\"],\"wgMonthNamesShort\":[\"\",\"Jan\",\"Feb\",\"Mar\",\"Apr\",\"May\",\"Jun\",\"Jul\",\"Aug\",\"Sep\",\"Oct\",\"Nov\",\"Dec\"],\"wgRequestId\":\"XgWZHQpAAEYAAIfWb9YAAACJ\",\"wgCSPNonce\":!1,\"wgCanonicalNamespace\":\"\",\"wgCanonicalSpecialPageName\":!1,\"wgNamespaceNumber\":0,\"wgPageName\":\"List_of_Billboard_Hot_100_top-ten_singles_in_2010\",\"wgTitle\":\"List of Billboard Hot 100 top-ten singles in 2010\",\"wgCurRevisionId\":899254653,\"wgRevisionId\":899254653,\"wgArticleId\":25552100,\"wgIsArticle\":!0,\"wgIsRedirect\":!1,\"wgAction\":\"view\",\"wgUserName\":\n"
    }
   ],
   "source": [
    "headers = {'User-Agent': 'Mozilla/5.0 (Windows NT 6.1) AppleWebKit/537.36 (KHTML, like Gecko) Chrome/41.0.2228.0 Safari/537.3'}\n",
    "year = 2010 # Year we're currently testing.\n",
    "html = requests.get('https://en.wikipedia.org/wiki/List_of_Billboard_Hot_100_top-ten_singles_in_' + str(year),cookies={ 'sessionid': '123..'},headers=headers).text\n",
    "soup = BeautifulSoup(html, 'lxml')\n",
    "print(soup.prettify()[0:1000])"
   ]
  },
  {
   "cell_type": "code",
   "execution_count": 10,
   "metadata": {},
   "outputs": [
    {
     "data": {
      "text/plain": "bs4.element.Tag"
     },
     "execution_count": 10,
     "metadata": {},
     "output_type": "execute_result"
    }
   ],
   "source": [
    "my_table = soup.find('table',{'class':'wikitable sortable'})\n",
    "type(my_table)"
   ]
  },
  {
   "cell_type": "code",
   "execution_count": 34,
   "metadata": {},
   "outputs": [],
   "source": [
    "tableheaderincluded = True\n",
    "swiftcount = 0\n",
    "\n",
    "# The following code mines the first table found on the Wikipedia page and extracts only table elements that do not correspond to a month and date. We don't care about the exact month and day that the song achieved Top 10 glory or their peek date. Furthermore, the way Wikipedia's tables are formatted, there are occasionally multiple songs that were all entered on the same day, and that date is listed only once, which creates problems for our script later down the road."
   ]
  },
  {
   "cell_type": "code",
   "execution_count": 37,
   "metadata": {},
   "outputs": [
    {
     "name": "stdout",
     "output_type": "stream",
     "text": "Taylor Swift appended!\n"
    }
   ],
   "source": [
    "Titles = []\n",
    "try:\n",
    "    tds = my_table.findAll('td')\n",
    "except AttributeError:\n",
    "    my_table = soup.find('table',{'class':'wikitable'})\n",
    "    tableheaderincluded = False\n",
    "    tds = my_table.findAll('td')\n",
    "\n",
    "for td in tds:\n",
    "    try:\n",
    "        d = datetime.datetime.strptime(td.get_text()[:-1], \"%B %d\") # Check if the current string is a Month Day format.\n",
    "    except ValueError:\n",
    "        try:\n",
    "            d = datetime.datetime.strptime(td.get_text()[:td.get_text().rfind('(')-1], \"%B %d\") # Catch a rare case where a song from the previous year charted again.\n",
    "        except ValueError:\n",
    "            try:\n",
    "                d = datetime.datetime.strptime(td.get_text()[:td.get_text().rfind('[')-1], \"%B %d\") # Catch a rare case where a song's top ten entry date has an annotation.\n",
    "            except ValueError:\n",
    "                try:\n",
    "                    if td.attrs['rowspan']:\n",
    "                        taylorswift = td.get_text()[:-1]\n",
    "                        swiftcount = 5\n",
    "                except KeyError:\n",
    "                    pass\n",
    "                if td.get_text()[0] != '[' and td.get_text()[0] and td.get_text()[0].strip(): # Drop annotations column.\n",
    "                    if swiftcount == 1:\n",
    "                        print(taylorswift + ' appended!')\n",
    "                        Titles.append(taylorswift)\n",
    "                        taylorswift = ''\n",
    "                        swiftcount = 0\n",
    "                    if swiftcount > 0:\n",
    "                        swiftcount = swiftcount-1;\n",
    "                    Titles.append(td.get_text()[:-1]) # Drop the newline character present at the end of every single entry."
   ]
  },
  {
   "cell_type": "code",
   "execution_count": 38,
   "metadata": {},
   "outputs": [
    {
     "name": "stdout",
     "output_type": "stream",
     "text": "['\"Replay\"', 'Iyaz', '2', '14', '\"Need You Now\" (#2)', 'Lady Antebellum', '2', '16', '\"Tik Tok\" (#1)', 'Kesha', '1', '20', '\"Sexy Bitch\"', 'David Guetta featuring Akon', '5', '13', '\"Do You Remember\"', 'Jay Sean featuring Sean Paul and Lil Jon', '10', '1', '\"Blah Blah Blah\" ◁', 'Kesha featuring 3OH!3', '7', '1', '\"BedRock\"', 'Young Money featuring Lloyd', '2', '13', '\"Hard\"', 'Rihanna featuring Young Jeezy', '8', '4', '\"Hey, Soul Sister\" (#3) [A]', 'Train', '3', '19', '\"How Low\"', 'Ludacris', '6', '7', '\"Baby\" ◁', 'Justin Bieber featuring Ludacris', '5', '5', '\"Today Was a Fairytale\" ◁', 'Taylor Swift', '2', '1', '\"Imma Be\"', 'The Black Eyed Peas', '1', '11', '\"We Are the World 25 for Haiti\" ◁', 'Artists for Haiti', '2', '2', '\"In My Head\" [B]', 'Jason Derulo', '5', '10', '\"Say Aah\"', 'Trey Songz featuring Fabolous', '9', '2', '\"Rude Boy\"', 'Rihanna', '1', '13', '\"Break Your Heart\" (#10)', 'Taio Cruz featuring Ludacris', '1', '16', '\"Nothin\\' on You\"', 'B.o.B featuring Bruno Mars', '1', '13', '\"Telephone\"', 'Lady Gaga featuring Beyoncé', '3', '7', '\"OMG\" (#5)', 'Usher featuring will.i.am', '1', '17', '\"Whataya Want from Me\"', 'Adam Lambert', '10', '1', '\"Your Love Is My Drug\"', 'Kesha', '4', '11', '\"Airplanes\" (#6)', 'B.o.B featuring Hayley Williams', '2', '17', '\"Young Forever\"', 'Jay-Z featuring Mr Hudson', '10', '1', '\"Not Afraid\" ◁ [C][D]', 'Eminem', '1', '7', '\"My First Kiss\" ◁', '3OH!3 featuring Kesha', '9', '1', '\"California Gurls\" (#4) ◁', 'Katy Perry featuring Snoop Dogg', '1', '17', '\"Alejandro\"', 'Lady Gaga', '5', '7', '\"Can\\'t Be Tamed\" ◁', 'Miley Cyrus', '8', '1', '\"Bulletproof\"', 'La Roux', '8', '2', '\"Billionaire\"', 'Travie McCoy featuring Bruno Mars', '4', '9', '\"Rock That Body\"', 'The Black Eyed Peas', '9', '2', '\"Find Your Love\"', 'Drake', '5', '7', '\"Cooler Than Me\"', 'Mike Posner', '6', '11', '\"Love the Way You Lie\" (#7) ◁', 'Eminem featuring Rihanna', '1', '16', '\"Ridin\\' Solo\" [E]', 'Jason Derulo', '9', '7', '\"Dynamite\" (#9)', 'Taio Cruz', '2', '18', '\"I Like It\"', 'Enrique Iglesias featuring Pitbull', '4', '13', '\"DJ Got Us Fallin\\' in Love\"', 'Usher featuring Pitbull', '4', '15', '\"Teenage Dream\"', 'Katy Perry', '1', '14', '\"Mine\" ◁ [F]', 'Taylor Swift', '3', '5', '\"Right Above It\" ◁', 'Lil Wayne featuring Drake', '6', '1', '\"Just the Way You Are\"', 'Bruno Mars', '1', '22', '\"Magic\"', 'B.o.B featuring Rivers Cuomo', '10', '1', '\"Take It Off\"', 'Kesha', '8', '3', '\"Just a Dream\"', 'Nelly', '3', '17', '\"Club Can\\'t Handle Me\"', 'Flo Rida featuring David Guetta', '9', '7', '\"Like a G6\"', 'Far East Movement featuring The Cataracs and Dev', '1', '11', '\"Only Girl (In the World)\"', 'Rihanna', '1', '15', '\"Speak Now\" ◁', 'Taylor Swift', '8', '1', '\"Back to December\" ◁', 'Taylor Swift', '6', '1', '\"Bottoms Up\" [G]', 'Trey Songz featuring Nicki Minaj', '6', '9', '\"Raise Your Glass\"', 'Pink', '1', '14', '\"We R Who We R\" ◁', 'Kesha', '1', '14', '\"Firework\"', 'Katy Perry', '1', '18', '\"What\\'s My Name?\"', 'Rihanna featuring Drake', '1', '14', '\"Teenage Dream\" ◁', 'Glee Cast', '8', '1', '\"The Time (Dirty Bit)\"', 'The Black Eyed Peas', '4', '10']\n"
    }
   ],
   "source": [
    "print(Titles)"
   ]
  },
  {
   "cell_type": "code",
   "execution_count": 39,
   "metadata": {},
   "outputs": [],
   "source": [
    "nptitles = np.asarray(Titles).copy()"
   ]
  },
  {
   "cell_type": "code",
   "execution_count": 40,
   "metadata": {},
   "outputs": [
    {
     "data": {
      "text/plain": "236"
     },
     "execution_count": 40,
     "metadata": {},
     "output_type": "execute_result"
    }
   ],
   "source": [
    "len(nptitles)"
   ]
  },
  {
   "cell_type": "code",
   "execution_count": 41,
   "metadata": {},
   "outputs": [],
   "source": [
    "numsongs = int(np.prod(nptitles.shape)/4) # Find out how many songs are in this list.\n",
    "reshaped = nptitles.reshape(numsongs,4) # Reshape the array based on the number of songs and the number of columns."
   ]
  },
  {
   "cell_type": "code",
   "execution_count": 42,
   "metadata": {},
   "outputs": [],
   "source": [
    "songdata = pd.DataFrame(reshaped)\n",
    "songdata.columns = ['Title','Artist','Peak','Number of weeks in top ten']\n",
    "songdata['Year'] = str(year)\n",
    "songdata['Title'] = [i[1:i.rfind('\\\"')] for i in songdata['Title']] # Drops quotation marks and annotations in Title.\n",
    "cleanweeks = []\n",
    "for i in songdata['Number of weeks in top ten']: # This code searches the number of weeks in top ten column for asterisks and eliminates them. This is only a \n",
    "    try:                                         # problem in the current year.\n",
    "        cleanweeks.append(int(i[:i.rindex('*')]))\n",
    "    except ValueError:\n",
    "        cleanweeks.append(int(i))\n",
    "\n",
    "songdata['Number of weeks in top ten'] = cleanweeks\n",
    "del songdata['Peak'] # This will not be relevant to our analysis."
   ]
  },
  {
   "cell_type": "code",
   "execution_count": 44,
   "metadata": {},
   "outputs": [
    {
     "data": {
      "text/html": "<div>\n<style scoped>\n    .dataframe tbody tr th:only-of-type {\n        vertical-align: middle;\n    }\n\n    .dataframe tbody tr th {\n        vertical-align: top;\n    }\n\n    .dataframe thead th {\n        text-align: right;\n    }\n</style>\n<table border=\"1\" class=\"dataframe\">\n  <thead>\n    <tr style=\"text-align: right;\">\n      <th></th>\n      <th>Title</th>\n      <th>Artist</th>\n      <th>Number of weeks in top ten</th>\n      <th>Year</th>\n    </tr>\n  </thead>\n  <tbody>\n    <tr>\n      <th>0</th>\n      <td>Replay</td>\n      <td>Iyaz</td>\n      <td>14</td>\n      <td>2010</td>\n    </tr>\n    <tr>\n      <th>1</th>\n      <td>Need You Now</td>\n      <td>Lady Antebellum</td>\n      <td>16</td>\n      <td>2010</td>\n    </tr>\n    <tr>\n      <th>2</th>\n      <td>Tik Tok</td>\n      <td>Kesha</td>\n      <td>20</td>\n      <td>2010</td>\n    </tr>\n    <tr>\n      <th>3</th>\n      <td>Sexy Bitch</td>\n      <td>David Guetta featuring Akon</td>\n      <td>13</td>\n      <td>2010</td>\n    </tr>\n    <tr>\n      <th>4</th>\n      <td>Do You Remember</td>\n      <td>Jay Sean featuring Sean Paul and Lil Jon</td>\n      <td>1</td>\n      <td>2010</td>\n    </tr>\n    <tr>\n      <th>5</th>\n      <td>Blah Blah Blah</td>\n      <td>Kesha featuring 3OH!3</td>\n      <td>1</td>\n      <td>2010</td>\n    </tr>\n    <tr>\n      <th>6</th>\n      <td>BedRock</td>\n      <td>Young Money featuring Lloyd</td>\n      <td>13</td>\n      <td>2010</td>\n    </tr>\n    <tr>\n      <th>7</th>\n      <td>Hard</td>\n      <td>Rihanna featuring Young Jeezy</td>\n      <td>4</td>\n      <td>2010</td>\n    </tr>\n    <tr>\n      <th>8</th>\n      <td>Hey, Soul Sister</td>\n      <td>Train</td>\n      <td>19</td>\n      <td>2010</td>\n    </tr>\n    <tr>\n      <th>9</th>\n      <td>How Low</td>\n      <td>Ludacris</td>\n      <td>7</td>\n      <td>2010</td>\n    </tr>\n    <tr>\n      <th>10</th>\n      <td>Baby</td>\n      <td>Justin Bieber featuring Ludacris</td>\n      <td>5</td>\n      <td>2010</td>\n    </tr>\n    <tr>\n      <th>11</th>\n      <td>Today Was a Fairytale</td>\n      <td>Taylor Swift</td>\n      <td>1</td>\n      <td>2010</td>\n    </tr>\n    <tr>\n      <th>12</th>\n      <td>Imma Be</td>\n      <td>The Black Eyed Peas</td>\n      <td>11</td>\n      <td>2010</td>\n    </tr>\n    <tr>\n      <th>13</th>\n      <td>We Are the World 25 for Haiti</td>\n      <td>Artists for Haiti</td>\n      <td>2</td>\n      <td>2010</td>\n    </tr>\n    <tr>\n      <th>14</th>\n      <td>In My Head</td>\n      <td>Jason Derulo</td>\n      <td>10</td>\n      <td>2010</td>\n    </tr>\n    <tr>\n      <th>15</th>\n      <td>Say Aah</td>\n      <td>Trey Songz featuring Fabolous</td>\n      <td>2</td>\n      <td>2010</td>\n    </tr>\n    <tr>\n      <th>16</th>\n      <td>Rude Boy</td>\n      <td>Rihanna</td>\n      <td>13</td>\n      <td>2010</td>\n    </tr>\n    <tr>\n      <th>17</th>\n      <td>Break Your Heart</td>\n      <td>Taio Cruz featuring Ludacris</td>\n      <td>16</td>\n      <td>2010</td>\n    </tr>\n    <tr>\n      <th>18</th>\n      <td>Nothin' on You</td>\n      <td>B.o.B featuring Bruno Mars</td>\n      <td>13</td>\n      <td>2010</td>\n    </tr>\n    <tr>\n      <th>19</th>\n      <td>Telephone</td>\n      <td>Lady Gaga featuring Beyoncé</td>\n      <td>7</td>\n      <td>2010</td>\n    </tr>\n    <tr>\n      <th>20</th>\n      <td>OMG</td>\n      <td>Usher featuring will.i.am</td>\n      <td>17</td>\n      <td>2010</td>\n    </tr>\n    <tr>\n      <th>21</th>\n      <td>Whataya Want from Me</td>\n      <td>Adam Lambert</td>\n      <td>1</td>\n      <td>2010</td>\n    </tr>\n    <tr>\n      <th>22</th>\n      <td>Your Love Is My Drug</td>\n      <td>Kesha</td>\n      <td>11</td>\n      <td>2010</td>\n    </tr>\n    <tr>\n      <th>23</th>\n      <td>Airplanes</td>\n      <td>B.o.B featuring Hayley Williams</td>\n      <td>17</td>\n      <td>2010</td>\n    </tr>\n    <tr>\n      <th>24</th>\n      <td>Young Forever</td>\n      <td>Jay-Z featuring Mr Hudson</td>\n      <td>1</td>\n      <td>2010</td>\n    </tr>\n    <tr>\n      <th>25</th>\n      <td>Not Afraid</td>\n      <td>Eminem</td>\n      <td>7</td>\n      <td>2010</td>\n    </tr>\n    <tr>\n      <th>26</th>\n      <td>My First Kiss</td>\n      <td>3OH!3 featuring Kesha</td>\n      <td>1</td>\n      <td>2010</td>\n    </tr>\n    <tr>\n      <th>27</th>\n      <td>California Gurls</td>\n      <td>Katy Perry featuring Snoop Dogg</td>\n      <td>17</td>\n      <td>2010</td>\n    </tr>\n    <tr>\n      <th>28</th>\n      <td>Alejandro</td>\n      <td>Lady Gaga</td>\n      <td>7</td>\n      <td>2010</td>\n    </tr>\n    <tr>\n      <th>29</th>\n      <td>Can't Be Tamed</td>\n      <td>Miley Cyrus</td>\n      <td>1</td>\n      <td>2010</td>\n    </tr>\n    <tr>\n      <th>30</th>\n      <td>Bulletproof</td>\n      <td>La Roux</td>\n      <td>2</td>\n      <td>2010</td>\n    </tr>\n    <tr>\n      <th>31</th>\n      <td>Billionaire</td>\n      <td>Travie McCoy featuring Bruno Mars</td>\n      <td>9</td>\n      <td>2010</td>\n    </tr>\n    <tr>\n      <th>32</th>\n      <td>Rock That Body</td>\n      <td>The Black Eyed Peas</td>\n      <td>2</td>\n      <td>2010</td>\n    </tr>\n    <tr>\n      <th>33</th>\n      <td>Find Your Love</td>\n      <td>Drake</td>\n      <td>7</td>\n      <td>2010</td>\n    </tr>\n    <tr>\n      <th>34</th>\n      <td>Cooler Than Me</td>\n      <td>Mike Posner</td>\n      <td>11</td>\n      <td>2010</td>\n    </tr>\n    <tr>\n      <th>35</th>\n      <td>Love the Way You Lie</td>\n      <td>Eminem featuring Rihanna</td>\n      <td>16</td>\n      <td>2010</td>\n    </tr>\n    <tr>\n      <th>36</th>\n      <td>Ridin' Solo</td>\n      <td>Jason Derulo</td>\n      <td>7</td>\n      <td>2010</td>\n    </tr>\n    <tr>\n      <th>37</th>\n      <td>Dynamite</td>\n      <td>Taio Cruz</td>\n      <td>18</td>\n      <td>2010</td>\n    </tr>\n    <tr>\n      <th>38</th>\n      <td>I Like It</td>\n      <td>Enrique Iglesias featuring Pitbull</td>\n      <td>13</td>\n      <td>2010</td>\n    </tr>\n    <tr>\n      <th>39</th>\n      <td>DJ Got Us Fallin' in Love</td>\n      <td>Usher featuring Pitbull</td>\n      <td>15</td>\n      <td>2010</td>\n    </tr>\n    <tr>\n      <th>40</th>\n      <td>Teenage Dream</td>\n      <td>Katy Perry</td>\n      <td>14</td>\n      <td>2010</td>\n    </tr>\n    <tr>\n      <th>41</th>\n      <td>Mine</td>\n      <td>Taylor Swift</td>\n      <td>5</td>\n      <td>2010</td>\n    </tr>\n    <tr>\n      <th>42</th>\n      <td>Right Above It</td>\n      <td>Lil Wayne featuring Drake</td>\n      <td>1</td>\n      <td>2010</td>\n    </tr>\n    <tr>\n      <th>43</th>\n      <td>Just the Way You Are</td>\n      <td>Bruno Mars</td>\n      <td>22</td>\n      <td>2010</td>\n    </tr>\n    <tr>\n      <th>44</th>\n      <td>Magic</td>\n      <td>B.o.B featuring Rivers Cuomo</td>\n      <td>1</td>\n      <td>2010</td>\n    </tr>\n    <tr>\n      <th>45</th>\n      <td>Take It Off</td>\n      <td>Kesha</td>\n      <td>3</td>\n      <td>2010</td>\n    </tr>\n    <tr>\n      <th>46</th>\n      <td>Just a Dream</td>\n      <td>Nelly</td>\n      <td>17</td>\n      <td>2010</td>\n    </tr>\n    <tr>\n      <th>47</th>\n      <td>Club Can't Handle Me</td>\n      <td>Flo Rida featuring David Guetta</td>\n      <td>7</td>\n      <td>2010</td>\n    </tr>\n    <tr>\n      <th>48</th>\n      <td>Like a G6</td>\n      <td>Far East Movement featuring The Cataracs and Dev</td>\n      <td>11</td>\n      <td>2010</td>\n    </tr>\n    <tr>\n      <th>49</th>\n      <td>Only Girl (In the World)</td>\n      <td>Rihanna</td>\n      <td>15</td>\n      <td>2010</td>\n    </tr>\n    <tr>\n      <th>50</th>\n      <td>Speak Now</td>\n      <td>Taylor Swift</td>\n      <td>1</td>\n      <td>2010</td>\n    </tr>\n    <tr>\n      <th>51</th>\n      <td>Back to December</td>\n      <td>Taylor Swift</td>\n      <td>1</td>\n      <td>2010</td>\n    </tr>\n    <tr>\n      <th>52</th>\n      <td>Bottoms Up</td>\n      <td>Trey Songz featuring Nicki Minaj</td>\n      <td>9</td>\n      <td>2010</td>\n    </tr>\n    <tr>\n      <th>53</th>\n      <td>Raise Your Glass</td>\n      <td>Pink</td>\n      <td>14</td>\n      <td>2010</td>\n    </tr>\n    <tr>\n      <th>54</th>\n      <td>We R Who We R</td>\n      <td>Kesha</td>\n      <td>14</td>\n      <td>2010</td>\n    </tr>\n    <tr>\n      <th>55</th>\n      <td>Firework</td>\n      <td>Katy Perry</td>\n      <td>18</td>\n      <td>2010</td>\n    </tr>\n    <tr>\n      <th>56</th>\n      <td>What's My Name?</td>\n      <td>Rihanna featuring Drake</td>\n      <td>14</td>\n      <td>2010</td>\n    </tr>\n    <tr>\n      <th>57</th>\n      <td>Teenage Dream</td>\n      <td>Glee Cast</td>\n      <td>1</td>\n      <td>2010</td>\n    </tr>\n    <tr>\n      <th>58</th>\n      <td>The Time (Dirty Bit)</td>\n      <td>The Black Eyed Peas</td>\n      <td>10</td>\n      <td>2010</td>\n    </tr>\n  </tbody>\n</table>\n</div>",
      "text/plain": "                            Title  \\\n0                          Replay   \n1                    Need You Now   \n2                         Tik Tok   \n3                      Sexy Bitch   \n4                 Do You Remember   \n5                  Blah Blah Blah   \n6                         BedRock   \n7                            Hard   \n8                Hey, Soul Sister   \n9                         How Low   \n10                           Baby   \n11          Today Was a Fairytale   \n12                        Imma Be   \n13  We Are the World 25 for Haiti   \n14                     In My Head   \n15                        Say Aah   \n16                       Rude Boy   \n17               Break Your Heart   \n18                 Nothin' on You   \n19                      Telephone   \n20                            OMG   \n21           Whataya Want from Me   \n22           Your Love Is My Drug   \n23                      Airplanes   \n24                  Young Forever   \n25                     Not Afraid   \n26                  My First Kiss   \n27               California Gurls   \n28                      Alejandro   \n29                 Can't Be Tamed   \n30                    Bulletproof   \n31                    Billionaire   \n32                 Rock That Body   \n33                 Find Your Love   \n34                 Cooler Than Me   \n35           Love the Way You Lie   \n36                    Ridin' Solo   \n37                       Dynamite   \n38                      I Like It   \n39      DJ Got Us Fallin' in Love   \n40                  Teenage Dream   \n41                           Mine   \n42                 Right Above It   \n43           Just the Way You Are   \n44                          Magic   \n45                    Take It Off   \n46                   Just a Dream   \n47           Club Can't Handle Me   \n48                      Like a G6   \n49       Only Girl (In the World)   \n50                      Speak Now   \n51               Back to December   \n52                     Bottoms Up   \n53               Raise Your Glass   \n54                  We R Who We R   \n55                       Firework   \n56                What's My Name?   \n57                  Teenage Dream   \n58           The Time (Dirty Bit)   \n\n                                              Artist  \\\n0                                               Iyaz   \n1                                    Lady Antebellum   \n2                                              Kesha   \n3                        David Guetta featuring Akon   \n4           Jay Sean featuring Sean Paul and Lil Jon   \n5                              Kesha featuring 3OH!3   \n6                        Young Money featuring Lloyd   \n7                      Rihanna featuring Young Jeezy   \n8                                              Train   \n9                                           Ludacris   \n10                  Justin Bieber featuring Ludacris   \n11                                      Taylor Swift   \n12                               The Black Eyed Peas   \n13                                 Artists for Haiti   \n14                                      Jason Derulo   \n15                     Trey Songz featuring Fabolous   \n16                                           Rihanna   \n17                      Taio Cruz featuring Ludacris   \n18                        B.o.B featuring Bruno Mars   \n19                       Lady Gaga featuring Beyoncé   \n20                         Usher featuring will.i.am   \n21                                      Adam Lambert   \n22                                             Kesha   \n23                   B.o.B featuring Hayley Williams   \n24                         Jay-Z featuring Mr Hudson   \n25                                            Eminem   \n26                             3OH!3 featuring Kesha   \n27                   Katy Perry featuring Snoop Dogg   \n28                                         Lady Gaga   \n29                                       Miley Cyrus   \n30                                           La Roux   \n31                 Travie McCoy featuring Bruno Mars   \n32                               The Black Eyed Peas   \n33                                             Drake   \n34                                       Mike Posner   \n35                          Eminem featuring Rihanna   \n36                                      Jason Derulo   \n37                                         Taio Cruz   \n38                Enrique Iglesias featuring Pitbull   \n39                           Usher featuring Pitbull   \n40                                        Katy Perry   \n41                                      Taylor Swift   \n42                         Lil Wayne featuring Drake   \n43                                        Bruno Mars   \n44                      B.o.B featuring Rivers Cuomo   \n45                                             Kesha   \n46                                             Nelly   \n47                   Flo Rida featuring David Guetta   \n48  Far East Movement featuring The Cataracs and Dev   \n49                                           Rihanna   \n50                                      Taylor Swift   \n51                                      Taylor Swift   \n52                  Trey Songz featuring Nicki Minaj   \n53                                              Pink   \n54                                             Kesha   \n55                                        Katy Perry   \n56                           Rihanna featuring Drake   \n57                                         Glee Cast   \n58                               The Black Eyed Peas   \n\n    Number of weeks in top ten  Year  \n0                           14  2010  \n1                           16  2010  \n2                           20  2010  \n3                           13  2010  \n4                            1  2010  \n5                            1  2010  \n6                           13  2010  \n7                            4  2010  \n8                           19  2010  \n9                            7  2010  \n10                           5  2010  \n11                           1  2010  \n12                          11  2010  \n13                           2  2010  \n14                          10  2010  \n15                           2  2010  \n16                          13  2010  \n17                          16  2010  \n18                          13  2010  \n19                           7  2010  \n20                          17  2010  \n21                           1  2010  \n22                          11  2010  \n23                          17  2010  \n24                           1  2010  \n25                           7  2010  \n26                           1  2010  \n27                          17  2010  \n28                           7  2010  \n29                           1  2010  \n30                           2  2010  \n31                           9  2010  \n32                           2  2010  \n33                           7  2010  \n34                          11  2010  \n35                          16  2010  \n36                           7  2010  \n37                          18  2010  \n38                          13  2010  \n39                          15  2010  \n40                          14  2010  \n41                           5  2010  \n42                           1  2010  \n43                          22  2010  \n44                           1  2010  \n45                           3  2010  \n46                          17  2010  \n47                           7  2010  \n48                          11  2010  \n49                          15  2010  \n50                           1  2010  \n51                           1  2010  \n52                           9  2010  \n53                          14  2010  \n54                          14  2010  \n55                          18  2010  \n56                          14  2010  \n57                           1  2010  \n58                          10  2010  "
     },
     "execution_count": 44,
     "metadata": {},
     "output_type": "execute_result"
    }
   ],
   "source": [
    "songdata"
   ]
  },
  {
   "cell_type": "code",
   "execution_count": 43,
   "metadata": {},
   "outputs": [],
   "source": [
    "songdata.to_csv(path_or_buf='data/' + str(year) + 'top10songs.csv',index=False) # Export our sample data table."
   ]
  },
  {
   "cell_type": "code",
   "execution_count": null,
   "metadata": {},
   "outputs": [],
   "source": []
  }
 ]
}