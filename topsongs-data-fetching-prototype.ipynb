{
 "nbformat": 4,
 "nbformat_minor": 2,
 "metadata": {
  "language_info": {
   "name": "python",
   "codemirror_mode": {
    "name": "ipython",
    "version": 3
   },
   "version": "3.7.3"
  },
  "orig_nbformat": 2,
  "file_extension": ".py",
  "mimetype": "text/x-python",
  "name": "python",
  "npconvert_exporter": "python",
  "pygments_lexer": "ipython3",
  "version": 3
 },
 "cells": [
  {
   "cell_type": "code",
   "execution_count": 2,
   "metadata": {},
   "outputs": [],
   "source": [
    "from bs4 import BeautifulSoup\n",
    "import requests\n",
    "import pandas as pd\n",
    "import numpy as np\n",
    "import datetime\n"
   ]
  },
  {
   "cell_type": "code",
   "execution_count": 3,
   "metadata": {},
   "outputs": [
    {
     "name": "stdout",
     "output_type": "stream",
     "text": "<!DOCTYPE html>\n<html class=\"client-nojs\" dir=\"ltr\" lang=\"en\">\n <head>\n  <meta charset=\"utf-8\"/>\n  <title>\n   List of Billboard Hot 100 top-ten singles in 1995 - Wikipedia\n  </title>\n  <script>\n   document.documentElement.className=\"client-js\";RLCONF={\"wgBreakFrames\":!1,\"wgSeparatorTransformTable\":[\"\",\"\"],\"wgDigitTransformTable\":[\"\",\"\"],\"wgDefaultDateFormat\":\"dmy\",\"wgMonthNames\":[\"\",\"January\",\"February\",\"March\",\"April\",\"May\",\"June\",\"July\",\"August\",\"September\",\"October\",\"November\",\"December\"],\"wgMonthNamesShort\":[\"\",\"Jan\",\"Feb\",\"Mar\",\"Apr\",\"May\",\"Jun\",\"Jul\",\"Aug\",\"Sep\",\"Oct\",\"Nov\",\"Dec\"],\"wgRequestId\":\"XgWP5wpAME0AADcz6oMAAABH\",\"wgCSPNonce\":!1,\"wgCanonicalNamespace\":\"\",\"wgCanonicalSpecialPageName\":!1,\"wgNamespaceNumber\":0,\"wgPageName\":\"List_of_Billboard_Hot_100_top-ten_singles_in_1995\",\"wgTitle\":\"List of Billboard Hot 100 top-ten singles in 1995\",\"wgCurRevisionId\":899235184,\"wgRevisionId\":899235184,\"wgArticleId\":40416612,\"wgIsArticle\":!0,\"wgIsRedirect\":!1,\"wgAction\":\"view\",\"wgUserName\":\n"
    }
   ],
   "source": [
    "headers = {'User-Agent': 'Mozilla/5.0 (Windows NT 6.1) AppleWebKit/537.36 (KHTML, like Gecko) Chrome/41.0.2228.0 Safari/537.3'}\n",
    "year = 1995 # Year we're currently testing.\n",
    "html = requests.get('https://en.wikipedia.org/wiki/List_of_Billboard_Hot_100_top-ten_singles_in_' + str(year),cookies={ 'sessionid': '123..'},headers=headers).text\n",
    "soup = BeautifulSoup(html, 'lxml')\n",
    "print(soup.prettify()[0:1000])"
   ]
  },
  {
   "cell_type": "code",
   "execution_count": 4,
   "metadata": {},
   "outputs": [
    {
     "data": {
      "text/plain": "bs4.element.Tag"
     },
     "execution_count": 4,
     "metadata": {},
     "output_type": "execute_result"
    }
   ],
   "source": [
    "my_table = soup.find('table',{'class':'wikitable sortable'})\n",
    "type(my_table)"
   ]
  },
  {
   "cell_type": "code",
   "execution_count": 5,
   "metadata": {},
   "outputs": [],
   "source": [
    "Titles = []\n",
    "tableheaderincluded = True\n",
    "\n",
    "# The following code mines the first table found on the Wikipedia page and extracts only table elements that do not correspond to a month and date. We don't care about the exact month and day that the song achieved Top 10 glory or their peek date. Furthermore, the way Wikipedia's tables are formatted, there are occasionally multiple songs that were all entered on the same day, and that date is listed only once, which creates problems for our script later down the road.\n",
    "\n",
    "try:\n",
    "    tds = my_table.findAll('td')\n",
    "except AttributeError:\n",
    "    my_table = soup.find('table',{'class':'wikitable'})\n",
    "    tableheaderincluded = False\n",
    "    tds = my_table.findAll('td')\n",
    "\n",
    "for td in tds:\n",
    "    try:\n",
    "        d = datetime.datetime.strptime(td.get_text()[:-1], \"%B %d\") # Check if the current string is a Month Day format.\n",
    "    except ValueError:\n",
    "        try:\n",
    "            d = datetime.datetime.strptime(td.get_text()[:td.get_text().rfind('(')-1], \"%B %d\") # Catch a rare case where a song from the previous year charted again.\n",
    "        except ValueError:\n",
    "            try:\n",
    "                d = datetime.datetime.strptime(td.get_text()[:td.get_text().rfind('[')-1], \"%B %d\") # Catch a rare case where a song's top ten entry date has an annotation.\n",
    "            except ValueError:\n",
    "                if td.get_text()[0] != '[' and td.get_text()[0] and td.get_text()[0].strip(): # Drop annotations column.\n",
    "                    Titles.append(td.get_text()[:-1]) # Drop the newline character present at the end of every single entry.\n",
    "\n"
   ]
  },
  {
   "cell_type": "code",
   "execution_count": 6,
   "metadata": {},
   "outputs": [
    {
     "name": "stdout",
     "output_type": "stream",
     "text": "['\"Creep\"', 'TLC', '1', '20', '\"Before I Let You Go\"', 'Blackstreet', '7', '8', '\"I\\'m the Only One\"', 'Melissa Etheridge', '8', '5', '\"Tootsee Roll\"', '69 Boyz', '8', '3', '\"Take a Bow\"', 'Madonna', '1', '15', '\"Sukiyaki\"', '4 P.M.', '8', '6', '\"You Gotta Be\"', \"Des'ree\", '5', '10', '\"Baby\"', 'Brandy', '4', '9', '\"Candy Rain\"', 'Soul for Real', '2', '12', '\"Hold My Hand\"', 'Hootie & The Blowfish', '10', '3', '\"If You Love Me\"', 'Brownstone', '8', '5', '\"Strong Enough\"', 'Sheryl Crow', '5', '11', '\"Big Poppa\"', 'The Notorious B.I.G', '6', '7', '\"Red Light Special\"', 'TLC', '2', '12', '\"Run Away\"', 'Real McCoy', '3', '8', '\"This Is How We Do It\"', 'Montell Jordan', '1', '14', '\"I Know\"', 'Dionne Farris', '4', '10', '\"Freak like Me\"', 'Adina Howard', '2', '12', '\"Keep Their Heads Ringin\\'\"', 'Dr. Dre', '10', '1', '\"Dear Mama\"', '2Pac', '9', '4', '\"I Believe\"', 'Blessid Union of Souls', '8', '8', '\"Water Runs Dry\"', 'Boyz II Men', '2', '16', '\"Have You Ever Really Loved a Woman?\"', 'Bryan Adams', '1', '12', '\"I\\'ll Be There for You\"/\"You\\'re All I Need to Get By\"', 'Method Man featuring Mary J. Blige', '3', '8', '\"Total Eclipse of the Heart\"', 'Nicki French', '2', '11', '\"Don\\'t Take It Personal (Just One of Dem Days)\"', 'Monica', '2', '14', '\"Let Her Cry\"', 'Hootie & The Blowfish', '9', '3', '\"Scream/Childhood\" ◁', 'Michael Jackson and Janet Jackson', '5', '6', '\"One More Chance\" ◁', 'The Notorious B.I.G. featuring Faith Evans and Mary J. Blige', '2', '10', '\"Waterfalls\"', 'TLC', '1', '18', '\"I Can Love You Like That\"', 'All-4-One', '5', '15', '\"Run-Around\"', 'Blues Traveler', '8', '9', '\"Boombastic\" / \"In the Summertime\"', 'Shaggy', '3', '12', '\"Kiss From a Rose\"', 'Seal', '1', '17', '\"Colors Of The Wind\"', 'Vanessa Williams', '4', '7', '\"Someone To Love\"', 'Jon B. featuring Babyface', '10', '1', '\"He\\'s Mine\"', 'MoKenStef', '7', '4', '\"Gangsta\\'s Paradise\"', 'Coolio featuring L.V.', '1', '22', '\"You Are Not Alone\" ◁', 'Michael Jackson', '1', '10', '\"Only Wanna Be With You\"', 'Hootie & The Blowfish', '6', '11', '\"I Got 5 on It\"', 'Luniz featuring Michael Marshall', '8', '4', '\"Runaway\" ◁', 'Janet Jackson', '3', '14', '\"As I Lay Me Down\"', 'Sophie B. Hawkins', '6', '9', '\"Fantasy\" ◁', 'Mariah Carey', '1', '16', '\"Brokenhearted\"', 'Brandy featuring Wanya Morris', '9', '2', '\"Tell Me\"', 'Groove Theory', '5', '7', '\"Back For Good\"', 'Take That', '7', '5', '\"Carnival\"', 'Natalie Merchant', '10', '1', '\"Roll To Me\"', 'Del Amitri', '10', '1', '\"Who Can I Run To\"', 'Xscape', '8', '2', '\"You Remind Me of Something\" ◁', 'R. Kelly', '4', '5', '\"Exhale (Shoop Shoop)\" ◁', 'Whitney Houston', '1', '15', '\"Hey Lover\"', 'LL Cool J featuring Boyz II Men', '3', '14', '\"Diggin\\' on You\"', 'TLC', '5', '9', '\"One Sweet Day\" ◁', 'Mariah Carey and Boyz II Men', '1', '19', '\"You\\'ll See\" ◁', 'Madonna', '6', '5', '\"I Got Id\" ◁', 'Pearl Jam featuring Neil Young', '7', '1', '\"Before You Walk Out of My Life\"', 'Monica', '7', '5']\n"
    }
   ],
   "source": [
    "print(Titles)"
   ]
  },
  {
   "cell_type": "code",
   "execution_count": 7,
   "metadata": {},
   "outputs": [],
   "source": [
    "nptitles = np.asarray(Titles).copy()"
   ]
  },
  {
   "cell_type": "code",
   "execution_count": 8,
   "metadata": {},
   "outputs": [
    {
     "data": {
      "text/plain": "232"
     },
     "execution_count": 8,
     "metadata": {},
     "output_type": "execute_result"
    }
   ],
   "source": [
    "len(nptitles)"
   ]
  },
  {
   "cell_type": "code",
   "execution_count": 9,
   "metadata": {},
   "outputs": [],
   "source": [
    "numsongs = int(np.prod(nptitles.shape)/4) # Find out how many songs are in this list.\n",
    "reshaped = nptitles.reshape(numsongs,4) # Reshape the array based on the number of songs and the number of columns."
   ]
  },
  {
   "cell_type": "code",
   "execution_count": 10,
   "metadata": {},
   "outputs": [],
   "source": [
    "songdata = pd.DataFrame(reshaped)\n",
    "songdata.columns = ['Title','Artist','Peak','Number of weeks in top ten']\n",
    "songdata['Year'] = year * numsongs\n",
    "songdata['Title'] = [i[1:i.rfind('\\\"')] for i in songdata['Title']] # Drops quotation marks and annotations in Title.\n",
    "cleanweeks = []\n",
    "for i in songdata['Number of weeks in top ten']: # This code searches the number of weeks in top ten column for asterisks and eliminates them. This is only a \n",
    "    try:                                         # problem in the current year.\n",
    "        cleanweeks.append(int(i[:i.rindex('*')]))\n",
    "    except ValueError:\n",
    "        cleanweeks.append(int(i))\n",
    "\n",
    "songdata['Number of weeks in top ten'] = cleanweeks\n",
    "del songdata['Peak'] # This will not be relevant to our analysis."
   ]
  },
  {
   "cell_type": "code",
   "execution_count": 11,
   "metadata": {},
   "outputs": [
    {
     "data": {
      "text/html": "<div>\n<style scoped>\n    .dataframe tbody tr th:only-of-type {\n        vertical-align: middle;\n    }\n\n    .dataframe tbody tr th {\n        vertical-align: top;\n    }\n\n    .dataframe thead th {\n        text-align: right;\n    }\n</style>\n<table border=\"1\" class=\"dataframe\">\n  <thead>\n    <tr style=\"text-align: right;\">\n      <th></th>\n      <th>Title</th>\n      <th>Artist</th>\n      <th>Number of weeks in top ten</th>\n      <th>Year</th>\n    </tr>\n  </thead>\n  <tbody>\n    <tr>\n      <th>0</th>\n      <td>Creep</td>\n      <td>TLC</td>\n      <td>20</td>\n      <td>2019</td>\n    </tr>\n    <tr>\n      <th>1</th>\n      <td>Before I Let You Go</td>\n      <td>Blackstreet</td>\n      <td>8</td>\n      <td>2019</td>\n    </tr>\n    <tr>\n      <th>2</th>\n      <td>I'm the Only One</td>\n      <td>Melissa Etheridge</td>\n      <td>5</td>\n      <td>2019</td>\n    </tr>\n    <tr>\n      <th>3</th>\n      <td>Tootsee Roll</td>\n      <td>69 Boyz</td>\n      <td>3</td>\n      <td>2019</td>\n    </tr>\n    <tr>\n      <th>4</th>\n      <td>Take a Bow</td>\n      <td>Madonna</td>\n      <td>15</td>\n      <td>2019</td>\n    </tr>\n    <tr>\n      <th>5</th>\n      <td>Sukiyaki</td>\n      <td>4 P.M.</td>\n      <td>6</td>\n      <td>2019</td>\n    </tr>\n    <tr>\n      <th>6</th>\n      <td>You Gotta Be</td>\n      <td>Des'ree</td>\n      <td>10</td>\n      <td>2019</td>\n    </tr>\n    <tr>\n      <th>7</th>\n      <td>Baby</td>\n      <td>Brandy</td>\n      <td>9</td>\n      <td>2019</td>\n    </tr>\n    <tr>\n      <th>8</th>\n      <td>Candy Rain</td>\n      <td>Soul for Real</td>\n      <td>12</td>\n      <td>2019</td>\n    </tr>\n    <tr>\n      <th>9</th>\n      <td>Hold My Hand</td>\n      <td>Hootie &amp; The Blowfish</td>\n      <td>3</td>\n      <td>2019</td>\n    </tr>\n    <tr>\n      <th>10</th>\n      <td>If You Love Me</td>\n      <td>Brownstone</td>\n      <td>5</td>\n      <td>2019</td>\n    </tr>\n    <tr>\n      <th>11</th>\n      <td>Strong Enough</td>\n      <td>Sheryl Crow</td>\n      <td>11</td>\n      <td>2019</td>\n    </tr>\n    <tr>\n      <th>12</th>\n      <td>Big Poppa</td>\n      <td>The Notorious B.I.G</td>\n      <td>7</td>\n      <td>2019</td>\n    </tr>\n    <tr>\n      <th>13</th>\n      <td>Red Light Special</td>\n      <td>TLC</td>\n      <td>12</td>\n      <td>2019</td>\n    </tr>\n    <tr>\n      <th>14</th>\n      <td>Run Away</td>\n      <td>Real McCoy</td>\n      <td>8</td>\n      <td>2019</td>\n    </tr>\n    <tr>\n      <th>15</th>\n      <td>This Is How We Do It</td>\n      <td>Montell Jordan</td>\n      <td>14</td>\n      <td>2019</td>\n    </tr>\n    <tr>\n      <th>16</th>\n      <td>I Know</td>\n      <td>Dionne Farris</td>\n      <td>10</td>\n      <td>2019</td>\n    </tr>\n    <tr>\n      <th>17</th>\n      <td>Freak like Me</td>\n      <td>Adina Howard</td>\n      <td>12</td>\n      <td>2019</td>\n    </tr>\n    <tr>\n      <th>18</th>\n      <td>Keep Their Heads Ringin'</td>\n      <td>Dr. Dre</td>\n      <td>1</td>\n      <td>2019</td>\n    </tr>\n    <tr>\n      <th>19</th>\n      <td>Dear Mama</td>\n      <td>2Pac</td>\n      <td>4</td>\n      <td>2019</td>\n    </tr>\n    <tr>\n      <th>20</th>\n      <td>I Believe</td>\n      <td>Blessid Union of Souls</td>\n      <td>8</td>\n      <td>2019</td>\n    </tr>\n    <tr>\n      <th>21</th>\n      <td>Water Runs Dry</td>\n      <td>Boyz II Men</td>\n      <td>16</td>\n      <td>2019</td>\n    </tr>\n    <tr>\n      <th>22</th>\n      <td>Have You Ever Really Loved a Woman?</td>\n      <td>Bryan Adams</td>\n      <td>12</td>\n      <td>2019</td>\n    </tr>\n    <tr>\n      <th>23</th>\n      <td>I'll Be There for You\"/\"You're All I Need to G...</td>\n      <td>Method Man featuring Mary J. Blige</td>\n      <td>8</td>\n      <td>2019</td>\n    </tr>\n    <tr>\n      <th>24</th>\n      <td>Total Eclipse of the Heart</td>\n      <td>Nicki French</td>\n      <td>11</td>\n      <td>2019</td>\n    </tr>\n    <tr>\n      <th>25</th>\n      <td>Don't Take It Personal (Just One of Dem Days)</td>\n      <td>Monica</td>\n      <td>14</td>\n      <td>2019</td>\n    </tr>\n    <tr>\n      <th>26</th>\n      <td>Let Her Cry</td>\n      <td>Hootie &amp; The Blowfish</td>\n      <td>3</td>\n      <td>2019</td>\n    </tr>\n    <tr>\n      <th>27</th>\n      <td>Scream/Childhood</td>\n      <td>Michael Jackson and Janet Jackson</td>\n      <td>6</td>\n      <td>2019</td>\n    </tr>\n    <tr>\n      <th>28</th>\n      <td>One More Chance</td>\n      <td>The Notorious B.I.G. featuring Faith Evans and...</td>\n      <td>10</td>\n      <td>2019</td>\n    </tr>\n    <tr>\n      <th>29</th>\n      <td>Waterfalls</td>\n      <td>TLC</td>\n      <td>18</td>\n      <td>2019</td>\n    </tr>\n    <tr>\n      <th>30</th>\n      <td>I Can Love You Like That</td>\n      <td>All-4-One</td>\n      <td>15</td>\n      <td>2019</td>\n    </tr>\n    <tr>\n      <th>31</th>\n      <td>Run-Around</td>\n      <td>Blues Traveler</td>\n      <td>9</td>\n      <td>2019</td>\n    </tr>\n    <tr>\n      <th>32</th>\n      <td>Boombastic\" / \"In the Summertime</td>\n      <td>Shaggy</td>\n      <td>12</td>\n      <td>2019</td>\n    </tr>\n    <tr>\n      <th>33</th>\n      <td>Kiss From a Rose</td>\n      <td>Seal</td>\n      <td>17</td>\n      <td>2019</td>\n    </tr>\n    <tr>\n      <th>34</th>\n      <td>Colors Of The Wind</td>\n      <td>Vanessa Williams</td>\n      <td>7</td>\n      <td>2019</td>\n    </tr>\n    <tr>\n      <th>35</th>\n      <td>Someone To Love</td>\n      <td>Jon B. featuring Babyface</td>\n      <td>1</td>\n      <td>2019</td>\n    </tr>\n    <tr>\n      <th>36</th>\n      <td>He's Mine</td>\n      <td>MoKenStef</td>\n      <td>4</td>\n      <td>2019</td>\n    </tr>\n    <tr>\n      <th>37</th>\n      <td>Gangsta's Paradise</td>\n      <td>Coolio featuring L.V.</td>\n      <td>22</td>\n      <td>2019</td>\n    </tr>\n    <tr>\n      <th>38</th>\n      <td>You Are Not Alone</td>\n      <td>Michael Jackson</td>\n      <td>10</td>\n      <td>2019</td>\n    </tr>\n    <tr>\n      <th>39</th>\n      <td>Only Wanna Be With You</td>\n      <td>Hootie &amp; The Blowfish</td>\n      <td>11</td>\n      <td>2019</td>\n    </tr>\n    <tr>\n      <th>40</th>\n      <td>I Got 5 on It</td>\n      <td>Luniz featuring Michael Marshall</td>\n      <td>4</td>\n      <td>2019</td>\n    </tr>\n    <tr>\n      <th>41</th>\n      <td>Runaway</td>\n      <td>Janet Jackson</td>\n      <td>14</td>\n      <td>2019</td>\n    </tr>\n    <tr>\n      <th>42</th>\n      <td>As I Lay Me Down</td>\n      <td>Sophie B. Hawkins</td>\n      <td>9</td>\n      <td>2019</td>\n    </tr>\n    <tr>\n      <th>43</th>\n      <td>Fantasy</td>\n      <td>Mariah Carey</td>\n      <td>16</td>\n      <td>2019</td>\n    </tr>\n    <tr>\n      <th>44</th>\n      <td>Brokenhearted</td>\n      <td>Brandy featuring Wanya Morris</td>\n      <td>2</td>\n      <td>2019</td>\n    </tr>\n    <tr>\n      <th>45</th>\n      <td>Tell Me</td>\n      <td>Groove Theory</td>\n      <td>7</td>\n      <td>2019</td>\n    </tr>\n    <tr>\n      <th>46</th>\n      <td>Back For Good</td>\n      <td>Take That</td>\n      <td>5</td>\n      <td>2019</td>\n    </tr>\n    <tr>\n      <th>47</th>\n      <td>Carnival</td>\n      <td>Natalie Merchant</td>\n      <td>1</td>\n      <td>2019</td>\n    </tr>\n    <tr>\n      <th>48</th>\n      <td>Roll To Me</td>\n      <td>Del Amitri</td>\n      <td>1</td>\n      <td>2019</td>\n    </tr>\n    <tr>\n      <th>49</th>\n      <td>Who Can I Run To</td>\n      <td>Xscape</td>\n      <td>2</td>\n      <td>2019</td>\n    </tr>\n    <tr>\n      <th>50</th>\n      <td>You Remind Me of Something</td>\n      <td>R. Kelly</td>\n      <td>5</td>\n      <td>2019</td>\n    </tr>\n    <tr>\n      <th>51</th>\n      <td>Exhale (Shoop Shoop)</td>\n      <td>Whitney Houston</td>\n      <td>15</td>\n      <td>2019</td>\n    </tr>\n    <tr>\n      <th>52</th>\n      <td>Hey Lover</td>\n      <td>LL Cool J featuring Boyz II Men</td>\n      <td>14</td>\n      <td>2019</td>\n    </tr>\n    <tr>\n      <th>53</th>\n      <td>Diggin' on You</td>\n      <td>TLC</td>\n      <td>9</td>\n      <td>2019</td>\n    </tr>\n    <tr>\n      <th>54</th>\n      <td>One Sweet Day</td>\n      <td>Mariah Carey and Boyz II Men</td>\n      <td>19</td>\n      <td>2019</td>\n    </tr>\n    <tr>\n      <th>55</th>\n      <td>You'll See</td>\n      <td>Madonna</td>\n      <td>5</td>\n      <td>2019</td>\n    </tr>\n    <tr>\n      <th>56</th>\n      <td>I Got Id</td>\n      <td>Pearl Jam featuring Neil Young</td>\n      <td>1</td>\n      <td>2019</td>\n    </tr>\n    <tr>\n      <th>57</th>\n      <td>Before You Walk Out of My Life</td>\n      <td>Monica</td>\n      <td>5</td>\n      <td>2019</td>\n    </tr>\n  </tbody>\n</table>\n</div>",
      "text/plain": "                                                Title  \\\n0                                               Creep   \n1                                 Before I Let You Go   \n2                                    I'm the Only One   \n3                                        Tootsee Roll   \n4                                          Take a Bow   \n5                                            Sukiyaki   \n6                                        You Gotta Be   \n7                                                Baby   \n8                                          Candy Rain   \n9                                        Hold My Hand   \n10                                     If You Love Me   \n11                                      Strong Enough   \n12                                          Big Poppa   \n13                                  Red Light Special   \n14                                           Run Away   \n15                               This Is How We Do It   \n16                                             I Know   \n17                                      Freak like Me   \n18                           Keep Their Heads Ringin'   \n19                                          Dear Mama   \n20                                          I Believe   \n21                                     Water Runs Dry   \n22                Have You Ever Really Loved a Woman?   \n23  I'll Be There for You\"/\"You're All I Need to G...   \n24                         Total Eclipse of the Heart   \n25      Don't Take It Personal (Just One of Dem Days)   \n26                                        Let Her Cry   \n27                                   Scream/Childhood   \n28                                    One More Chance   \n29                                         Waterfalls   \n30                           I Can Love You Like That   \n31                                         Run-Around   \n32                   Boombastic\" / \"In the Summertime   \n33                                   Kiss From a Rose   \n34                                 Colors Of The Wind   \n35                                    Someone To Love   \n36                                          He's Mine   \n37                                 Gangsta's Paradise   \n38                                  You Are Not Alone   \n39                             Only Wanna Be With You   \n40                                      I Got 5 on It   \n41                                            Runaway   \n42                                   As I Lay Me Down   \n43                                            Fantasy   \n44                                      Brokenhearted   \n45                                            Tell Me   \n46                                      Back For Good   \n47                                           Carnival   \n48                                         Roll To Me   \n49                                   Who Can I Run To   \n50                         You Remind Me of Something   \n51                               Exhale (Shoop Shoop)   \n52                                          Hey Lover   \n53                                     Diggin' on You   \n54                                      One Sweet Day   \n55                                         You'll See   \n56                                           I Got Id   \n57                     Before You Walk Out of My Life   \n\n                                               Artist  \\\n0                                                 TLC   \n1                                         Blackstreet   \n2                                   Melissa Etheridge   \n3                                             69 Boyz   \n4                                             Madonna   \n5                                              4 P.M.   \n6                                             Des'ree   \n7                                              Brandy   \n8                                       Soul for Real   \n9                               Hootie & The Blowfish   \n10                                         Brownstone   \n11                                        Sheryl Crow   \n12                                The Notorious B.I.G   \n13                                                TLC   \n14                                         Real McCoy   \n15                                     Montell Jordan   \n16                                      Dionne Farris   \n17                                       Adina Howard   \n18                                            Dr. Dre   \n19                                               2Pac   \n20                             Blessid Union of Souls   \n21                                        Boyz II Men   \n22                                        Bryan Adams   \n23                 Method Man featuring Mary J. Blige   \n24                                       Nicki French   \n25                                             Monica   \n26                              Hootie & The Blowfish   \n27                  Michael Jackson and Janet Jackson   \n28  The Notorious B.I.G. featuring Faith Evans and...   \n29                                                TLC   \n30                                          All-4-One   \n31                                     Blues Traveler   \n32                                             Shaggy   \n33                                               Seal   \n34                                   Vanessa Williams   \n35                          Jon B. featuring Babyface   \n36                                          MoKenStef   \n37                              Coolio featuring L.V.   \n38                                    Michael Jackson   \n39                              Hootie & The Blowfish   \n40                   Luniz featuring Michael Marshall   \n41                                      Janet Jackson   \n42                                  Sophie B. Hawkins   \n43                                       Mariah Carey   \n44                      Brandy featuring Wanya Morris   \n45                                      Groove Theory   \n46                                          Take That   \n47                                   Natalie Merchant   \n48                                         Del Amitri   \n49                                             Xscape   \n50                                           R. Kelly   \n51                                    Whitney Houston   \n52                    LL Cool J featuring Boyz II Men   \n53                                                TLC   \n54                       Mariah Carey and Boyz II Men   \n55                                            Madonna   \n56                     Pearl Jam featuring Neil Young   \n57                                             Monica   \n\n    Number of weeks in top ten  Year  \n0                           20  2019  \n1                            8  2019  \n2                            5  2019  \n3                            3  2019  \n4                           15  2019  \n5                            6  2019  \n6                           10  2019  \n7                            9  2019  \n8                           12  2019  \n9                            3  2019  \n10                           5  2019  \n11                          11  2019  \n12                           7  2019  \n13                          12  2019  \n14                           8  2019  \n15                          14  2019  \n16                          10  2019  \n17                          12  2019  \n18                           1  2019  \n19                           4  2019  \n20                           8  2019  \n21                          16  2019  \n22                          12  2019  \n23                           8  2019  \n24                          11  2019  \n25                          14  2019  \n26                           3  2019  \n27                           6  2019  \n28                          10  2019  \n29                          18  2019  \n30                          15  2019  \n31                           9  2019  \n32                          12  2019  \n33                          17  2019  \n34                           7  2019  \n35                           1  2019  \n36                           4  2019  \n37                          22  2019  \n38                          10  2019  \n39                          11  2019  \n40                           4  2019  \n41                          14  2019  \n42                           9  2019  \n43                          16  2019  \n44                           2  2019  \n45                           7  2019  \n46                           5  2019  \n47                           1  2019  \n48                           1  2019  \n49                           2  2019  \n50                           5  2019  \n51                          15  2019  \n52                          14  2019  \n53                           9  2019  \n54                          19  2019  \n55                           5  2019  \n56                           1  2019  \n57                           5  2019  "
     },
     "execution_count": 11,
     "metadata": {},
     "output_type": "execute_result"
    }
   ],
   "source": [
    "songdata"
   ]
  },
  {
   "cell_type": "code",
   "execution_count": 13,
   "metadata": {},
   "outputs": [],
   "source": [
    "songdata.to_csv(path_or_buf='data/' + year + 'top10songs.csv',index=False) # Export our sample data table."
   ]
  },
  {
   "cell_type": "code",
   "execution_count": null,
   "metadata": {},
   "outputs": [],
   "source": []
  }
 ]
}