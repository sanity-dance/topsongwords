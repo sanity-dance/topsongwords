{
 "nbformat": 4,
 "nbformat_minor": 2,
 "metadata": {
  "language_info": {
   "name": "python",
   "codemirror_mode": {
    "name": "ipython",
    "version": 3
   },
   "version": "3.7.3"
  },
  "orig_nbformat": 2,
  "file_extension": ".py",
  "mimetype": "text/x-python",
  "name": "python",
  "npconvert_exporter": "python",
  "pygments_lexer": "ipython3",
  "version": 3
 },
 "cells": [
  {
   "cell_type": "code",
   "execution_count": 4,
   "metadata": {},
   "outputs": [],
   "source": [
    "from bs4 import BeautifulSoup\n",
    "import requests\n",
    "import pandas as pd\n",
    "import numpy as np\n",
    "import datetime\n",
    "now = datetime.datetime.now()"
   ]
  },
  {
   "cell_type": "code",
   "execution_count": 174,
   "metadata": {},
   "outputs": [
    {
     "name": "stdout",
     "output_type": "stream",
     "text": "<!DOCTYPE html>\n<html class=\"client-nojs\" dir=\"ltr\" lang=\"en\">\n <head>\n  <meta charset=\"utf-8\"/>\n  <title>\n   List of Billboard Hot 100 top-ten singles in 2010 - Wikipedia\n  </title>\n  <script>\n   document.documentElement.className=\"client-js\";RLCONF={\"wgBreakFrames\":!1,\"wgSeparatorTransformTable\":[\"\",\"\"],\"wgDigitTransformTable\":[\"\",\"\"],\"wgDefaultDateFormat\":\"dmy\",\"wgMonthNames\":[\"\",\"January\",\"February\",\"March\",\"April\",\"May\",\"June\",\"July\",\"August\",\"September\",\"October\",\"November\",\"December\"],\"wgMonthNamesShort\":[\"\",\"Jan\",\"Feb\",\"Mar\",\"Apr\",\"May\",\"Jun\",\"Jul\",\"Aug\",\"Sep\",\"Oct\",\"Nov\",\"Dec\"],\"wgRequestId\":\"XgWZHQpAAEYAAIfWb9YAAACJ\",\"wgCSPNonce\":!1,\"wgCanonicalNamespace\":\"\",\"wgCanonicalSpecialPageName\":!1,\"wgNamespaceNumber\":0,\"wgPageName\":\"List_of_Billboard_Hot_100_top-ten_singles_in_2010\",\"wgTitle\":\"List of Billboard Hot 100 top-ten singles in 2010\",\"wgCurRevisionId\":899254653,\"wgRevisionId\":899254653,\"wgArticleId\":25552100,\"wgIsArticle\":!0,\"wgIsRedirect\":!1,\"wgAction\":\"view\",\"wgUserName\":\n"
    }
   ],
   "source": [
    "headers = {'User-Agent': 'Mozilla/5.0 (Windows NT 6.1) AppleWebKit/537.36 (KHTML, like Gecko) Chrome/41.0.2228.0 Safari/537.3'}\n",
    "year = 2010 # Year we're currently testing.\n",
    "html = requests.get('https://en.wikipedia.org/wiki/List_of_Billboard_Hot_100_top-ten_singles_in_' + str(year),cookies={ 'sessionid': '123..'},headers=headers).text\n",
    "soup = BeautifulSoup(html, 'lxml')\n",
    "print(soup.prettify()[0:1000])"
   ]
  },
  {
   "cell_type": "code",
   "execution_count": 175,
   "metadata": {},
   "outputs": [
    {
     "data": {
      "text/plain": "bs4.element.Tag"
     },
     "execution_count": 175,
     "metadata": {},
     "output_type": "execute_result"
    }
   ],
   "source": [
    "my_table = soup.find('table',{'class':'wikitable sortable'})\n",
    "type(my_table)"
   ]
  },
  {
   "cell_type": "code",
   "execution_count": 176,
   "metadata": {},
   "outputs": [],
   "source": [
    "swiftcount = 0 # Keeps track of where repeat information from cells with rowspans greater than 1 should be inserted.\n",
    "drakecontingency = 0 # Used to keep track of how many times repeat information should be inserted.\n",
    "swiftcount2 = 0 # Used in the rare case that two rowspan situations overlap.\n",
    "drakecontingency2 = 0\n",
    "\n",
    "# The following code mines the first table found on the Wikipedia page and extracts all table elements other than the annotations column."
   ]
  },
  {
   "cell_type": "code",
   "execution_count": 177,
   "metadata": {},
   "outputs": [
    {
     "name": "stdout",
     "output_type": "stream",
     "text": "November 28 appended!\nJanuary 23 appended!\nJanuary 23 appended!\nJanuary 30 appended!\nFebruary 6 appended!\nFebruary 27 appended!\nMarch 27 appended!\nMay 1 appended!\nMay 22 appended!\nMay 29 appended!\nJune 19 appended!\nJuly 10 appended!\nAugust 14 appended!\nSeptember 4 appended!\nSeptember 4 appended!\nOctober 2 appended!\nTaylor Swift appended!\nOctober 30 appended!\nNovember 20 appended!\n"
    }
   ],
   "source": [
    "Titles = []\n",
    "try:\n",
    "    tds = my_table.findAll('td')\n",
    "except AttributeError:\n",
    "    my_table = soup.find('table',{'class':'wikitable'})\n",
    "    tds = my_table.findAll('td')\n",
    "\n",
    "for td in tds:\n",
    "        try:\n",
    "            if td.attrs['rowspan']:\n",
    "                if drakecontingency == 0:\n",
    "                    taylorswift = td.get_text()[:-1]\n",
    "                    swiftcount = 8\n",
    "                    drakecontingency = int(td.attrs['rowspan']) - 1\n",
    "                else:\n",
    "                    taylorswift2 = td.get_text()[:-1]\n",
    "                    swiftcount2 = 7\n",
    "                    drakecontingency2 = int(td.attrs['rowspan']) - 1\n",
    "        except KeyError:\n",
    "            pass\n",
    "        if td.get_text()[0] != '[' and td.get_text()[0] and td.get_text()[0].strip(): # Drop annotations column.\n",
    "            if swiftcount > 0:\n",
    "                swiftcount = swiftcount-1\n",
    "            if swiftcount == 1:\n",
    "                drakecontingency = drakecontingency-1\n",
    "                print(taylorswift + ' appended!')\n",
    "                Titles.append(taylorswift)\n",
    "                if drakecontingency == 0:\n",
    "                    taylorswift = ''\n",
    "                    swiftcount = 0\n",
    "                else:\n",
    "                    if drakecontingency2 == 0: # If there's an extra element being inserted before the next time this runs, insert it one sooner next time.\n",
    "                        swiftcount = 6\n",
    "                    else:\n",
    "                        swiftcount = 5\n",
    "            if swiftcount2 > 0:\n",
    "                swiftcount2 = swiftcount2-1\n",
    "            if swiftcount2 == 1:\n",
    "                drakecontingency2 = drakecontingency2-1\n",
    "                print(taylorswift2 + ' appended!')\n",
    "                Titles.append(taylorswift2)\n",
    "                if drakecontingency2 == 0:\n",
    "                    taylorswift2 = ''\n",
    "                    swiftcount2 = 0\n",
    "                else:\n",
    "                    if drakecontingency == 0:\n",
    "                        swiftcount2 = 6\n",
    "                    else:\n",
    "                        swiftcount2 = 5\n",
    "            Titles.append(td.get_text()[:-1]) # Drop the newline character present at the end of every single entry."
   ]
  },
  {
   "cell_type": "code",
   "execution_count": 178,
   "metadata": {},
   "outputs": [
    {
     "name": "stdout",
     "output_type": "stream",
     "text": "['November 21', '\"Replay\"', 'Iyaz', '2', 'January 9', '14', 'November 28', '\"Need You Now\" (#2)', 'Lady Antebellum', '2', 'March 20', '16', 'November 28', '\"Tik Tok\" (#1)', 'Kesha', '1', 'January 2', '20', 'December 5', '\"Sexy Bitch\"', 'David Guetta featuring Akon', '5', 'February 13', '13', 'January 9', '\"Do You Remember\"', 'Jay Sean featuring Sean Paul and Lil Jon', '10', 'January 9', '1', 'January 23', '\"Blah Blah Blah\" ◁', 'Kesha featuring 3OH!3', '7', 'January 23', '1', 'January 23', '\"BedRock\"', 'Young Money featuring Lloyd', '2', 'March 13', '13', 'January 23', '\"Hard\"', 'Rihanna featuring Young Jeezy', '8', 'January 30', '4', 'January 30', '\"Hey, Soul Sister\" (#3) [A]', 'Train', '3', 'April 10', '19', 'January 30', '\"How Low\"', 'Ludacris', '6', 'February 13', '7', 'February 6', '\"Baby\" ◁', 'Justin Bieber featuring Ludacris', '5', 'February 6', '5', 'February 6', '\"Today Was a Fairytale\" ◁', 'Taylor Swift', '2', 'February 6', '1', 'February 13', '\"Imma Be\"', 'The Black Eyed Peas', '1', 'March 6', '11', 'February 27', '\"We Are the World 25 for Haiti\" ◁', 'Artists for Haiti', '2', 'February 27', '2', 'February 27', '\"In My Head\" [B]', 'Jason Derulo', '5', 'April 24', '10', 'March 6', '\"Say Aah\"', 'Trey Songz featuring Fabolous', '9', 'March 13', '2', 'March 13', '\"Rude Boy\"', 'Rihanna', '1', 'March 27', '13', 'March 20', '\"Break Your Heart\" (#10)', 'Taio Cruz featuring Ludacris', '1', 'March 20', '16', 'March 27', '\"Nothin\\' on You\"', 'B.o.B featuring Bruno Mars', '1', 'May 1', '13', 'March 27', '\"Telephone\"', 'Lady Gaga featuring Beyoncé', '3', 'April 3', '7', 'April 24', '\"OMG\" (#5)', 'Usher featuring will.i.am', '1', 'May 15', '17', 'May 1', '\"Whataya Want from Me\"', 'Adam Lambert', '10', 'May 1', '1', 'May 1', '\"Your Love Is My Drug\"', 'Kesha', '4', 'June 12', '11', 'May 8', '\"Airplanes\" (#6)', 'B.o.B featuring Hayley Williams', '2', 'June 5', '17', 'May 15', '\"Young Forever\"', 'Jay-Z featuring Mr Hudson', '10', 'May 15', '1', 'May 22', '\"Not Afraid\" ◁ [C][D]', 'Eminem', '1', 'May 22', '7', 'May 22', '\"My First Kiss\" ◁', '3OH!3 featuring Kesha', '9', 'May 22', '1', 'May 29', '\"California Gurls\" (#4) ◁', 'Katy Perry featuring Snoop Dogg', '1', 'June 19', '17', 'May 29', '\"Alejandro\"', 'Lady Gaga', '5', 'June 26', '7', 'June 5', '\"Can\\'t Be Tamed\" ◁', 'Miley Cyrus', '8', 'June 5', '1', 'June 12', '\"Bulletproof\"', 'La Roux', '8', 'June 12', '2', 'June 19', '\"Billionaire\"', 'Travie McCoy featuring Bruno Mars', '4', 'June 26', '9', 'June 19', '\"Rock That Body\"', 'The Black Eyed Peas', '9', 'June 19', '2', 'June 26', '\"Find Your Love\"', 'Drake', '5', 'July 3', '7', 'July 3', '\"Cooler Than Me\"', 'Mike Posner', '6', 'July 17', '11', 'July 10', '\"Love the Way You Lie\" (#7) ◁', 'Eminem featuring Rihanna', '1', 'July 31', '16', 'July 10', '\"Ridin\\' Solo\" [E]', 'Jason Derulo', '9', 'July 17', '7', 'July 17', '\"Dynamite\" (#9)', 'Taio Cruz', '2', 'August 21', '18', 'July 24', '\"I Like It\"', 'Enrique Iglesias featuring Pitbull', '4', 'August 28', '13', 'August 14', '\"DJ Got Us Fallin\\' in Love\"', 'Usher featuring Pitbull', '4', 'October 9', '15', 'August 14', '\"Teenage Dream\"', 'Katy Perry', '1', 'September 18', '14', 'August 21', '\"Mine\" ◁ [F]', 'Taylor Swift', '3', 'August 21', '5', 'September 4', '\"Right Above It\" ◁', 'Lil Wayne featuring Drake', '6', 'September 4', '1', 'September 4', '\"Just the Way You Are\"', 'Bruno Mars', '1', 'October 2', '22', 'September 4', '\"Magic\"', 'B.o.B featuring Rivers Cuomo', '10', 'September 4', '1', 'September 11', '\"Take It Off\"', 'Kesha', '8', 'September 18', '3', 'September 18', '\"Just a Dream\"', 'Nelly', '3', 'October 23', '17', 'September 25', '\"Club Can\\'t Handle Me\"', 'Flo Rida featuring David Guetta', '9', 'September 25', '7', 'October 2', '\"Like a G6\"', 'Far East Movement featuring The Cataracs and Dev', '1', 'October 30', '11', 'October 2', '\"Only Girl (In the World)\"', 'Rihanna', '1', 'December 4', '15', 'October 23', '\"Speak Now\" ◁', 'Taylor Swift', '8', 'October 23', '1', 'October 30', '\"Back to December\" ◁', 'Taylor Swift', '6', 'October 30', '1', 'October 30', '\"Bottoms Up\" [G]', 'Trey Songz featuring Nicki Minaj', '6', 'November 6', '9', 'November 6', '\"Raise Your Glass\"', 'Pink', '1', 'December 11', '14', 'November 13', '\"We R Who We R\" ◁', 'Kesha', '1', 'November 13', '14', 'November 20', '\"Firework\"', 'Katy Perry', '1', 'December 18', '18', 'November 20', '\"What\\'s My Name?\"', 'Rihanna featuring Drake', '1', 'November 20', '14', 'November 27', '\"Teenage Dream\" ◁', 'Glee Cast', '8', 'November 27', '1', 'December 11', '\"The Time (Dirty Bit)\"', 'The Black Eyed Peas', '4', 'December 18', '10']\n"
    }
   ],
   "source": [
    "print(Titles)"
   ]
  },
  {
   "cell_type": "code",
   "execution_count": 179,
   "metadata": {},
   "outputs": [],
   "source": [
    "nptitles = np.asarray(Titles).copy()"
   ]
  },
  {
   "cell_type": "code",
   "execution_count": 180,
   "metadata": {},
   "outputs": [
    {
     "data": {
      "text/plain": "354"
     },
     "execution_count": 180,
     "metadata": {},
     "output_type": "execute_result"
    }
   ],
   "source": [
    "len(nptitles)"
   ]
  },
  {
   "cell_type": "code",
   "execution_count": 181,
   "metadata": {},
   "outputs": [],
   "source": [
    "numsongs = int(np.prod(nptitles.shape)/6) # Find out how many songs are in this list.\n",
    "reshaped = nptitles.reshape(numsongs,6) # Reshape the array based on the number of songs and the number of columns."
   ]
  },
  {
   "cell_type": "code",
   "execution_count": 182,
   "metadata": {},
   "outputs": [],
   "source": [
    "songdata = pd.DataFrame(reshaped)\n",
    "songdata.columns = ['Top ten entry date','Title','Artist','Peak','Peak date','Number of weeks in top ten']\n",
    "songdata['Year'] = str(year)\n",
    "songdata['Title'] = [i[1:i.rfind('\\\"')] for i in songdata['Title']] # Drops quotation marks and annotations in Title.\n",
    "for j in songdata['Top ten entry date']:\n",
    "    if '[' in j:\n",
    "        j = j[:j.rfind('[')-1]\n",
    "\n",
    "if year == now.year:\n",
    "    cleanweeks = []\n",
    "    for j in songdata['Number of weeks in top ten']: # This code searches the number of weeks in top ten column for asterisks and eliminates them. This is only a \n",
    "        try:                                         # problem in the current year.\n",
    "            cleanweeks.append(int(j[:j.rindex('*')]))\n",
    "        except ValueError:\n",
    "            cleanweeks.append(int(j))\n",
    "\n",
    "    songdata['Number of weeks in top ten'] = cleanweeks"
   ]
  },
  {
   "cell_type": "code",
   "execution_count": 183,
   "metadata": {},
   "outputs": [
    {
     "data": {
      "text/html": "<div>\n<style scoped>\n    .dataframe tbody tr th:only-of-type {\n        vertical-align: middle;\n    }\n\n    .dataframe tbody tr th {\n        vertical-align: top;\n    }\n\n    .dataframe thead th {\n        text-align: right;\n    }\n</style>\n<table border=\"1\" class=\"dataframe\">\n  <thead>\n    <tr style=\"text-align: right;\">\n      <th></th>\n      <th>Top ten entry date</th>\n      <th>Title</th>\n      <th>Artist</th>\n      <th>Peak</th>\n      <th>Peak date</th>\n      <th>Number of weeks in top ten</th>\n      <th>Year</th>\n    </tr>\n  </thead>\n  <tbody>\n    <tr>\n      <th>0</th>\n      <td>November 21</td>\n      <td>Replay</td>\n      <td>Iyaz</td>\n      <td>2</td>\n      <td>January 9</td>\n      <td>14</td>\n      <td>2010</td>\n    </tr>\n    <tr>\n      <th>1</th>\n      <td>November 28</td>\n      <td>Need You Now</td>\n      <td>Lady Antebellum</td>\n      <td>2</td>\n      <td>March 20</td>\n      <td>16</td>\n      <td>2010</td>\n    </tr>\n    <tr>\n      <th>2</th>\n      <td>November 28</td>\n      <td>Tik Tok</td>\n      <td>Kesha</td>\n      <td>1</td>\n      <td>January 2</td>\n      <td>20</td>\n      <td>2010</td>\n    </tr>\n    <tr>\n      <th>3</th>\n      <td>December 5</td>\n      <td>Sexy Bitch</td>\n      <td>David Guetta featuring Akon</td>\n      <td>5</td>\n      <td>February 13</td>\n      <td>13</td>\n      <td>2010</td>\n    </tr>\n    <tr>\n      <th>4</th>\n      <td>January 9</td>\n      <td>Do You Remember</td>\n      <td>Jay Sean featuring Sean Paul and Lil Jon</td>\n      <td>10</td>\n      <td>January 9</td>\n      <td>1</td>\n      <td>2010</td>\n    </tr>\n    <tr>\n      <th>5</th>\n      <td>January 23</td>\n      <td>Blah Blah Blah</td>\n      <td>Kesha featuring 3OH!3</td>\n      <td>7</td>\n      <td>January 23</td>\n      <td>1</td>\n      <td>2010</td>\n    </tr>\n    <tr>\n      <th>6</th>\n      <td>January 23</td>\n      <td>BedRock</td>\n      <td>Young Money featuring Lloyd</td>\n      <td>2</td>\n      <td>March 13</td>\n      <td>13</td>\n      <td>2010</td>\n    </tr>\n    <tr>\n      <th>7</th>\n      <td>January 23</td>\n      <td>Hard</td>\n      <td>Rihanna featuring Young Jeezy</td>\n      <td>8</td>\n      <td>January 30</td>\n      <td>4</td>\n      <td>2010</td>\n    </tr>\n    <tr>\n      <th>8</th>\n      <td>January 30</td>\n      <td>Hey, Soul Sister</td>\n      <td>Train</td>\n      <td>3</td>\n      <td>April 10</td>\n      <td>19</td>\n      <td>2010</td>\n    </tr>\n    <tr>\n      <th>9</th>\n      <td>January 30</td>\n      <td>How Low</td>\n      <td>Ludacris</td>\n      <td>6</td>\n      <td>February 13</td>\n      <td>7</td>\n      <td>2010</td>\n    </tr>\n    <tr>\n      <th>10</th>\n      <td>February 6</td>\n      <td>Baby</td>\n      <td>Justin Bieber featuring Ludacris</td>\n      <td>5</td>\n      <td>February 6</td>\n      <td>5</td>\n      <td>2010</td>\n    </tr>\n    <tr>\n      <th>11</th>\n      <td>February 6</td>\n      <td>Today Was a Fairytale</td>\n      <td>Taylor Swift</td>\n      <td>2</td>\n      <td>February 6</td>\n      <td>1</td>\n      <td>2010</td>\n    </tr>\n    <tr>\n      <th>12</th>\n      <td>February 13</td>\n      <td>Imma Be</td>\n      <td>The Black Eyed Peas</td>\n      <td>1</td>\n      <td>March 6</td>\n      <td>11</td>\n      <td>2010</td>\n    </tr>\n    <tr>\n      <th>13</th>\n      <td>February 27</td>\n      <td>We Are the World 25 for Haiti</td>\n      <td>Artists for Haiti</td>\n      <td>2</td>\n      <td>February 27</td>\n      <td>2</td>\n      <td>2010</td>\n    </tr>\n    <tr>\n      <th>14</th>\n      <td>February 27</td>\n      <td>In My Head</td>\n      <td>Jason Derulo</td>\n      <td>5</td>\n      <td>April 24</td>\n      <td>10</td>\n      <td>2010</td>\n    </tr>\n    <tr>\n      <th>15</th>\n      <td>March 6</td>\n      <td>Say Aah</td>\n      <td>Trey Songz featuring Fabolous</td>\n      <td>9</td>\n      <td>March 13</td>\n      <td>2</td>\n      <td>2010</td>\n    </tr>\n    <tr>\n      <th>16</th>\n      <td>March 13</td>\n      <td>Rude Boy</td>\n      <td>Rihanna</td>\n      <td>1</td>\n      <td>March 27</td>\n      <td>13</td>\n      <td>2010</td>\n    </tr>\n    <tr>\n      <th>17</th>\n      <td>March 20</td>\n      <td>Break Your Heart</td>\n      <td>Taio Cruz featuring Ludacris</td>\n      <td>1</td>\n      <td>March 20</td>\n      <td>16</td>\n      <td>2010</td>\n    </tr>\n    <tr>\n      <th>18</th>\n      <td>March 27</td>\n      <td>Nothin' on You</td>\n      <td>B.o.B featuring Bruno Mars</td>\n      <td>1</td>\n      <td>May 1</td>\n      <td>13</td>\n      <td>2010</td>\n    </tr>\n    <tr>\n      <th>19</th>\n      <td>March 27</td>\n      <td>Telephone</td>\n      <td>Lady Gaga featuring Beyoncé</td>\n      <td>3</td>\n      <td>April 3</td>\n      <td>7</td>\n      <td>2010</td>\n    </tr>\n    <tr>\n      <th>20</th>\n      <td>April 24</td>\n      <td>OMG</td>\n      <td>Usher featuring will.i.am</td>\n      <td>1</td>\n      <td>May 15</td>\n      <td>17</td>\n      <td>2010</td>\n    </tr>\n    <tr>\n      <th>21</th>\n      <td>May 1</td>\n      <td>Whataya Want from Me</td>\n      <td>Adam Lambert</td>\n      <td>10</td>\n      <td>May 1</td>\n      <td>1</td>\n      <td>2010</td>\n    </tr>\n    <tr>\n      <th>22</th>\n      <td>May 1</td>\n      <td>Your Love Is My Drug</td>\n      <td>Kesha</td>\n      <td>4</td>\n      <td>June 12</td>\n      <td>11</td>\n      <td>2010</td>\n    </tr>\n    <tr>\n      <th>23</th>\n      <td>May 8</td>\n      <td>Airplanes</td>\n      <td>B.o.B featuring Hayley Williams</td>\n      <td>2</td>\n      <td>June 5</td>\n      <td>17</td>\n      <td>2010</td>\n    </tr>\n    <tr>\n      <th>24</th>\n      <td>May 15</td>\n      <td>Young Forever</td>\n      <td>Jay-Z featuring Mr Hudson</td>\n      <td>10</td>\n      <td>May 15</td>\n      <td>1</td>\n      <td>2010</td>\n    </tr>\n    <tr>\n      <th>25</th>\n      <td>May 22</td>\n      <td>Not Afraid</td>\n      <td>Eminem</td>\n      <td>1</td>\n      <td>May 22</td>\n      <td>7</td>\n      <td>2010</td>\n    </tr>\n    <tr>\n      <th>26</th>\n      <td>May 22</td>\n      <td>My First Kiss</td>\n      <td>3OH!3 featuring Kesha</td>\n      <td>9</td>\n      <td>May 22</td>\n      <td>1</td>\n      <td>2010</td>\n    </tr>\n    <tr>\n      <th>27</th>\n      <td>May 29</td>\n      <td>California Gurls</td>\n      <td>Katy Perry featuring Snoop Dogg</td>\n      <td>1</td>\n      <td>June 19</td>\n      <td>17</td>\n      <td>2010</td>\n    </tr>\n    <tr>\n      <th>28</th>\n      <td>May 29</td>\n      <td>Alejandro</td>\n      <td>Lady Gaga</td>\n      <td>5</td>\n      <td>June 26</td>\n      <td>7</td>\n      <td>2010</td>\n    </tr>\n    <tr>\n      <th>29</th>\n      <td>June 5</td>\n      <td>Can't Be Tamed</td>\n      <td>Miley Cyrus</td>\n      <td>8</td>\n      <td>June 5</td>\n      <td>1</td>\n      <td>2010</td>\n    </tr>\n    <tr>\n      <th>30</th>\n      <td>June 12</td>\n      <td>Bulletproof</td>\n      <td>La Roux</td>\n      <td>8</td>\n      <td>June 12</td>\n      <td>2</td>\n      <td>2010</td>\n    </tr>\n    <tr>\n      <th>31</th>\n      <td>June 19</td>\n      <td>Billionaire</td>\n      <td>Travie McCoy featuring Bruno Mars</td>\n      <td>4</td>\n      <td>June 26</td>\n      <td>9</td>\n      <td>2010</td>\n    </tr>\n    <tr>\n      <th>32</th>\n      <td>June 19</td>\n      <td>Rock That Body</td>\n      <td>The Black Eyed Peas</td>\n      <td>9</td>\n      <td>June 19</td>\n      <td>2</td>\n      <td>2010</td>\n    </tr>\n    <tr>\n      <th>33</th>\n      <td>June 26</td>\n      <td>Find Your Love</td>\n      <td>Drake</td>\n      <td>5</td>\n      <td>July 3</td>\n      <td>7</td>\n      <td>2010</td>\n    </tr>\n    <tr>\n      <th>34</th>\n      <td>July 3</td>\n      <td>Cooler Than Me</td>\n      <td>Mike Posner</td>\n      <td>6</td>\n      <td>July 17</td>\n      <td>11</td>\n      <td>2010</td>\n    </tr>\n    <tr>\n      <th>35</th>\n      <td>July 10</td>\n      <td>Love the Way You Lie</td>\n      <td>Eminem featuring Rihanna</td>\n      <td>1</td>\n      <td>July 31</td>\n      <td>16</td>\n      <td>2010</td>\n    </tr>\n    <tr>\n      <th>36</th>\n      <td>July 10</td>\n      <td>Ridin' Solo</td>\n      <td>Jason Derulo</td>\n      <td>9</td>\n      <td>July 17</td>\n      <td>7</td>\n      <td>2010</td>\n    </tr>\n    <tr>\n      <th>37</th>\n      <td>July 17</td>\n      <td>Dynamite</td>\n      <td>Taio Cruz</td>\n      <td>2</td>\n      <td>August 21</td>\n      <td>18</td>\n      <td>2010</td>\n    </tr>\n    <tr>\n      <th>38</th>\n      <td>July 24</td>\n      <td>I Like It</td>\n      <td>Enrique Iglesias featuring Pitbull</td>\n      <td>4</td>\n      <td>August 28</td>\n      <td>13</td>\n      <td>2010</td>\n    </tr>\n    <tr>\n      <th>39</th>\n      <td>August 14</td>\n      <td>DJ Got Us Fallin' in Love</td>\n      <td>Usher featuring Pitbull</td>\n      <td>4</td>\n      <td>October 9</td>\n      <td>15</td>\n      <td>2010</td>\n    </tr>\n    <tr>\n      <th>40</th>\n      <td>August 14</td>\n      <td>Teenage Dream</td>\n      <td>Katy Perry</td>\n      <td>1</td>\n      <td>September 18</td>\n      <td>14</td>\n      <td>2010</td>\n    </tr>\n    <tr>\n      <th>41</th>\n      <td>August 21</td>\n      <td>Mine</td>\n      <td>Taylor Swift</td>\n      <td>3</td>\n      <td>August 21</td>\n      <td>5</td>\n      <td>2010</td>\n    </tr>\n    <tr>\n      <th>42</th>\n      <td>September 4</td>\n      <td>Right Above It</td>\n      <td>Lil Wayne featuring Drake</td>\n      <td>6</td>\n      <td>September 4</td>\n      <td>1</td>\n      <td>2010</td>\n    </tr>\n    <tr>\n      <th>43</th>\n      <td>September 4</td>\n      <td>Just the Way You Are</td>\n      <td>Bruno Mars</td>\n      <td>1</td>\n      <td>October 2</td>\n      <td>22</td>\n      <td>2010</td>\n    </tr>\n    <tr>\n      <th>44</th>\n      <td>September 4</td>\n      <td>Magic</td>\n      <td>B.o.B featuring Rivers Cuomo</td>\n      <td>10</td>\n      <td>September 4</td>\n      <td>1</td>\n      <td>2010</td>\n    </tr>\n    <tr>\n      <th>45</th>\n      <td>September 11</td>\n      <td>Take It Off</td>\n      <td>Kesha</td>\n      <td>8</td>\n      <td>September 18</td>\n      <td>3</td>\n      <td>2010</td>\n    </tr>\n    <tr>\n      <th>46</th>\n      <td>September 18</td>\n      <td>Just a Dream</td>\n      <td>Nelly</td>\n      <td>3</td>\n      <td>October 23</td>\n      <td>17</td>\n      <td>2010</td>\n    </tr>\n    <tr>\n      <th>47</th>\n      <td>September 25</td>\n      <td>Club Can't Handle Me</td>\n      <td>Flo Rida featuring David Guetta</td>\n      <td>9</td>\n      <td>September 25</td>\n      <td>7</td>\n      <td>2010</td>\n    </tr>\n    <tr>\n      <th>48</th>\n      <td>October 2</td>\n      <td>Like a G6</td>\n      <td>Far East Movement featuring The Cataracs and Dev</td>\n      <td>1</td>\n      <td>October 30</td>\n      <td>11</td>\n      <td>2010</td>\n    </tr>\n    <tr>\n      <th>49</th>\n      <td>October 2</td>\n      <td>Only Girl (In the World)</td>\n      <td>Rihanna</td>\n      <td>1</td>\n      <td>December 4</td>\n      <td>15</td>\n      <td>2010</td>\n    </tr>\n    <tr>\n      <th>50</th>\n      <td>October 23</td>\n      <td>Speak Now</td>\n      <td>Taylor Swift</td>\n      <td>8</td>\n      <td>October 23</td>\n      <td>1</td>\n      <td>2010</td>\n    </tr>\n    <tr>\n      <th>51</th>\n      <td>October 30</td>\n      <td>Back to December</td>\n      <td>Taylor Swift</td>\n      <td>6</td>\n      <td>October 30</td>\n      <td>1</td>\n      <td>2010</td>\n    </tr>\n    <tr>\n      <th>52</th>\n      <td>October 30</td>\n      <td>Bottoms Up</td>\n      <td>Trey Songz featuring Nicki Minaj</td>\n      <td>6</td>\n      <td>November 6</td>\n      <td>9</td>\n      <td>2010</td>\n    </tr>\n    <tr>\n      <th>53</th>\n      <td>November 6</td>\n      <td>Raise Your Glass</td>\n      <td>Pink</td>\n      <td>1</td>\n      <td>December 11</td>\n      <td>14</td>\n      <td>2010</td>\n    </tr>\n    <tr>\n      <th>54</th>\n      <td>November 13</td>\n      <td>We R Who We R</td>\n      <td>Kesha</td>\n      <td>1</td>\n      <td>November 13</td>\n      <td>14</td>\n      <td>2010</td>\n    </tr>\n    <tr>\n      <th>55</th>\n      <td>November 20</td>\n      <td>Firework</td>\n      <td>Katy Perry</td>\n      <td>1</td>\n      <td>December 18</td>\n      <td>18</td>\n      <td>2010</td>\n    </tr>\n    <tr>\n      <th>56</th>\n      <td>November 20</td>\n      <td>What's My Name?</td>\n      <td>Rihanna featuring Drake</td>\n      <td>1</td>\n      <td>November 20</td>\n      <td>14</td>\n      <td>2010</td>\n    </tr>\n    <tr>\n      <th>57</th>\n      <td>November 27</td>\n      <td>Teenage Dream</td>\n      <td>Glee Cast</td>\n      <td>8</td>\n      <td>November 27</td>\n      <td>1</td>\n      <td>2010</td>\n    </tr>\n    <tr>\n      <th>58</th>\n      <td>December 11</td>\n      <td>The Time (Dirty Bit)</td>\n      <td>The Black Eyed Peas</td>\n      <td>4</td>\n      <td>December 18</td>\n      <td>10</td>\n      <td>2010</td>\n    </tr>\n  </tbody>\n</table>\n</div>",
      "text/plain": "   Top ten entry date                          Title  \\\n0         November 21                         Replay   \n1         November 28                   Need You Now   \n2         November 28                        Tik Tok   \n3          December 5                     Sexy Bitch   \n4           January 9                Do You Remember   \n5          January 23                 Blah Blah Blah   \n6          January 23                        BedRock   \n7          January 23                           Hard   \n8          January 30               Hey, Soul Sister   \n9          January 30                        How Low   \n10         February 6                           Baby   \n11         February 6          Today Was a Fairytale   \n12        February 13                        Imma Be   \n13        February 27  We Are the World 25 for Haiti   \n14        February 27                     In My Head   \n15            March 6                        Say Aah   \n16           March 13                       Rude Boy   \n17           March 20               Break Your Heart   \n18           March 27                 Nothin' on You   \n19           March 27                      Telephone   \n20           April 24                            OMG   \n21              May 1           Whataya Want from Me   \n22              May 1           Your Love Is My Drug   \n23              May 8                      Airplanes   \n24             May 15                  Young Forever   \n25             May 22                     Not Afraid   \n26             May 22                  My First Kiss   \n27             May 29               California Gurls   \n28             May 29                      Alejandro   \n29             June 5                 Can't Be Tamed   \n30            June 12                    Bulletproof   \n31            June 19                    Billionaire   \n32            June 19                 Rock That Body   \n33            June 26                 Find Your Love   \n34             July 3                 Cooler Than Me   \n35            July 10           Love the Way You Lie   \n36            July 10                    Ridin' Solo   \n37            July 17                       Dynamite   \n38            July 24                      I Like It   \n39          August 14      DJ Got Us Fallin' in Love   \n40          August 14                  Teenage Dream   \n41          August 21                           Mine   \n42        September 4                 Right Above It   \n43        September 4           Just the Way You Are   \n44        September 4                          Magic   \n45       September 11                    Take It Off   \n46       September 18                   Just a Dream   \n47       September 25           Club Can't Handle Me   \n48          October 2                      Like a G6   \n49          October 2       Only Girl (In the World)   \n50         October 23                      Speak Now   \n51         October 30               Back to December   \n52         October 30                     Bottoms Up   \n53         November 6               Raise Your Glass   \n54        November 13                  We R Who We R   \n55        November 20                       Firework   \n56        November 20                What's My Name?   \n57        November 27                  Teenage Dream   \n58        December 11           The Time (Dirty Bit)   \n\n                                              Artist Peak     Peak date  \\\n0                                               Iyaz    2     January 9   \n1                                    Lady Antebellum    2      March 20   \n2                                              Kesha    1     January 2   \n3                        David Guetta featuring Akon    5   February 13   \n4           Jay Sean featuring Sean Paul and Lil Jon   10     January 9   \n5                              Kesha featuring 3OH!3    7    January 23   \n6                        Young Money featuring Lloyd    2      March 13   \n7                      Rihanna featuring Young Jeezy    8    January 30   \n8                                              Train    3      April 10   \n9                                           Ludacris    6   February 13   \n10                  Justin Bieber featuring Ludacris    5    February 6   \n11                                      Taylor Swift    2    February 6   \n12                               The Black Eyed Peas    1       March 6   \n13                                 Artists for Haiti    2   February 27   \n14                                      Jason Derulo    5      April 24   \n15                     Trey Songz featuring Fabolous    9      March 13   \n16                                           Rihanna    1      March 27   \n17                      Taio Cruz featuring Ludacris    1      March 20   \n18                        B.o.B featuring Bruno Mars    1         May 1   \n19                       Lady Gaga featuring Beyoncé    3       April 3   \n20                         Usher featuring will.i.am    1        May 15   \n21                                      Adam Lambert   10         May 1   \n22                                             Kesha    4       June 12   \n23                   B.o.B featuring Hayley Williams    2        June 5   \n24                         Jay-Z featuring Mr Hudson   10        May 15   \n25                                            Eminem    1        May 22   \n26                             3OH!3 featuring Kesha    9        May 22   \n27                   Katy Perry featuring Snoop Dogg    1       June 19   \n28                                         Lady Gaga    5       June 26   \n29                                       Miley Cyrus    8        June 5   \n30                                           La Roux    8       June 12   \n31                 Travie McCoy featuring Bruno Mars    4       June 26   \n32                               The Black Eyed Peas    9       June 19   \n33                                             Drake    5        July 3   \n34                                       Mike Posner    6       July 17   \n35                          Eminem featuring Rihanna    1       July 31   \n36                                      Jason Derulo    9       July 17   \n37                                         Taio Cruz    2     August 21   \n38                Enrique Iglesias featuring Pitbull    4     August 28   \n39                           Usher featuring Pitbull    4     October 9   \n40                                        Katy Perry    1  September 18   \n41                                      Taylor Swift    3     August 21   \n42                         Lil Wayne featuring Drake    6   September 4   \n43                                        Bruno Mars    1     October 2   \n44                      B.o.B featuring Rivers Cuomo   10   September 4   \n45                                             Kesha    8  September 18   \n46                                             Nelly    3    October 23   \n47                   Flo Rida featuring David Guetta    9  September 25   \n48  Far East Movement featuring The Cataracs and Dev    1    October 30   \n49                                           Rihanna    1    December 4   \n50                                      Taylor Swift    8    October 23   \n51                                      Taylor Swift    6    October 30   \n52                  Trey Songz featuring Nicki Minaj    6    November 6   \n53                                              Pink    1   December 11   \n54                                             Kesha    1   November 13   \n55                                        Katy Perry    1   December 18   \n56                           Rihanna featuring Drake    1   November 20   \n57                                         Glee Cast    8   November 27   \n58                               The Black Eyed Peas    4   December 18   \n\n   Number of weeks in top ten  Year  \n0                          14  2010  \n1                          16  2010  \n2                          20  2010  \n3                          13  2010  \n4                           1  2010  \n5                           1  2010  \n6                          13  2010  \n7                           4  2010  \n8                          19  2010  \n9                           7  2010  \n10                          5  2010  \n11                          1  2010  \n12                         11  2010  \n13                          2  2010  \n14                         10  2010  \n15                          2  2010  \n16                         13  2010  \n17                         16  2010  \n18                         13  2010  \n19                          7  2010  \n20                         17  2010  \n21                          1  2010  \n22                         11  2010  \n23                         17  2010  \n24                          1  2010  \n25                          7  2010  \n26                          1  2010  \n27                         17  2010  \n28                          7  2010  \n29                          1  2010  \n30                          2  2010  \n31                          9  2010  \n32                          2  2010  \n33                          7  2010  \n34                         11  2010  \n35                         16  2010  \n36                          7  2010  \n37                         18  2010  \n38                         13  2010  \n39                         15  2010  \n40                         14  2010  \n41                          5  2010  \n42                          1  2010  \n43                         22  2010  \n44                          1  2010  \n45                          3  2010  \n46                         17  2010  \n47                          7  2010  \n48                         11  2010  \n49                         15  2010  \n50                          1  2010  \n51                          1  2010  \n52                          9  2010  \n53                         14  2010  \n54                         14  2010  \n55                         18  2010  \n56                         14  2010  \n57                          1  2010  \n58                         10  2010  "
     },
     "execution_count": 183,
     "metadata": {},
     "output_type": "execute_result"
    }
   ],
   "source": [
    "songdata"
   ]
  },
  {
   "cell_type": "code",
   "execution_count": 173,
   "metadata": {},
   "outputs": [],
   "source": [
    "songdata.to_csv(path_or_buf='data/' + str(year) + 'top10songs.csv',index=False) # Export our sample data table."
   ]
  },
  {
   "cell_type": "code",
   "execution_count": null,
   "metadata": {},
   "outputs": [],
   "source": []
  }
 ]
}