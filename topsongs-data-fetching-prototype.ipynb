{
 "nbformat": 4,
 "nbformat_minor": 2,
 "metadata": {
  "language_info": {
   "name": "python",
   "codemirror_mode": {
    "name": "ipython",
    "version": 3
   },
   "version": "3.7.3"
  },
  "orig_nbformat": 2,
  "file_extension": ".py",
  "mimetype": "text/x-python",
  "name": "python",
  "npconvert_exporter": "python",
  "pygments_lexer": "ipython3",
  "version": 3
 },
 "cells": [
  {
   "cell_type": "code",
   "execution_count": 1,
   "metadata": {},
   "outputs": [],
   "source": [
    "from bs4 import BeautifulSoup\n",
    "import requests\n",
    "import pandas as pd\n",
    "import numpy as np\n",
    "import datetime\n",
    "now = datetime.datetime.now()"
   ]
  },
  {
   "cell_type": "code",
   "execution_count": 2,
   "metadata": {},
   "outputs": [
    {
     "name": "stdout",
     "output_type": "stream",
     "text": "<!DOCTYPE html>\n<html class=\"client-nojs\" dir=\"ltr\" lang=\"en\">\n <head>\n  <meta charset=\"utf-8\"/>\n  <title>\n   List of Billboard Hot 100 top-ten singles in 2019 - Wikipedia\n  </title>\n  <script>\n   document.documentElement.className=\"client-js\";RLCONF={\"wgBreakFrames\":!1,\"wgSeparatorTransformTable\":[\"\",\"\"],\"wgDigitTransformTable\":[\"\",\"\"],\"wgDefaultDateFormat\":\"dmy\",\"wgMonthNames\":[\"\",\"January\",\"February\",\"March\",\"April\",\"May\",\"June\",\"July\",\"August\",\"September\",\"October\",\"November\",\"December\"],\"wgMonthNamesShort\":[\"\",\"Jan\",\"Feb\",\"Mar\",\"Apr\",\"May\",\"Jun\",\"Jul\",\"Aug\",\"Sep\",\"Oct\",\"Nov\",\"Dec\"],\"wgRequestId\":\"XgESlwpAMFUAAAvZyyMAAACC\",\"wgCSPNonce\":!1,\"wgCanonicalNamespace\":\"\",\"wgCanonicalSpecialPageName\":!1,\"wgNamespaceNumber\":0,\"wgPageName\":\"List_of_Billboard_Hot_100_top-ten_singles_in_2019\",\"wgTitle\":\"List of Billboard Hot 100 top-ten singles in 2019\",\"wgCurRevisionId\":932136634,\"wgRevisionId\":932136634,\"wgArticleId\":59536348,\"wgIsArticle\":!0,\"wgIsRedirect\":!1,\"wgAction\":\"view\",\"wgUserName\":\n"
    }
   ],
   "source": [
    "headers = {'User-Agent': 'Mozilla/5.0 (Windows NT 6.1) AppleWebKit/537.36 (KHTML, like Gecko) Chrome/41.0.2228.0 Safari/537.3'}\n",
    "year = 2019 # Year we're currently testing.\n",
    "html = requests.get('https://en.wikipedia.org/wiki/List_of_Billboard_Hot_100_top-ten_singles_in_' + str(year),cookies={ 'sessionid': '123..'},headers=headers).text\n",
    "soup = BeautifulSoup(html, 'lxml')\n",
    "print(soup.prettify()[0:1000])"
   ]
  },
  {
   "cell_type": "code",
   "execution_count": 3,
   "metadata": {},
   "outputs": [
    {
     "data": {
      "text/plain": "bs4.element.Tag"
     },
     "execution_count": 3,
     "metadata": {},
     "output_type": "execute_result"
    }
   ],
   "source": [
    "my_table = soup.find('table',{'class':'wikitable sortable'})\n",
    "type(my_table)"
   ]
  },
  {
   "cell_type": "code",
   "execution_count": 4,
   "metadata": {},
   "outputs": [],
   "source": [
    "tableheaderincluded = True\n",
    "swiftcount = 0 # Keeps track of where repeat information from cells with rowspans greater than 1 should be inserted.\n",
    "drakecontingency = 0 # Used to keep track of how many times repeat information should be inserted.\n",
    "\n",
    "# The following code mines the first table found on the Wikipedia page and extracts all table elements other than the annotations column."
   ]
  },
  {
   "cell_type": "code",
   "execution_count": 5,
   "metadata": {},
   "outputs": [
    {
     "name": "stdout",
     "output_type": "stream",
     "text": "October 20 appended!\nJanuary 5 appended!\nJanuary 5 appended!\nApril 13 appended!\nApril 27 appended!\nMay 18 appended!\nJune 29 appended!\nSeptember 21 appended!\nOctober 19 appended!\nNovember 9 appended!\nNovember 9 appended!\n"
    }
   ],
   "source": [
    "Titles = []\n",
    "try:\n",
    "    tds = my_table.findAll('td')\n",
    "except AttributeError:\n",
    "    my_table = soup.find('table',{'class':'wikitable'})\n",
    "    tableheaderincluded = False\n",
    "    tds = my_table.findAll('td')\n",
    "\n",
    "for td in tds:\n",
    "        try:\n",
    "            if td.attrs['rowspan']:\n",
    "                taylorswift = td.get_text()[:-1]\n",
    "                swiftcount = 7\n",
    "                drakecontingency = int(td.attrs['rowspan']) - 1\n",
    "        except KeyError:\n",
    "            pass\n",
    "        if td.get_text()[0] != '[' and td.get_text()[0] and td.get_text()[0].strip(): # Drop annotations column.\n",
    "            if swiftcount == 1:\n",
    "                drakecontingency = drakecontingency-1;\n",
    "                print(taylorswift + ' appended!')\n",
    "                Titles.append(taylorswift)\n",
    "                if drakecontingency == 0:\n",
    "                    taylorswift = ''\n",
    "                    swiftcount = 0\n",
    "                else:\n",
    "                    swiftcount = 6;\n",
    "            if swiftcount > 0:\n",
    "                swiftcount = swiftcount-1;\n",
    "            Titles.append(td.get_text()[:-1]) # Drop the newline character present at the end of every single entry."
   ]
  },
  {
   "cell_type": "code",
   "execution_count": 6,
   "metadata": {},
   "outputs": [
    {
     "name": "stdout",
     "output_type": "stream",
     "text": "['December 30(2017)', '\"All I Want For Christmas Is You\"[U]', 'Mariah Carey', '1', 'December 21', '9*', 'October 20', '\"Shallow\"[C]', 'Lady Gaga and Bradley Cooper', '1', 'March 9', '7', 'October 20', '\"Happier\"(#6)', 'Marshmello and Bastille', '2', 'February 16', '27', 'November 3', '\"Sunflower\"(#2)[J][Q] ◁', 'Post Malone and Swae Lee', '1', 'January 19', '33', 'November 10', '\"Without Me\"(#3)', 'Halsey', '1', 'January 12', '29', 'November 24', '\"High Hopes\"', 'Panic! at the Disco', '4', 'January 26', '15', 'January 5', '\"Jingle Bell Rock\"[W]', 'Bobby Helms', '8', 'January 5', '2*', 'January 5', '\"Rockin\\' Around the Christmas Tree\"[U]', 'Brenda Lee', '2', 'December 28', '4*', 'January 5', '\"Holly Jolly Christmas\"[V]', 'Burl Ives', '6', 'December 28', '3*', 'January 19', '\"Eastside\"[B]', 'Benny Blanco, Halsey and Khalid', '9', 'January 19', '2', 'January 26', '\"Wow\"(#5)', 'Post Malone', '2', 'April 6', '24', 'February 2', '\"7 Rings\"(#7) ◁', 'Ariana Grande', '1', 'February 2', '16', 'February 9', '\"Middle Child\"[C][H]', 'J. Cole', '4', 'February 9', '10', 'February 23', '\"Break Up with Your Girlfriend, I\\'m Bored\" ◁', 'Ariana Grande', '2', 'February 23', '2', 'March 2', '\"Please Me\"[D] ◁', 'Cardi B and Bruno Mars', '3', 'March 16', '8', 'March 9', '\"Thotiana\"[F]', 'Blueface', '8', 'April 6', '2', 'March 16', '\"Sucker\"(#10) ◁', 'Jonas Brothers', '1', 'March 16', '22', 'April 13', '\"Old Town Road\"(#1)[R]', 'Lil Nas X featuring Billy Ray Cyrus1', '1', 'April 13', '26', 'April 13', '\"Bad Guy\"(#4)[G] ◁', 'Billie Eilish', '1', 'August 24', '30', 'April 20', '\"Better\"', 'Khalid', '8', 'April 20', '1', 'April 27', '\"Dancing with a Stranger\"[I]', 'Sam Smith and Normani', '7', 'April 27', '8', 'April 27', '\"Boy with Luv\" ◁', 'BTS featuring Halsey', '8', 'April 27', '1', 'May 4', '\"Talk\"(#8)[I]', 'Khalid', '3', 'June 8', '19', 'May 11', '\"Me!\"', 'Taylor Swift featuring Brendon Urie', '2', 'May 11', '4', 'May 18', '\"If I Can\\'t Have You\"[L][N] ◁', 'Shawn Mendes', '2', 'May 18', '4', 'May 18', '\"Homicide\" ◁', 'Logic featuring Eminem', '5', 'May 18', '1', 'May 25', '\"I Don\\'t Care\" ◁', 'Ed Sheeran and Justin Bieber', '2', 'May 25', '17', 'June 1', '\"Sweet but Psycho\"', 'Ava Max', '10', 'June 1', '3', 'June 8', '\"Suge\"', 'DaBaby', '7', 'July 6', '7', 'June 22', '\"No Guidance\"[K][M] ◁', 'Chris Brown featuring Drake', '5', 'October 5', '23', 'June 29', '\"You Need to Calm Down\"[O] ◁', 'Taylor Swift', '2', 'June 29', '2', 'June 29', '\"Money in the Grave\" ◁', 'Drake featuring Rick Ross', '7', 'June 29', '2', 'July 6', '\"Señorita\" ◁', 'Shawn Mendes and Camila Cabello', '1', 'August 31', '23', 'July 13', '\"Truth Hurts\"', 'Lizzo', '1', 'September 7', '22', 'July 20', '\"Goodbyes\"[P] ◁', 'Post Malone featuring Young Thug', '3', 'July 20', '12', 'August 10', '\"Ransom\"', 'Lil Tecca', '4', 'September 14', '13', 'August 17', '\"Boyfriend\" ◁', 'Ariana Grande and Social House', '8', 'August 17', '1', 'September 7', '\"Lover\"', 'Taylor Swift', '10', 'September 7', '1', 'September 14', '\"Circles\" ◁', 'Post Malone', '1', 'November 30', '16*', 'September 21', '\"Take What You Want\" ◁', 'Post Malone featuring Ozzy Osbourne and Travis Scott', '8', 'September 21', '1', 'September 21', '\"Someone You Loved\"', 'Lewis Capaldi', '1', 'November 2', '15*', 'September 28', '\"Panini\"', 'Lil Nas X', '5', 'September 28', '9', 'October 19', '\"Highest in the Room\" ◁', 'Travis Scott', '1', 'October 19', '3', 'October 19', '\"10,000 Hours\"[S][T] ◁', 'Dan + Shay and Justin Bieber', '4', 'October 19', '7', 'October 26', '\"Bandit\"', 'Juice Wrld and YoungBoy Never Broke Again', '10', 'October 26', '1', 'November 9', '\"Lose You to Love Me\"', 'Selena Gomez', '1', 'November 9', '6', 'November 9', '\"Good as Hell\"', 'Lizzo', '3', 'November 30', '8*', 'November 9', '\"Follow God\" ◁', 'Kanye West', '7', 'November 9', '1', 'November 16', '\"Memories\"', 'Maroon 5', '4', 'November 30', '7*', 'November 30', '\"Everything I Wanted\"', 'Billie Eilish', '8', 'November 30', '1', 'December 7', '\"Roxanne\"', 'Arizona Zervas', '4', 'December 28', '4*', 'December 14', '\"Heartless\"', 'The Weeknd', '1', 'December 14', '1', 'December 21', '\"Dance Monkey\"', 'Tones and I', '9', 'December 21', '1', 'December 28', '\"Futsal Shuffle 2020\" ◁', 'Lil Uzi Vert', '5', 'December 28', '1*']\n"
    }
   ],
   "source": [
    "print(Titles)"
   ]
  },
  {
   "cell_type": "code",
   "execution_count": 7,
   "metadata": {},
   "outputs": [],
   "source": [
    "nptitles = np.asarray(Titles).copy()"
   ]
  },
  {
   "cell_type": "code",
   "execution_count": 10,
   "metadata": {},
   "outputs": [
    {
     "data": {
      "text/plain": "324"
     },
     "execution_count": 10,
     "metadata": {},
     "output_type": "execute_result"
    }
   ],
   "source": [
    "len(nptitles)"
   ]
  },
  {
   "cell_type": "code",
   "execution_count": 11,
   "metadata": {},
   "outputs": [],
   "source": [
    "numsongs = int(np.prod(nptitles.shape)/6) # Find out how many songs are in this list.\n",
    "reshaped = nptitles.reshape(numsongs,6) # Reshape the array based on the number of songs and the number of columns."
   ]
  },
  {
   "cell_type": "code",
   "execution_count": 17,
   "metadata": {},
   "outputs": [],
   "source": [
    "songdata = pd.DataFrame(reshaped)\n",
    "songdata.columns = ['Top ten entry date','Title','Artist','Peak','Peak date','Number of weeks in top ten']\n",
    "songdata['Year'] = str(year)\n",
    "songdata['Title'] = [i[1:i.rfind('\\\"')] for i in songdata['Title']] # Drops quotation marks and annotations in Title.\n",
    "for j in songdata['Top ten entry date']:\n",
    "    if '[' in j:\n",
    "        j = j[:j.rfind('[')-1]\n",
    "\n",
    "if year == now.year:\n",
    "    cleanweeks = []\n",
    "    for j in songdata['Number of weeks in top ten']: # This code searches the number of weeks in top ten column for asterisks and eliminates them. This is only a \n",
    "        try:                                         # problem in the current year.\n",
    "            cleanweeks.append(int(j[:j.rindex('*')]))\n",
    "        except ValueError:\n",
    "            cleanweeks.append(int(j))\n",
    "\n",
    "    songdata['Number of weeks in top ten'] = cleanweeks"
   ]
  },
  {
   "cell_type": "code",
   "execution_count": 18,
   "metadata": {},
   "outputs": [
    {
     "data": {
      "text/html": "<div>\n<style scoped>\n    .dataframe tbody tr th:only-of-type {\n        vertical-align: middle;\n    }\n\n    .dataframe tbody tr th {\n        vertical-align: top;\n    }\n\n    .dataframe thead th {\n        text-align: right;\n    }\n</style>\n<table border=\"1\" class=\"dataframe\">\n  <thead>\n    <tr style=\"text-align: right;\">\n      <th></th>\n      <th>Top ten entry date</th>\n      <th>Title</th>\n      <th>Artist</th>\n      <th>Peak</th>\n      <th>Peak date</th>\n      <th>Number of weeks in top ten</th>\n      <th>Year</th>\n    </tr>\n  </thead>\n  <tbody>\n    <tr>\n      <th>0</th>\n      <td>December 30(2017)</td>\n      <td>All I Want For Christmas Is You</td>\n      <td>Mariah Carey</td>\n      <td>1</td>\n      <td>December 21</td>\n      <td>9</td>\n      <td>2019</td>\n    </tr>\n    <tr>\n      <th>1</th>\n      <td>October 20</td>\n      <td>Shallow</td>\n      <td>Lady Gaga and Bradley Cooper</td>\n      <td>1</td>\n      <td>March 9</td>\n      <td>7</td>\n      <td>2019</td>\n    </tr>\n    <tr>\n      <th>2</th>\n      <td>October 20</td>\n      <td>Happier</td>\n      <td>Marshmello and Bastille</td>\n      <td>2</td>\n      <td>February 16</td>\n      <td>27</td>\n      <td>2019</td>\n    </tr>\n    <tr>\n      <th>3</th>\n      <td>November 3</td>\n      <td>Sunflower</td>\n      <td>Post Malone and Swae Lee</td>\n      <td>1</td>\n      <td>January 19</td>\n      <td>33</td>\n      <td>2019</td>\n    </tr>\n    <tr>\n      <th>4</th>\n      <td>November 10</td>\n      <td>Without Me</td>\n      <td>Halsey</td>\n      <td>1</td>\n      <td>January 12</td>\n      <td>29</td>\n      <td>2019</td>\n    </tr>\n    <tr>\n      <th>5</th>\n      <td>November 24</td>\n      <td>High Hopes</td>\n      <td>Panic! at the Disco</td>\n      <td>4</td>\n      <td>January 26</td>\n      <td>15</td>\n      <td>2019</td>\n    </tr>\n    <tr>\n      <th>6</th>\n      <td>January 5</td>\n      <td>Jingle Bell Rock</td>\n      <td>Bobby Helms</td>\n      <td>8</td>\n      <td>January 5</td>\n      <td>2</td>\n      <td>2019</td>\n    </tr>\n    <tr>\n      <th>7</th>\n      <td>January 5</td>\n      <td>Rockin' Around the Christmas Tree</td>\n      <td>Brenda Lee</td>\n      <td>2</td>\n      <td>December 28</td>\n      <td>4</td>\n      <td>2019</td>\n    </tr>\n    <tr>\n      <th>8</th>\n      <td>January 5</td>\n      <td>Holly Jolly Christmas</td>\n      <td>Burl Ives</td>\n      <td>6</td>\n      <td>December 28</td>\n      <td>3</td>\n      <td>2019</td>\n    </tr>\n    <tr>\n      <th>9</th>\n      <td>January 19</td>\n      <td>Eastside</td>\n      <td>Benny Blanco, Halsey and Khalid</td>\n      <td>9</td>\n      <td>January 19</td>\n      <td>2</td>\n      <td>2019</td>\n    </tr>\n    <tr>\n      <th>10</th>\n      <td>January 26</td>\n      <td>Wow</td>\n      <td>Post Malone</td>\n      <td>2</td>\n      <td>April 6</td>\n      <td>24</td>\n      <td>2019</td>\n    </tr>\n    <tr>\n      <th>11</th>\n      <td>February 2</td>\n      <td>7 Rings</td>\n      <td>Ariana Grande</td>\n      <td>1</td>\n      <td>February 2</td>\n      <td>16</td>\n      <td>2019</td>\n    </tr>\n    <tr>\n      <th>12</th>\n      <td>February 9</td>\n      <td>Middle Child</td>\n      <td>J. Cole</td>\n      <td>4</td>\n      <td>February 9</td>\n      <td>10</td>\n      <td>2019</td>\n    </tr>\n    <tr>\n      <th>13</th>\n      <td>February 23</td>\n      <td>Break Up with Your Girlfriend, I'm Bored</td>\n      <td>Ariana Grande</td>\n      <td>2</td>\n      <td>February 23</td>\n      <td>2</td>\n      <td>2019</td>\n    </tr>\n    <tr>\n      <th>14</th>\n      <td>March 2</td>\n      <td>Please Me</td>\n      <td>Cardi B and Bruno Mars</td>\n      <td>3</td>\n      <td>March 16</td>\n      <td>8</td>\n      <td>2019</td>\n    </tr>\n    <tr>\n      <th>15</th>\n      <td>March 9</td>\n      <td>Thotiana</td>\n      <td>Blueface</td>\n      <td>8</td>\n      <td>April 6</td>\n      <td>2</td>\n      <td>2019</td>\n    </tr>\n    <tr>\n      <th>16</th>\n      <td>March 16</td>\n      <td>Sucker</td>\n      <td>Jonas Brothers</td>\n      <td>1</td>\n      <td>March 16</td>\n      <td>22</td>\n      <td>2019</td>\n    </tr>\n    <tr>\n      <th>17</th>\n      <td>April 13</td>\n      <td>Old Town Road</td>\n      <td>Lil Nas X featuring Billy Ray Cyrus1</td>\n      <td>1</td>\n      <td>April 13</td>\n      <td>26</td>\n      <td>2019</td>\n    </tr>\n    <tr>\n      <th>18</th>\n      <td>April 13</td>\n      <td>Bad Guy</td>\n      <td>Billie Eilish</td>\n      <td>1</td>\n      <td>August 24</td>\n      <td>30</td>\n      <td>2019</td>\n    </tr>\n    <tr>\n      <th>19</th>\n      <td>April 20</td>\n      <td>Better</td>\n      <td>Khalid</td>\n      <td>8</td>\n      <td>April 20</td>\n      <td>1</td>\n      <td>2019</td>\n    </tr>\n    <tr>\n      <th>20</th>\n      <td>April 27</td>\n      <td>Dancing with a Stranger</td>\n      <td>Sam Smith and Normani</td>\n      <td>7</td>\n      <td>April 27</td>\n      <td>8</td>\n      <td>2019</td>\n    </tr>\n    <tr>\n      <th>21</th>\n      <td>April 27</td>\n      <td>Boy with Luv</td>\n      <td>BTS featuring Halsey</td>\n      <td>8</td>\n      <td>April 27</td>\n      <td>1</td>\n      <td>2019</td>\n    </tr>\n    <tr>\n      <th>22</th>\n      <td>May 4</td>\n      <td>Talk</td>\n      <td>Khalid</td>\n      <td>3</td>\n      <td>June 8</td>\n      <td>19</td>\n      <td>2019</td>\n    </tr>\n    <tr>\n      <th>23</th>\n      <td>May 11</td>\n      <td>Me!</td>\n      <td>Taylor Swift featuring Brendon Urie</td>\n      <td>2</td>\n      <td>May 11</td>\n      <td>4</td>\n      <td>2019</td>\n    </tr>\n    <tr>\n      <th>24</th>\n      <td>May 18</td>\n      <td>If I Can't Have You</td>\n      <td>Shawn Mendes</td>\n      <td>2</td>\n      <td>May 18</td>\n      <td>4</td>\n      <td>2019</td>\n    </tr>\n    <tr>\n      <th>25</th>\n      <td>May 18</td>\n      <td>Homicide</td>\n      <td>Logic featuring Eminem</td>\n      <td>5</td>\n      <td>May 18</td>\n      <td>1</td>\n      <td>2019</td>\n    </tr>\n    <tr>\n      <th>26</th>\n      <td>May 25</td>\n      <td>I Don't Care</td>\n      <td>Ed Sheeran and Justin Bieber</td>\n      <td>2</td>\n      <td>May 25</td>\n      <td>17</td>\n      <td>2019</td>\n    </tr>\n    <tr>\n      <th>27</th>\n      <td>June 1</td>\n      <td>Sweet but Psycho</td>\n      <td>Ava Max</td>\n      <td>10</td>\n      <td>June 1</td>\n      <td>3</td>\n      <td>2019</td>\n    </tr>\n    <tr>\n      <th>28</th>\n      <td>June 8</td>\n      <td>Suge</td>\n      <td>DaBaby</td>\n      <td>7</td>\n      <td>July 6</td>\n      <td>7</td>\n      <td>2019</td>\n    </tr>\n    <tr>\n      <th>29</th>\n      <td>June 22</td>\n      <td>No Guidance</td>\n      <td>Chris Brown featuring Drake</td>\n      <td>5</td>\n      <td>October 5</td>\n      <td>23</td>\n      <td>2019</td>\n    </tr>\n    <tr>\n      <th>30</th>\n      <td>June 29</td>\n      <td>You Need to Calm Down</td>\n      <td>Taylor Swift</td>\n      <td>2</td>\n      <td>June 29</td>\n      <td>2</td>\n      <td>2019</td>\n    </tr>\n    <tr>\n      <th>31</th>\n      <td>June 29</td>\n      <td>Money in the Grave</td>\n      <td>Drake featuring Rick Ross</td>\n      <td>7</td>\n      <td>June 29</td>\n      <td>2</td>\n      <td>2019</td>\n    </tr>\n    <tr>\n      <th>32</th>\n      <td>July 6</td>\n      <td>Señorita</td>\n      <td>Shawn Mendes and Camila Cabello</td>\n      <td>1</td>\n      <td>August 31</td>\n      <td>23</td>\n      <td>2019</td>\n    </tr>\n    <tr>\n      <th>33</th>\n      <td>July 13</td>\n      <td>Truth Hurts</td>\n      <td>Lizzo</td>\n      <td>1</td>\n      <td>September 7</td>\n      <td>22</td>\n      <td>2019</td>\n    </tr>\n    <tr>\n      <th>34</th>\n      <td>July 20</td>\n      <td>Goodbyes</td>\n      <td>Post Malone featuring Young Thug</td>\n      <td>3</td>\n      <td>July 20</td>\n      <td>12</td>\n      <td>2019</td>\n    </tr>\n    <tr>\n      <th>35</th>\n      <td>August 10</td>\n      <td>Ransom</td>\n      <td>Lil Tecca</td>\n      <td>4</td>\n      <td>September 14</td>\n      <td>13</td>\n      <td>2019</td>\n    </tr>\n    <tr>\n      <th>36</th>\n      <td>August 17</td>\n      <td>Boyfriend</td>\n      <td>Ariana Grande and Social House</td>\n      <td>8</td>\n      <td>August 17</td>\n      <td>1</td>\n      <td>2019</td>\n    </tr>\n    <tr>\n      <th>37</th>\n      <td>September 7</td>\n      <td>Lover</td>\n      <td>Taylor Swift</td>\n      <td>10</td>\n      <td>September 7</td>\n      <td>1</td>\n      <td>2019</td>\n    </tr>\n    <tr>\n      <th>38</th>\n      <td>September 14</td>\n      <td>Circles</td>\n      <td>Post Malone</td>\n      <td>1</td>\n      <td>November 30</td>\n      <td>16</td>\n      <td>2019</td>\n    </tr>\n    <tr>\n      <th>39</th>\n      <td>September 21</td>\n      <td>Take What You Want</td>\n      <td>Post Malone featuring Ozzy Osbourne and Travis...</td>\n      <td>8</td>\n      <td>September 21</td>\n      <td>1</td>\n      <td>2019</td>\n    </tr>\n    <tr>\n      <th>40</th>\n      <td>September 21</td>\n      <td>Someone You Loved</td>\n      <td>Lewis Capaldi</td>\n      <td>1</td>\n      <td>November 2</td>\n      <td>15</td>\n      <td>2019</td>\n    </tr>\n    <tr>\n      <th>41</th>\n      <td>September 28</td>\n      <td>Panini</td>\n      <td>Lil Nas X</td>\n      <td>5</td>\n      <td>September 28</td>\n      <td>9</td>\n      <td>2019</td>\n    </tr>\n    <tr>\n      <th>42</th>\n      <td>October 19</td>\n      <td>Highest in the Room</td>\n      <td>Travis Scott</td>\n      <td>1</td>\n      <td>October 19</td>\n      <td>3</td>\n      <td>2019</td>\n    </tr>\n    <tr>\n      <th>43</th>\n      <td>October 19</td>\n      <td>10,000 Hours</td>\n      <td>Dan + Shay and Justin Bieber</td>\n      <td>4</td>\n      <td>October 19</td>\n      <td>7</td>\n      <td>2019</td>\n    </tr>\n    <tr>\n      <th>44</th>\n      <td>October 26</td>\n      <td>Bandit</td>\n      <td>Juice Wrld and YoungBoy Never Broke Again</td>\n      <td>10</td>\n      <td>October 26</td>\n      <td>1</td>\n      <td>2019</td>\n    </tr>\n    <tr>\n      <th>45</th>\n      <td>November 9</td>\n      <td>Lose You to Love Me</td>\n      <td>Selena Gomez</td>\n      <td>1</td>\n      <td>November 9</td>\n      <td>6</td>\n      <td>2019</td>\n    </tr>\n    <tr>\n      <th>46</th>\n      <td>November 9</td>\n      <td>Good as Hell</td>\n      <td>Lizzo</td>\n      <td>3</td>\n      <td>November 30</td>\n      <td>8</td>\n      <td>2019</td>\n    </tr>\n    <tr>\n      <th>47</th>\n      <td>November 9</td>\n      <td>Follow God</td>\n      <td>Kanye West</td>\n      <td>7</td>\n      <td>November 9</td>\n      <td>1</td>\n      <td>2019</td>\n    </tr>\n    <tr>\n      <th>48</th>\n      <td>November 16</td>\n      <td>Memories</td>\n      <td>Maroon 5</td>\n      <td>4</td>\n      <td>November 30</td>\n      <td>7</td>\n      <td>2019</td>\n    </tr>\n    <tr>\n      <th>49</th>\n      <td>November 30</td>\n      <td>Everything I Wanted</td>\n      <td>Billie Eilish</td>\n      <td>8</td>\n      <td>November 30</td>\n      <td>1</td>\n      <td>2019</td>\n    </tr>\n    <tr>\n      <th>50</th>\n      <td>December 7</td>\n      <td>Roxanne</td>\n      <td>Arizona Zervas</td>\n      <td>4</td>\n      <td>December 28</td>\n      <td>4</td>\n      <td>2019</td>\n    </tr>\n    <tr>\n      <th>51</th>\n      <td>December 14</td>\n      <td>Heartless</td>\n      <td>The Weeknd</td>\n      <td>1</td>\n      <td>December 14</td>\n      <td>1</td>\n      <td>2019</td>\n    </tr>\n    <tr>\n      <th>52</th>\n      <td>December 21</td>\n      <td>Dance Monkey</td>\n      <td>Tones and I</td>\n      <td>9</td>\n      <td>December 21</td>\n      <td>1</td>\n      <td>2019</td>\n    </tr>\n    <tr>\n      <th>53</th>\n      <td>December 28</td>\n      <td>Futsal Shuffle 2020</td>\n      <td>Lil Uzi Vert</td>\n      <td>5</td>\n      <td>December 28</td>\n      <td>1</td>\n      <td>2019</td>\n    </tr>\n  </tbody>\n</table>\n</div>",
      "text/plain": "   Top ten entry date                                     Title  \\\n0   December 30(2017)           All I Want For Christmas Is You   \n1          October 20                                   Shallow   \n2          October 20                                   Happier   \n3          November 3                                 Sunflower   \n4         November 10                                Without Me   \n5         November 24                                High Hopes   \n6           January 5                          Jingle Bell Rock   \n7           January 5         Rockin' Around the Christmas Tree   \n8           January 5                     Holly Jolly Christmas   \n9          January 19                                  Eastside   \n10         January 26                                       Wow   \n11         February 2                                   7 Rings   \n12         February 9                              Middle Child   \n13        February 23  Break Up with Your Girlfriend, I'm Bored   \n14            March 2                                 Please Me   \n15            March 9                                  Thotiana   \n16           March 16                                    Sucker   \n17           April 13                             Old Town Road   \n18           April 13                                   Bad Guy   \n19           April 20                                    Better   \n20           April 27                   Dancing with a Stranger   \n21           April 27                              Boy with Luv   \n22              May 4                                      Talk   \n23             May 11                                       Me!   \n24             May 18                       If I Can't Have You   \n25             May 18                                  Homicide   \n26             May 25                              I Don't Care   \n27             June 1                          Sweet but Psycho   \n28             June 8                                      Suge   \n29            June 22                               No Guidance   \n30            June 29                     You Need to Calm Down   \n31            June 29                        Money in the Grave   \n32             July 6                                  Señorita   \n33            July 13                               Truth Hurts   \n34            July 20                                  Goodbyes   \n35          August 10                                    Ransom   \n36          August 17                                 Boyfriend   \n37        September 7                                     Lover   \n38       September 14                                   Circles   \n39       September 21                        Take What You Want   \n40       September 21                         Someone You Loved   \n41       September 28                                    Panini   \n42         October 19                       Highest in the Room   \n43         October 19                              10,000 Hours   \n44         October 26                                    Bandit   \n45         November 9                       Lose You to Love Me   \n46         November 9                              Good as Hell   \n47         November 9                                Follow God   \n48        November 16                                  Memories   \n49        November 30                       Everything I Wanted   \n50         December 7                                   Roxanne   \n51        December 14                                 Heartless   \n52        December 21                              Dance Monkey   \n53        December 28                       Futsal Shuffle 2020   \n\n                                               Artist Peak     Peak date  \\\n0                                        Mariah Carey    1   December 21   \n1                        Lady Gaga and Bradley Cooper    1       March 9   \n2                             Marshmello and Bastille    2   February 16   \n3                            Post Malone and Swae Lee    1    January 19   \n4                                              Halsey    1    January 12   \n5                                 Panic! at the Disco    4    January 26   \n6                                         Bobby Helms    8     January 5   \n7                                          Brenda Lee    2   December 28   \n8                                           Burl Ives    6   December 28   \n9                     Benny Blanco, Halsey and Khalid    9    January 19   \n10                                        Post Malone    2       April 6   \n11                                      Ariana Grande    1    February 2   \n12                                            J. Cole    4    February 9   \n13                                      Ariana Grande    2   February 23   \n14                             Cardi B and Bruno Mars    3      March 16   \n15                                           Blueface    8       April 6   \n16                                     Jonas Brothers    1      March 16   \n17               Lil Nas X featuring Billy Ray Cyrus1    1      April 13   \n18                                      Billie Eilish    1     August 24   \n19                                             Khalid    8      April 20   \n20                              Sam Smith and Normani    7      April 27   \n21                               BTS featuring Halsey    8      April 27   \n22                                             Khalid    3        June 8   \n23                Taylor Swift featuring Brendon Urie    2        May 11   \n24                                       Shawn Mendes    2        May 18   \n25                             Logic featuring Eminem    5        May 18   \n26                       Ed Sheeran and Justin Bieber    2        May 25   \n27                                            Ava Max   10        June 1   \n28                                             DaBaby    7        July 6   \n29                        Chris Brown featuring Drake    5     October 5   \n30                                       Taylor Swift    2       June 29   \n31                          Drake featuring Rick Ross    7       June 29   \n32                    Shawn Mendes and Camila Cabello    1     August 31   \n33                                              Lizzo    1   September 7   \n34                   Post Malone featuring Young Thug    3       July 20   \n35                                          Lil Tecca    4  September 14   \n36                     Ariana Grande and Social House    8     August 17   \n37                                       Taylor Swift   10   September 7   \n38                                        Post Malone    1   November 30   \n39  Post Malone featuring Ozzy Osbourne and Travis...    8  September 21   \n40                                      Lewis Capaldi    1    November 2   \n41                                          Lil Nas X    5  September 28   \n42                                       Travis Scott    1    October 19   \n43                       Dan + Shay and Justin Bieber    4    October 19   \n44          Juice Wrld and YoungBoy Never Broke Again   10    October 26   \n45                                       Selena Gomez    1    November 9   \n46                                              Lizzo    3   November 30   \n47                                         Kanye West    7    November 9   \n48                                           Maroon 5    4   November 30   \n49                                      Billie Eilish    8   November 30   \n50                                     Arizona Zervas    4   December 28   \n51                                         The Weeknd    1   December 14   \n52                                        Tones and I    9   December 21   \n53                                       Lil Uzi Vert    5   December 28   \n\n    Number of weeks in top ten  Year  \n0                            9  2019  \n1                            7  2019  \n2                           27  2019  \n3                           33  2019  \n4                           29  2019  \n5                           15  2019  \n6                            2  2019  \n7                            4  2019  \n8                            3  2019  \n9                            2  2019  \n10                          24  2019  \n11                          16  2019  \n12                          10  2019  \n13                           2  2019  \n14                           8  2019  \n15                           2  2019  \n16                          22  2019  \n17                          26  2019  \n18                          30  2019  \n19                           1  2019  \n20                           8  2019  \n21                           1  2019  \n22                          19  2019  \n23                           4  2019  \n24                           4  2019  \n25                           1  2019  \n26                          17  2019  \n27                           3  2019  \n28                           7  2019  \n29                          23  2019  \n30                           2  2019  \n31                           2  2019  \n32                          23  2019  \n33                          22  2019  \n34                          12  2019  \n35                          13  2019  \n36                           1  2019  \n37                           1  2019  \n38                          16  2019  \n39                           1  2019  \n40                          15  2019  \n41                           9  2019  \n42                           3  2019  \n43                           7  2019  \n44                           1  2019  \n45                           6  2019  \n46                           8  2019  \n47                           1  2019  \n48                           7  2019  \n49                           1  2019  \n50                           4  2019  \n51                           1  2019  \n52                           1  2019  \n53                           1  2019  "
     },
     "execution_count": 18,
     "metadata": {},
     "output_type": "execute_result"
    }
   ],
   "source": [
    "songdata"
   ]
  },
  {
   "cell_type": "code",
   "execution_count": 19,
   "metadata": {},
   "outputs": [],
   "source": [
    "songdata.to_csv(path_or_buf='data/' + str(year) + 'top10songs.csv',index=False) # Export our sample data table."
   ]
  },
  {
   "cell_type": "code",
   "execution_count": null,
   "metadata": {},
   "outputs": [],
   "source": []
  }
 ]
}