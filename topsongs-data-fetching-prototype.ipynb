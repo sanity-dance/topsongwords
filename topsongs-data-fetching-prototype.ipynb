{
 "nbformat": 4,
 "nbformat_minor": 2,
 "metadata": {
  "language_info": {
   "name": "python",
   "codemirror_mode": {
    "name": "ipython",
    "version": 3
   },
   "version": "3.7.3"
  },
  "orig_nbformat": 2,
  "file_extension": ".py",
  "mimetype": "text/x-python",
  "name": "python",
  "npconvert_exporter": "python",
  "pygments_lexer": "ipython3",
  "version": 3
 },
 "cells": [
  {
   "cell_type": "code",
   "execution_count": 141,
   "metadata": {},
   "outputs": [],
   "source": [
    "from bs4 import BeautifulSoup\n",
    "import requests\n",
    "import pandas as pd\n",
    "import numpy as np\n",
    "import datetime\n",
    "now = datetime.datetime.now()"
   ]
  },
  {
   "cell_type": "code",
   "execution_count": 199,
   "metadata": {},
   "outputs": [
    {
     "name": "stdout",
     "output_type": "stream",
     "text": "<!DOCTYPE html>\n<html class=\"client-nojs\" dir=\"ltr\" lang=\"en\">\n <head>\n  <meta charset=\"utf-8\"/>\n  <title>\n   List of Billboard Hot 100 top-ten singles in 2018 - Wikipedia\n  </title>\n  <script>\n   document.documentElement.className=\"client-js\";RLCONF={\"wgBreakFrames\":!1,\"wgSeparatorTransformTable\":[\"\",\"\"],\"wgDigitTransformTable\":[\"\",\"\"],\"wgDefaultDateFormat\":\"dmy\",\"wgMonthNames\":[\"\",\"January\",\"February\",\"March\",\"April\",\"May\",\"June\",\"July\",\"August\",\"September\",\"October\",\"November\",\"December\"],\"wgMonthNamesShort\":[\"\",\"Jan\",\"Feb\",\"Mar\",\"Apr\",\"May\",\"Jun\",\"Jul\",\"Aug\",\"Sep\",\"Oct\",\"Nov\",\"Dec\"],\"wgRequestId\":\"XgF-PwpAAEMAAJZxPJAAAADF\",\"wgCSPNonce\":!1,\"wgCanonicalNamespace\":\"\",\"wgCanonicalSpecialPageName\":!1,\"wgNamespaceNumber\":0,\"wgPageName\":\"List_of_Billboard_Hot_100_top-ten_singles_in_2018\",\"wgTitle\":\"List of Billboard Hot 100 top-ten singles in 2018\",\"wgCurRevisionId\":932137003,\"wgRevisionId\":932137003,\"wgArticleId\":56098454,\"wgIsArticle\":!0,\"wgIsRedirect\":!1,\"wgAction\":\"view\",\"wgUserName\":\n"
    }
   ],
   "source": [
    "headers = {'User-Agent': 'Mozilla/5.0 (Windows NT 6.1) AppleWebKit/537.36 (KHTML, like Gecko) Chrome/41.0.2228.0 Safari/537.3'}\n",
    "year = 2018 # Year we're currently testing.\n",
    "html = requests.get('https://en.wikipedia.org/wiki/List_of_Billboard_Hot_100_top-ten_singles_in_' + str(year),cookies={ 'sessionid': '123..'},headers=headers).text\n",
    "soup = BeautifulSoup(html, 'lxml')\n",
    "print(soup.prettify()[0:1000])"
   ]
  },
  {
   "cell_type": "code",
   "execution_count": 200,
   "metadata": {},
   "outputs": [
    {
     "data": {
      "text/plain": "bs4.element.Tag"
     },
     "execution_count": 200,
     "metadata": {},
     "output_type": "execute_result"
    }
   ],
   "source": [
    "my_table = soup.find('table',{'class':'wikitable sortable'})\n",
    "type(my_table)"
   ]
  },
  {
   "cell_type": "code",
   "execution_count": 201,
   "metadata": {},
   "outputs": [],
   "source": [
    "tableheaderincluded = True\n",
    "swiftcount = 0 # Keeps track of where repeat artists with rowspans greater than 1 should be inserted.\n",
    "drakecontingency = 0 # Used to keep track of how many rows have the same artist when the rowspan is greater than 1.\n",
    "\n",
    "# The following code mines the first table found on the Wikipedia page and extracts only table elements that do not correspond to a month and date. We don't care about the exact month and day that the song achieved Top 10 glory or their peek date. Furthermore, the way Wikipedia's tables are formatted, there are occasionally multiple songs that were all entered on the same day, and that date is listed only once, which creates problems for our script later down the road."
   ]
  },
  {
   "cell_type": "code",
   "execution_count": 202,
   "metadata": {},
   "outputs": [
    {
     "name": "stdout",
     "output_type": "stream",
     "text": "Drake appended!\nJ. Cole appended!\nJ. Cole appended!\nDrake appended!\nDrake appended!\nDrake appended!\nTravis Scott appended!\n"
    }
   ],
   "source": [
    "Titles = []\n",
    "try:\n",
    "    tds = my_table.findAll('td')\n",
    "except AttributeError:\n",
    "    my_table = soup.find('table',{'class':'wikitable'})\n",
    "    tableheaderincluded = False\n",
    "    tds = my_table.findAll('td')\n",
    "\n",
    "for td in tds:\n",
    "    try:\n",
    "        d = datetime.datetime.strptime(td.get_text()[:-1], \"%B %d\") # Check if the current string is a Month Day format.\n",
    "    except ValueError:\n",
    "        try:\n",
    "            d = datetime.datetime.strptime(td.get_text()[:td.get_text().rfind('(')-1], \"%B %d\") # Catch a rare case where a song from the previous year charted again.\n",
    "        except ValueError:\n",
    "            try:\n",
    "                d = datetime.datetime.strptime(td.get_text()[:td.get_text().rfind('[')-1], \"%B %d\") # Catch a rare case where a song's top ten entry date has an annotation.\n",
    "            except ValueError:\n",
    "                try:\n",
    "                    if td.attrs['rowspan']:\n",
    "                        taylorswift = td.get_text()[:-1]\n",
    "                        swiftcount = 5\n",
    "                        drakecontingency = int(td.attrs['rowspan']) - 1\n",
    "                except KeyError:\n",
    "                    pass\n",
    "                if td.get_text()[0] != '[' and td.get_text()[0] and td.get_text()[0].strip(): # Drop annotations column.\n",
    "                    if swiftcount == 1:\n",
    "                        drakecontingency = drakecontingency-1;\n",
    "                        print(taylorswift + ' appended!')\n",
    "                        Titles.append(taylorswift)\n",
    "                        if drakecontingency == 0:\n",
    "                            taylorswift = ''\n",
    "                            swiftcount = 0\n",
    "                        else:\n",
    "                            swiftcount = 4;\n",
    "                    if swiftcount > 0:\n",
    "                        swiftcount = swiftcount-1;\n",
    "                    Titles.append(td.get_text()[:-1]) # Drop the newline character present at the end of every single entry."
   ]
  },
  {
   "cell_type": "code",
   "execution_count": 203,
   "metadata": {},
   "outputs": [
    {
     "name": "stdout",
     "output_type": "stream",
     "text": "['\"Havana\" (#4)', 'Camila Cabello featuring Young Thug', '1', '23', '\"No Limit\"', 'G-Eazy featuring ASAP Rocky and Cardi B', '4', '9', '\"Bad at Love\"', 'Halsey', '5', '10', '\"Finesse\"', 'Bruno Mars and Cardi B', '3', '14', '\"Filthy\" ◁', 'Justin Timberlake', '9', '1', '\"New Rules\"', 'Dua Lipa', '6', '5', '\"God\\'s Plan\" (#1) ◁', 'Drake', '1', '26', '\"Diplomatic Immunity\" ◁', 'Drake', '7', '1', '\"Say Something\" ◁', 'Justin Timberlake featuring Chris Stapleton', '9', '1', '\"Pray for Me\"[C] ◁', 'The Weeknd and Kendrick Lamar', '7', '6', '\"Stir Fry\"[D]', 'Migos', '8', '4', '\"Meant to Be\" (#3) [J][L]', 'Bebe Rexha featuring Florida Georgia Line', '2', '19', '\"Look Alive\"[F] ◁', 'BlocBoy JB featuring Drake', '5', '13', '\"All the Stars\"[E]', 'Kendrick Lamar and SZA', '7', '4', '\"Psycho\" (#6) [M] ◁', 'Post Malone featuring Ty Dolla Sign', '1', '21', '\"The Middle\" (#8)', 'Zedd, Maren Morris and Grey', '5', '16', '\"Sad!\"[K]', 'XXXTentacion', '1', '6', '\"Freaky Friday\" ◁', 'Lil Dicky featuring Chris Brown', '8', '5', '\"Call Out My Name\" ◁', 'The Weeknd', '4', '1', '\"Walk It Talk It\"', 'Migos featuring Drake', '10', '1', '\"Nice for What\" ◁', 'Drake', '1', '17', '\"I Like It\" (#7) [I][R] ◁', 'Cardi B, Bad Bunny and J Balvin', '1', '21', '\"Chun-Li\"', 'Nicki Minaj', '10', '1', '\"No Tears Left to Cry\"[J][M][P] ◁', 'Ariana Grande', '3', '12', '\"ATM\" ◁', 'J. Cole', '6', '1', '\"Kevin\\'s Heart\" ◁', 'J. Cole', '8', '1', '\"KOD\" ◁', 'J. Cole', '10', '1', '\"Never Be the Same\"', 'Camila Cabello', '6', '3', '\"Better Now\"[N] ◁', 'Post Malone', '3', '19', '\"This Is America\" ◁', 'Childish Gambino', '1', '5', '\"Yes Indeed\"', 'Lil Baby and Drake', '6', '2', '\"Boo\\'d Up\"[M]', 'Ella Mai', '5', '12', '\"Fake Love\" ◁', 'BTS', '10', '1', '\"Girls Like You\"[U] (#10)', 'Maroon 5 featuring Cardi B', '1', '33', '\"Yikes\" ◁', 'Kanye West', '8', '1', '\"Lucid Dreams\"[M]', 'Juice Wrld', '2', '26', '\"Nonstop\" ◁', 'Drake', '2', '1', '\"In My Feelings\" (#9) ◁', 'Drake', '1', '14', '\"I\\'m Upset\"', 'Drake', '7', '1', '\"Emotionless\" ◁', 'Drake', '8', '1', '\"Don\\'t Matter to Me\" ◁', 'Drake featuring Michael Jackson', '9', '1', '\"Fefe\"[R] ◁', '6ix9ine featuring Nicki Minaj and Murda Beatz', '3', '11', '\"Taste\"', 'Tyga featuring Offset', '8', '8', '\"No Brainer\"[O] ◁', 'DJ Khaled featuring Justin Bieber, Chance the Rapper and Quavo', '5', '2', '\"Sicko Mode\" ◁', 'Travis Scott', '1', '32', '\"Stargazing\" ◁', 'Travis Scott', '8', '1', '\"God Is a Woman\"', 'Ariana Grande', '8', '2', '\"Love Lies\"[Q][S]', 'Khalid and Normani', '9', '3', '\"Lucky You\" ◁', 'Eminem featuring Joyner Lucas', '6', '1', '\"The Ringer\" ◁', 'Eminem', '8', '1', '\"I Love It\" ◁', 'Kanye West and Lil Pump', '6', '3', '\"Killshot\" ◁', 'Eminem', '3', '2', '\"Youngblood\"', '5 Seconds of Summer', '7', '7', '\"Mona Lisa\" ◁', 'Lil Wayne featuring Kendrick Lamar', '2', '1', '\"Don\\'t Cry\" ◁', 'Lil Wayne featuring XXXTentacion', '5', '1', '\"Uproar\" ◁', 'Lil Wayne', '7', '1', '\"Let It Fly\" ◁', 'Lil Wayne featuring Travis Scott', '10', '1', '\"Drip Too Hard\"', 'Lil Baby and Gunna', '4', '15', '\"Zeze\" ◁', 'Kodak Black featuring Travis Scott and Offset', '2', '13', '\"Mia\" ◁', 'Bad Bunny featuring Drake', '5', '1', '\"Mo Bamba\"', 'Sheck Wes', '6', '6', '\"Thank U, Next\" ◁', 'Ariana Grande', '1', '17', '\"Going Bad\" ◁', 'Meek Mill featuring Drake', '6', '2', '\"It\\'s the Most Wonderful Time of the Year\"', 'Andy Williams', '10', '1']\n"
    }
   ],
   "source": [
    "print(Titles)"
   ]
  },
  {
   "cell_type": "code",
   "execution_count": 204,
   "metadata": {},
   "outputs": [],
   "source": [
    "nptitles = np.asarray(Titles).copy()"
   ]
  },
  {
   "cell_type": "code",
   "execution_count": 205,
   "metadata": {},
   "outputs": [
    {
     "data": {
      "text/plain": "256"
     },
     "execution_count": 205,
     "metadata": {},
     "output_type": "execute_result"
    }
   ],
   "source": [
    "len(nptitles)"
   ]
  },
  {
   "cell_type": "code",
   "execution_count": 206,
   "metadata": {},
   "outputs": [],
   "source": [
    "numsongs = int(np.prod(nptitles.shape)/4) # Find out how many songs are in this list.\n",
    "reshaped = nptitles.reshape(numsongs,4) # Reshape the array based on the number of songs and the number of columns."
   ]
  },
  {
   "cell_type": "code",
   "execution_count": 207,
   "metadata": {},
   "outputs": [],
   "source": [
    "songdata = pd.DataFrame(reshaped)\n",
    "songdata.columns = ['Title','Artist','Peak','Number of weeks in top ten']\n",
    "songdata['Year'] = str(year)\n",
    "songdata['Title'] = [i[1:i.rfind('\\\"')] for i in songdata['Title']] # Drops quotation marks and annotations in Title.\n",
    "cleanweeks = []\n",
    "if year == now.year:\n",
    "    for i in songdata['Number of weeks in top ten']: # This code searches the number of weeks in top ten column for asterisks and eliminates them. This is only a \n",
    "        try:                                         # problem in the current year.\n",
    "            cleanweeks.append(int(i[:i.rindex('*')]))\n",
    "        except ValueError:\n",
    "            cleanweeks.append(int(i))\n",
    "\n",
    "    songdata['Number of weeks in top ten'] = cleanweeks"
   ]
  },
  {
   "cell_type": "code",
   "execution_count": 208,
   "metadata": {},
   "outputs": [
    {
     "data": {
      "text/html": "<div>\n<style scoped>\n    .dataframe tbody tr th:only-of-type {\n        vertical-align: middle;\n    }\n\n    .dataframe tbody tr th {\n        vertical-align: top;\n    }\n\n    .dataframe thead th {\n        text-align: right;\n    }\n</style>\n<table border=\"1\" class=\"dataframe\">\n  <thead>\n    <tr style=\"text-align: right;\">\n      <th></th>\n      <th>Title</th>\n      <th>Artist</th>\n      <th>Peak</th>\n      <th>Number of weeks in top ten</th>\n      <th>Year</th>\n    </tr>\n  </thead>\n  <tbody>\n    <tr>\n      <th>0</th>\n      <td>Havana</td>\n      <td>Camila Cabello featuring Young Thug</td>\n      <td>1</td>\n      <td>23</td>\n      <td>2018</td>\n    </tr>\n    <tr>\n      <th>1</th>\n      <td>No Limit</td>\n      <td>G-Eazy featuring ASAP Rocky and Cardi B</td>\n      <td>4</td>\n      <td>9</td>\n      <td>2018</td>\n    </tr>\n    <tr>\n      <th>2</th>\n      <td>Bad at Love</td>\n      <td>Halsey</td>\n      <td>5</td>\n      <td>10</td>\n      <td>2018</td>\n    </tr>\n    <tr>\n      <th>3</th>\n      <td>Finesse</td>\n      <td>Bruno Mars and Cardi B</td>\n      <td>3</td>\n      <td>14</td>\n      <td>2018</td>\n    </tr>\n    <tr>\n      <th>4</th>\n      <td>Filthy</td>\n      <td>Justin Timberlake</td>\n      <td>9</td>\n      <td>1</td>\n      <td>2018</td>\n    </tr>\n    <tr>\n      <th>...</th>\n      <td>...</td>\n      <td>...</td>\n      <td>...</td>\n      <td>...</td>\n      <td>...</td>\n    </tr>\n    <tr>\n      <th>59</th>\n      <td>Mia</td>\n      <td>Bad Bunny featuring Drake</td>\n      <td>5</td>\n      <td>1</td>\n      <td>2018</td>\n    </tr>\n    <tr>\n      <th>60</th>\n      <td>Mo Bamba</td>\n      <td>Sheck Wes</td>\n      <td>6</td>\n      <td>6</td>\n      <td>2018</td>\n    </tr>\n    <tr>\n      <th>61</th>\n      <td>Thank U, Next</td>\n      <td>Ariana Grande</td>\n      <td>1</td>\n      <td>17</td>\n      <td>2018</td>\n    </tr>\n    <tr>\n      <th>62</th>\n      <td>Going Bad</td>\n      <td>Meek Mill featuring Drake</td>\n      <td>6</td>\n      <td>2</td>\n      <td>2018</td>\n    </tr>\n    <tr>\n      <th>63</th>\n      <td>It's the Most Wonderful Time of the Year</td>\n      <td>Andy Williams</td>\n      <td>10</td>\n      <td>1</td>\n      <td>2018</td>\n    </tr>\n  </tbody>\n</table>\n<p>64 rows × 5 columns</p>\n</div>",
      "text/plain": "                                       Title  \\\n0                                     Havana   \n1                                   No Limit   \n2                                Bad at Love   \n3                                    Finesse   \n4                                     Filthy   \n..                                       ...   \n59                                       Mia   \n60                                  Mo Bamba   \n61                             Thank U, Next   \n62                                 Going Bad   \n63  It's the Most Wonderful Time of the Year   \n\n                                     Artist Peak Number of weeks in top ten  \\\n0       Camila Cabello featuring Young Thug    1                         23   \n1   G-Eazy featuring ASAP Rocky and Cardi B    4                          9   \n2                                    Halsey    5                         10   \n3                    Bruno Mars and Cardi B    3                         14   \n4                         Justin Timberlake    9                          1   \n..                                      ...  ...                        ...   \n59                Bad Bunny featuring Drake    5                          1   \n60                                Sheck Wes    6                          6   \n61                            Ariana Grande    1                         17   \n62                Meek Mill featuring Drake    6                          2   \n63                            Andy Williams   10                          1   \n\n    Year  \n0   2018  \n1   2018  \n2   2018  \n3   2018  \n4   2018  \n..   ...  \n59  2018  \n60  2018  \n61  2018  \n62  2018  \n63  2018  \n\n[64 rows x 5 columns]"
     },
     "execution_count": 208,
     "metadata": {},
     "output_type": "execute_result"
    }
   ],
   "source": [
    "songdata"
   ]
  },
  {
   "cell_type": "code",
   "execution_count": 188,
   "metadata": {},
   "outputs": [],
   "source": [
    "songdata.to_csv(path_or_buf='data/' + str(year) + 'top10songs.csv',index=False) # Export our sample data table."
   ]
  },
  {
   "cell_type": "code",
   "execution_count": null,
   "metadata": {},
   "outputs": [],
   "source": []
  }
 ]
}